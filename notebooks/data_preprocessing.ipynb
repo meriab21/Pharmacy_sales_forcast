{
 "cells": [
  {
   "cell_type": "markdown",
   "source": [
    "# Data Preprocessing"
   ],
   "metadata": {}
  },
  {
   "cell_type": "markdown",
   "source": [
    "## Importing Libraries"
   ],
   "metadata": {}
  },
  {
   "cell_type": "code",
   "execution_count": 33,
   "source": [
    "#importing Libraries\r\n",
    "import pandas as pd\r\n",
    "import os\r\n",
    "import sys\r\n",
    "\r\n",
    "#import local libraries\r\n",
    "#Adding scripts path\r\n",
    "sys.path.append(os.path.abspath(os.path.join('..')))\r\n",
    "#importing dvc_data_loader script\r\n",
    "# from scripts.dvc_data_loader import *\r\n",
    "from scripts.data_information import DataInfo\r\n",
    "from scripts.data_loader import load_df_from_csv\r\n",
    "from scripts.data_manipulation import DataManipulator\r\n",
    "from scripts.data_cleaner import DataCleaner\r\n",
    "from scripts.utlity_functions import convert_to_month_name\r\n",
    "from scripts.grapher import *\r\n",
    "from sklearn import preprocessing"
   ],
   "outputs": [],
   "metadata": {}
  },
  {
   "cell_type": "code",
   "execution_count": 34,
   "source": [
    "pd.set_option('max_column', None)\r\n"
   ],
   "outputs": [],
   "metadata": {}
  },
  {
   "cell_type": "markdown",
   "source": [
    "## Loading Data"
   ],
   "metadata": {}
  },
  {
   "cell_type": "code",
   "execution_count": 59,
   "source": [
    "combined_df = load_df_from_csv('../data/train.csv')\r\n",
    "combined_df.info()"
   ],
   "outputs": [
    {
     "output_type": "stream",
     "name": "stdout",
     "text": [
      "<class 'pandas.core.frame.DataFrame'>\n",
      "RangeIndex: 1017209 entries, 0 to 1017208\n",
      "Data columns (total 22 columns):\n",
      " #   Column                     Non-Null Count    Dtype  \n",
      "---  ------                     --------------    -----  \n",
      " 0   Unnamed: 0                 1017209 non-null  uint32 \n",
      " 1   Store                      1017209 non-null  uint16 \n",
      " 2   DayOfWeek                  1017209 non-null  uint8  \n",
      " 3   Date                       1017209 non-null  object \n",
      " 4   Year                       1017209 non-null  uint16 \n",
      " 5   Month                      1017209 non-null  uint8  \n",
      " 6   Day                        1017209 non-null  uint8  \n",
      " 7   Sales                      1017209 non-null  uint16 \n",
      " 8   Customers                  1017209 non-null  uint16 \n",
      " 9   Open                       1017209 non-null  uint8  \n",
      " 10  Promo                      1017209 non-null  uint8  \n",
      " 11  StateHoliday               1017209 non-null  object \n",
      " 12  SchoolHoliday              1017209 non-null  uint8  \n",
      " 13  StoreType                  1017209 non-null  object \n",
      " 14  Assortment                 1017209 non-null  object \n",
      " 15  CompetitionDistance        1014567 non-null  float32\n",
      " 16  CompetitionOpenSinceMonth  693861 non-null   float32\n",
      " 17  CompetitionOpenSinceYear   693861 non-null   float32\n",
      " 18  Promo2                     1017209 non-null  uint8  \n",
      " 19  Promo2SinceWeek            509178 non-null   float32\n",
      " 20  Promo2SinceYear            509178 non-null   float32\n",
      " 21  PromoInterval              509178 non-null   object \n",
      "dtypes: float32(5), object(5), uint16(4), uint32(1), uint8(7)\n",
      "memory usage: 76.6+ MB\n"
     ]
    }
   ],
   "metadata": {}
  },
  {
   "cell_type": "code",
   "execution_count": 39,
   "source": [
    "combined_df.head(5)"
   ],
   "outputs": [
    {
     "output_type": "execute_result",
     "data": {
      "text/plain": [
       "   Unnamed: 0  Store  DayOfWeek        Date  Year  Month  Day  Sales  \\\n",
       "0           0      1          5  2015-07-31  2015      7   31   5263   \n",
       "1           1      1          4  2015-07-30  2015      7   30   5020   \n",
       "2           2      1          3  2015-07-29  2015      7   29   4782   \n",
       "3           3      1          2  2015-07-28  2015      7   28   5011   \n",
       "4           4      1          1  2015-07-27  2015      7   27   6102   \n",
       "\n",
       "   Customers  Open  Promo StateHoliday  SchoolHoliday StoreType Assortment  \\\n",
       "0        555     1      1            0              1         c          a   \n",
       "1        546     1      1            0              1         c          a   \n",
       "2        523     1      1            0              1         c          a   \n",
       "3        560     1      1            0              1         c          a   \n",
       "4        612     1      1            0              1         c          a   \n",
       "\n",
       "   CompetitionDistance  CompetitionOpenSinceMonth  CompetitionOpenSinceYear  \\\n",
       "0               1270.0                        9.0                    2008.0   \n",
       "1               1270.0                        9.0                    2008.0   \n",
       "2               1270.0                        9.0                    2008.0   \n",
       "3               1270.0                        9.0                    2008.0   \n",
       "4               1270.0                        9.0                    2008.0   \n",
       "\n",
       "   Promo2  Promo2SinceWeek  Promo2SinceYear PromoInterval  \n",
       "0       0              NaN              NaN           NaN  \n",
       "1       0              NaN              NaN           NaN  \n",
       "2       0              NaN              NaN           NaN  \n",
       "3       0              NaN              NaN           NaN  \n",
       "4       0              NaN              NaN           NaN  "
      ],
      "text/html": [
       "<div>\n",
       "<style scoped>\n",
       "    .dataframe tbody tr th:only-of-type {\n",
       "        vertical-align: middle;\n",
       "    }\n",
       "\n",
       "    .dataframe tbody tr th {\n",
       "        vertical-align: top;\n",
       "    }\n",
       "\n",
       "    .dataframe thead th {\n",
       "        text-align: right;\n",
       "    }\n",
       "</style>\n",
       "<table border=\"1\" class=\"dataframe\">\n",
       "  <thead>\n",
       "    <tr style=\"text-align: right;\">\n",
       "      <th></th>\n",
       "      <th>Unnamed: 0</th>\n",
       "      <th>Store</th>\n",
       "      <th>DayOfWeek</th>\n",
       "      <th>Date</th>\n",
       "      <th>Year</th>\n",
       "      <th>Month</th>\n",
       "      <th>Day</th>\n",
       "      <th>Sales</th>\n",
       "      <th>Customers</th>\n",
       "      <th>Open</th>\n",
       "      <th>Promo</th>\n",
       "      <th>StateHoliday</th>\n",
       "      <th>SchoolHoliday</th>\n",
       "      <th>StoreType</th>\n",
       "      <th>Assortment</th>\n",
       "      <th>CompetitionDistance</th>\n",
       "      <th>CompetitionOpenSinceMonth</th>\n",
       "      <th>CompetitionOpenSinceYear</th>\n",
       "      <th>Promo2</th>\n",
       "      <th>Promo2SinceWeek</th>\n",
       "      <th>Promo2SinceYear</th>\n",
       "      <th>PromoInterval</th>\n",
       "    </tr>\n",
       "  </thead>\n",
       "  <tbody>\n",
       "    <tr>\n",
       "      <th>0</th>\n",
       "      <td>0</td>\n",
       "      <td>1</td>\n",
       "      <td>5</td>\n",
       "      <td>2015-07-31</td>\n",
       "      <td>2015</td>\n",
       "      <td>7</td>\n",
       "      <td>31</td>\n",
       "      <td>5263</td>\n",
       "      <td>555</td>\n",
       "      <td>1</td>\n",
       "      <td>1</td>\n",
       "      <td>0</td>\n",
       "      <td>1</td>\n",
       "      <td>c</td>\n",
       "      <td>a</td>\n",
       "      <td>1270.0</td>\n",
       "      <td>9.0</td>\n",
       "      <td>2008.0</td>\n",
       "      <td>0</td>\n",
       "      <td>NaN</td>\n",
       "      <td>NaN</td>\n",
       "      <td>NaN</td>\n",
       "    </tr>\n",
       "    <tr>\n",
       "      <th>1</th>\n",
       "      <td>1</td>\n",
       "      <td>1</td>\n",
       "      <td>4</td>\n",
       "      <td>2015-07-30</td>\n",
       "      <td>2015</td>\n",
       "      <td>7</td>\n",
       "      <td>30</td>\n",
       "      <td>5020</td>\n",
       "      <td>546</td>\n",
       "      <td>1</td>\n",
       "      <td>1</td>\n",
       "      <td>0</td>\n",
       "      <td>1</td>\n",
       "      <td>c</td>\n",
       "      <td>a</td>\n",
       "      <td>1270.0</td>\n",
       "      <td>9.0</td>\n",
       "      <td>2008.0</td>\n",
       "      <td>0</td>\n",
       "      <td>NaN</td>\n",
       "      <td>NaN</td>\n",
       "      <td>NaN</td>\n",
       "    </tr>\n",
       "    <tr>\n",
       "      <th>2</th>\n",
       "      <td>2</td>\n",
       "      <td>1</td>\n",
       "      <td>3</td>\n",
       "      <td>2015-07-29</td>\n",
       "      <td>2015</td>\n",
       "      <td>7</td>\n",
       "      <td>29</td>\n",
       "      <td>4782</td>\n",
       "      <td>523</td>\n",
       "      <td>1</td>\n",
       "      <td>1</td>\n",
       "      <td>0</td>\n",
       "      <td>1</td>\n",
       "      <td>c</td>\n",
       "      <td>a</td>\n",
       "      <td>1270.0</td>\n",
       "      <td>9.0</td>\n",
       "      <td>2008.0</td>\n",
       "      <td>0</td>\n",
       "      <td>NaN</td>\n",
       "      <td>NaN</td>\n",
       "      <td>NaN</td>\n",
       "    </tr>\n",
       "    <tr>\n",
       "      <th>3</th>\n",
       "      <td>3</td>\n",
       "      <td>1</td>\n",
       "      <td>2</td>\n",
       "      <td>2015-07-28</td>\n",
       "      <td>2015</td>\n",
       "      <td>7</td>\n",
       "      <td>28</td>\n",
       "      <td>5011</td>\n",
       "      <td>560</td>\n",
       "      <td>1</td>\n",
       "      <td>1</td>\n",
       "      <td>0</td>\n",
       "      <td>1</td>\n",
       "      <td>c</td>\n",
       "      <td>a</td>\n",
       "      <td>1270.0</td>\n",
       "      <td>9.0</td>\n",
       "      <td>2008.0</td>\n",
       "      <td>0</td>\n",
       "      <td>NaN</td>\n",
       "      <td>NaN</td>\n",
       "      <td>NaN</td>\n",
       "    </tr>\n",
       "    <tr>\n",
       "      <th>4</th>\n",
       "      <td>4</td>\n",
       "      <td>1</td>\n",
       "      <td>1</td>\n",
       "      <td>2015-07-27</td>\n",
       "      <td>2015</td>\n",
       "      <td>7</td>\n",
       "      <td>27</td>\n",
       "      <td>6102</td>\n",
       "      <td>612</td>\n",
       "      <td>1</td>\n",
       "      <td>1</td>\n",
       "      <td>0</td>\n",
       "      <td>1</td>\n",
       "      <td>c</td>\n",
       "      <td>a</td>\n",
       "      <td>1270.0</td>\n",
       "      <td>9.0</td>\n",
       "      <td>2008.0</td>\n",
       "      <td>0</td>\n",
       "      <td>NaN</td>\n",
       "      <td>NaN</td>\n",
       "      <td>NaN</td>\n",
       "    </tr>\n",
       "  </tbody>\n",
       "</table>\n",
       "</div>"
      ]
     },
     "metadata": {},
     "execution_count": 39
    }
   ],
   "metadata": {}
  },
  {
   "cell_type": "code",
   "execution_count": 60,
   "source": [
    "combined_df.drop(['Unnamed: 0'], axis=1, inplace=True)"
   ],
   "outputs": [],
   "metadata": {}
  },
  {
   "cell_type": "code",
   "execution_count": 4,
   "source": [
    "# Saving Holiday dates for later prediciton\r\n",
    "holiday_days = combined_df[['Month', 'Day', 'StateHoliday']]\r\n",
    "holiday_days = holiday_days[holiday_days['StateHoliday'] != 0]\r\n",
    "holiday_days = holiday_days[holiday_days['StateHoliday'] != '0']\r\n",
    "holiday_days = holiday_days.drop_duplicates()\r\n",
    "holiday_days.drop('StateHoliday', axis=1, inplace=True)\r\n",
    "holiday_days.to_csv('../models/holiday_reference.csv', index=False)"
   ],
   "outputs": [],
   "metadata": {}
  },
  {
   "cell_type": "markdown",
   "source": [
    "## Handling None and Empty Values"
   ],
   "metadata": {}
  },
  {
   "cell_type": "code",
   "execution_count": 61,
   "source": [
    "info = DataInfo(combined_df)\r\n",
    "info.get_column_based_missing_percentage()"
   ],
   "outputs": [
    {
     "output_type": "execute_result",
     "data": {
      "text/plain": [
       "                           total_missing_values missing_percentage\n",
       "Store                                         0              0.0 %\n",
       "DayOfWeek                                     0              0.0 %\n",
       "Date                                          0              0.0 %\n",
       "Year                                          0              0.0 %\n",
       "Month                                         0              0.0 %\n",
       "Day                                           0              0.0 %\n",
       "Sales                                         0              0.0 %\n",
       "Customers                                     0              0.0 %\n",
       "Open                                          0              0.0 %\n",
       "Promo                                         0              0.0 %\n",
       "StateHoliday                                  0              0.0 %\n",
       "SchoolHoliday                                 0              0.0 %\n",
       "StoreType                                     0              0.0 %\n",
       "Assortment                                    0              0.0 %\n",
       "CompetitionDistance                        2642             0.26 %\n",
       "CompetitionOpenSinceMonth                323348            31.79 %\n",
       "CompetitionOpenSinceYear                 323348            31.79 %\n",
       "Promo2                                        0              0.0 %\n",
       "Promo2SinceWeek                          508031            49.94 %\n",
       "Promo2SinceYear                          508031            49.94 %\n",
       "PromoInterval                            508031            49.94 %"
      ],
      "text/html": [
       "<div>\n",
       "<style scoped>\n",
       "    .dataframe tbody tr th:only-of-type {\n",
       "        vertical-align: middle;\n",
       "    }\n",
       "\n",
       "    .dataframe tbody tr th {\n",
       "        vertical-align: top;\n",
       "    }\n",
       "\n",
       "    .dataframe thead th {\n",
       "        text-align: right;\n",
       "    }\n",
       "</style>\n",
       "<table border=\"1\" class=\"dataframe\">\n",
       "  <thead>\n",
       "    <tr style=\"text-align: right;\">\n",
       "      <th></th>\n",
       "      <th>total_missing_values</th>\n",
       "      <th>missing_percentage</th>\n",
       "    </tr>\n",
       "  </thead>\n",
       "  <tbody>\n",
       "    <tr>\n",
       "      <th>Store</th>\n",
       "      <td>0</td>\n",
       "      <td>0.0 %</td>\n",
       "    </tr>\n",
       "    <tr>\n",
       "      <th>DayOfWeek</th>\n",
       "      <td>0</td>\n",
       "      <td>0.0 %</td>\n",
       "    </tr>\n",
       "    <tr>\n",
       "      <th>Date</th>\n",
       "      <td>0</td>\n",
       "      <td>0.0 %</td>\n",
       "    </tr>\n",
       "    <tr>\n",
       "      <th>Year</th>\n",
       "      <td>0</td>\n",
       "      <td>0.0 %</td>\n",
       "    </tr>\n",
       "    <tr>\n",
       "      <th>Month</th>\n",
       "      <td>0</td>\n",
       "      <td>0.0 %</td>\n",
       "    </tr>\n",
       "    <tr>\n",
       "      <th>Day</th>\n",
       "      <td>0</td>\n",
       "      <td>0.0 %</td>\n",
       "    </tr>\n",
       "    <tr>\n",
       "      <th>Sales</th>\n",
       "      <td>0</td>\n",
       "      <td>0.0 %</td>\n",
       "    </tr>\n",
       "    <tr>\n",
       "      <th>Customers</th>\n",
       "      <td>0</td>\n",
       "      <td>0.0 %</td>\n",
       "    </tr>\n",
       "    <tr>\n",
       "      <th>Open</th>\n",
       "      <td>0</td>\n",
       "      <td>0.0 %</td>\n",
       "    </tr>\n",
       "    <tr>\n",
       "      <th>Promo</th>\n",
       "      <td>0</td>\n",
       "      <td>0.0 %</td>\n",
       "    </tr>\n",
       "    <tr>\n",
       "      <th>StateHoliday</th>\n",
       "      <td>0</td>\n",
       "      <td>0.0 %</td>\n",
       "    </tr>\n",
       "    <tr>\n",
       "      <th>SchoolHoliday</th>\n",
       "      <td>0</td>\n",
       "      <td>0.0 %</td>\n",
       "    </tr>\n",
       "    <tr>\n",
       "      <th>StoreType</th>\n",
       "      <td>0</td>\n",
       "      <td>0.0 %</td>\n",
       "    </tr>\n",
       "    <tr>\n",
       "      <th>Assortment</th>\n",
       "      <td>0</td>\n",
       "      <td>0.0 %</td>\n",
       "    </tr>\n",
       "    <tr>\n",
       "      <th>CompetitionDistance</th>\n",
       "      <td>2642</td>\n",
       "      <td>0.26 %</td>\n",
       "    </tr>\n",
       "    <tr>\n",
       "      <th>CompetitionOpenSinceMonth</th>\n",
       "      <td>323348</td>\n",
       "      <td>31.79 %</td>\n",
       "    </tr>\n",
       "    <tr>\n",
       "      <th>CompetitionOpenSinceYear</th>\n",
       "      <td>323348</td>\n",
       "      <td>31.79 %</td>\n",
       "    </tr>\n",
       "    <tr>\n",
       "      <th>Promo2</th>\n",
       "      <td>0</td>\n",
       "      <td>0.0 %</td>\n",
       "    </tr>\n",
       "    <tr>\n",
       "      <th>Promo2SinceWeek</th>\n",
       "      <td>508031</td>\n",
       "      <td>49.94 %</td>\n",
       "    </tr>\n",
       "    <tr>\n",
       "      <th>Promo2SinceYear</th>\n",
       "      <td>508031</td>\n",
       "      <td>49.94 %</td>\n",
       "    </tr>\n",
       "    <tr>\n",
       "      <th>PromoInterval</th>\n",
       "      <td>508031</td>\n",
       "      <td>49.94 %</td>\n",
       "    </tr>\n",
       "  </tbody>\n",
       "</table>\n",
       "</div>"
      ]
     },
     "metadata": {},
     "execution_count": 61
    }
   ],
   "metadata": {}
  },
  {
   "cell_type": "code",
   "execution_count": 62,
   "source": [
    "manipulator = DataManipulator(combined_df)\r\n",
    "# Fill missing numeric values\r\n",
    "manipulator.fill_columns_with_max(info.get_numeric_columns())\r\n",
    "# Fill non-numeric values (categorical values)\r\n",
    "manipulator.fill_columns_with_most_frequent(info.get_object_columns())\r\n"
   ],
   "outputs": [],
   "metadata": {}
  },
  {
   "cell_type": "code",
   "execution_count": 63,
   "source": [
    "info.get_columns_with_missing_values()"
   ],
   "outputs": [
    {
     "output_type": "execute_result",
     "data": {
      "text/plain": [
       "[]"
      ]
     },
     "metadata": {},
     "execution_count": 63
    }
   ],
   "metadata": {}
  },
  {
   "cell_type": "markdown",
   "source": [
    "## Adding Additional Extracted Data"
   ],
   "metadata": {}
  },
  {
   "cell_type": "markdown",
   "source": [
    "### WeekDays"
   ],
   "metadata": {}
  },
  {
   "cell_type": "code",
   "execution_count": 64,
   "source": [
    "manipulator.add_week_day('DayOfWeek')"
   ],
   "outputs": [
    {
     "output_type": "stream",
     "name": "stderr",
     "text": [
      "Data Manipulatior:INFO->Successfully Added WeekDay Column to the DataFrame\n"
     ]
    }
   ],
   "metadata": {}
  },
  {
   "cell_type": "markdown",
   "source": [
    "### WeekEnds\r\n"
   ],
   "metadata": {}
  },
  {
   "cell_type": "markdown",
   "source": [
    "> Doesnt Add additional information"
   ],
   "metadata": {}
  },
  {
   "cell_type": "code",
   "execution_count": 65,
   "source": [
    "# combined_df.add_week_ends(combined_df, 'DayOfWeek')\r\n"
   ],
   "outputs": [],
   "metadata": {}
  },
  {
   "cell_type": "markdown",
   "source": [
    "### Number of days to Holidays\r\n"
   ],
   "metadata": {}
  },
  {
   "cell_type": "code",
   "execution_count": 66,
   "source": [
    "manipulator.add_number_of_days_to_holiday('StateHoliday')\r\n"
   ],
   "outputs": [
    {
     "output_type": "stream",
     "name": "stderr",
     "text": [
      "Data Manipulatior:INFO->Successfully Added DaysToHoliday Column\n"
     ]
    }
   ],
   "metadata": {}
  },
  {
   "cell_type": "markdown",
   "source": [
    "### Number of days after Holiday\r\n"
   ],
   "metadata": {}
  },
  {
   "cell_type": "code",
   "execution_count": 67,
   "source": [
    "manipulator.add_number_of_days_after_holiday('StateHoliday')\r\n"
   ],
   "outputs": [
    {
     "output_type": "stream",
     "name": "stderr",
     "text": [
      "Data Manipulatior:INFO->Successfully Added DaysAfterHoliday Column\n"
     ]
    }
   ],
   "metadata": {}
  },
  {
   "cell_type": "markdown",
   "source": [
    "### Beginning of month, mid month and ending of month\r\n"
   ],
   "metadata": {}
  },
  {
   "cell_type": "code",
   "execution_count": 68,
   "source": [
    "manipulator.add_month_timing('Day')\r\n"
   ],
   "outputs": [
    {
     "output_type": "stream",
     "name": "stderr",
     "text": [
      "Data Manipulatior:INFO->Successfully Added MonthTiming Column\n"
     ]
    }
   ],
   "metadata": {}
  },
  {
   "cell_type": "markdown",
   "source": [
    "### More Features"
   ],
   "metadata": {}
  },
  {
   "cell_type": "markdown",
   "source": [
    "### Season (Winter, April, ...)"
   ],
   "metadata": {}
  },
  {
   "cell_type": "code",
   "execution_count": 69,
   "source": [
    "manipulator.add_season('Month')\r\n"
   ],
   "outputs": [
    {
     "output_type": "stream",
     "name": "stderr",
     "text": [
      "Data Manipulatior:INFO->Successfully Added Season Column\n"
     ]
    }
   ],
   "metadata": {}
  },
  {
   "cell_type": "code",
   "execution_count": 70,
   "source": [
    "## Added dataframe status\r\n",
    "combined_df.info()"
   ],
   "outputs": [
    {
     "output_type": "stream",
     "name": "stdout",
     "text": [
      "<class 'pandas.core.frame.DataFrame'>\n",
      "RangeIndex: 1017209 entries, 0 to 1017208\n",
      "Data columns (total 26 columns):\n",
      " #   Column                     Non-Null Count    Dtype  \n",
      "---  ------                     --------------    -----  \n",
      " 0   Store                      1017209 non-null  uint16 \n",
      " 1   DayOfWeek                  1017209 non-null  uint8  \n",
      " 2   WeekDay                    1017209 non-null  int64  \n",
      " 3   Date                       1017209 non-null  object \n",
      " 4   Year                       1017209 non-null  uint16 \n",
      " 5   Month                      1017209 non-null  uint8  \n",
      " 6   Season                     1017209 non-null  object \n",
      " 7   Day                        1017209 non-null  uint8  \n",
      " 8   MonthTiming                1017209 non-null  int64  \n",
      " 9   Sales                      1017209 non-null  uint16 \n",
      " 10  Customers                  1017209 non-null  uint16 \n",
      " 11  Open                       1017209 non-null  uint8  \n",
      " 12  Promo                      1017209 non-null  uint8  \n",
      " 13  StateHoliday               1017209 non-null  object \n",
      " 14  DaysAfterHoliday           1017209 non-null  int64  \n",
      " 15  DaysToHoliday              1017209 non-null  int64  \n",
      " 16  SchoolHoliday              1017209 non-null  uint8  \n",
      " 17  StoreType                  1017209 non-null  object \n",
      " 18  Assortment                 1017209 non-null  object \n",
      " 19  CompetitionDistance        1017209 non-null  float32\n",
      " 20  CompetitionOpenSinceMonth  1017209 non-null  float32\n",
      " 21  CompetitionOpenSinceYear   1017209 non-null  float32\n",
      " 22  Promo2                     1017209 non-null  uint8  \n",
      " 23  Promo2SinceWeek            1017209 non-null  float32\n",
      " 24  Promo2SinceYear            1017209 non-null  float32\n",
      " 25  PromoInterval              1017209 non-null  object \n",
      "dtypes: float32(5), int64(4), object(6), uint16(4), uint8(7)\n",
      "memory usage: 111.6+ MB\n"
     ]
    }
   ],
   "metadata": {}
  },
  {
   "cell_type": "markdown",
   "source": [
    "## Drop Columns"
   ],
   "metadata": {}
  },
  {
   "cell_type": "code",
   "execution_count": 71,
   "source": [
    "# Store\tDate\tCustomers\r\n",
    "combined_df.drop(['Store','Date','Customers'],axis=1,inplace=True)"
   ],
   "outputs": [],
   "metadata": {}
  },
  {
   "cell_type": "code",
   "execution_count": 72,
   "source": [
    "## Dropped dataframe status\r\n",
    "combined_df.info()\r\n"
   ],
   "outputs": [
    {
     "output_type": "stream",
     "name": "stdout",
     "text": [
      "<class 'pandas.core.frame.DataFrame'>\n",
      "RangeIndex: 1017209 entries, 0 to 1017208\n",
      "Data columns (total 23 columns):\n",
      " #   Column                     Non-Null Count    Dtype  \n",
      "---  ------                     --------------    -----  \n",
      " 0   DayOfWeek                  1017209 non-null  uint8  \n",
      " 1   WeekDay                    1017209 non-null  int64  \n",
      " 2   Year                       1017209 non-null  uint16 \n",
      " 3   Month                      1017209 non-null  uint8  \n",
      " 4   Season                     1017209 non-null  object \n",
      " 5   Day                        1017209 non-null  uint8  \n",
      " 6   MonthTiming                1017209 non-null  int64  \n",
      " 7   Sales                      1017209 non-null  uint16 \n",
      " 8   Open                       1017209 non-null  uint8  \n",
      " 9   Promo                      1017209 non-null  uint8  \n",
      " 10  StateHoliday               1017209 non-null  object \n",
      " 11  DaysAfterHoliday           1017209 non-null  int64  \n",
      " 12  DaysToHoliday              1017209 non-null  int64  \n",
      " 13  SchoolHoliday              1017209 non-null  uint8  \n",
      " 14  StoreType                  1017209 non-null  object \n",
      " 15  Assortment                 1017209 non-null  object \n",
      " 16  CompetitionDistance        1017209 non-null  float32\n",
      " 17  CompetitionOpenSinceMonth  1017209 non-null  float32\n",
      " 18  CompetitionOpenSinceYear   1017209 non-null  float32\n",
      " 19  Promo2                     1017209 non-null  uint8  \n",
      " 20  Promo2SinceWeek            1017209 non-null  float32\n",
      " 21  Promo2SinceYear            1017209 non-null  float32\n",
      " 22  PromoInterval              1017209 non-null  object \n",
      "dtypes: float32(5), int64(4), object(5), uint16(2), uint8(7)\n",
      "memory usage: 99.9+ MB\n"
     ]
    }
   ],
   "metadata": {}
  },
  {
   "cell_type": "markdown",
   "source": [
    "# Save UnLabeled Data"
   ],
   "metadata": {}
  },
  {
   "cell_type": "code",
   "execution_count": null,
   "source": [
    "unlabeled_data = DataCleaner(combined_df)\r\n",
    "unlabeled_data.save_clean_data('../data/train.csv')\r\n"
   ],
   "outputs": [],
   "metadata": {}
  },
  {
   "cell_type": "markdown",
   "source": [
    "## Encoding Data to Numbers"
   ],
   "metadata": {}
  },
  {
   "cell_type": "code",
   "execution_count": 73,
   "source": [
    "# Label Object type data columns (StoreType,Assortment,StateHoliday,Season)\r\n",
    "\r\n",
    "manipulator.label_columns(['Season', 'StateHoliday', 'StoreType', 'Assortment'])\r\n",
    "info.get_object_columns()\r\n"
   ],
   "outputs": [
    {
     "output_type": "execute_result",
     "data": {
      "text/plain": [
       "['PromoInterval']"
      ]
     },
     "metadata": {},
     "execution_count": 73
    }
   ],
   "metadata": {}
  },
  {
   "cell_type": "code",
   "execution_count": 74,
   "source": [
    "combined_df['PromoInterval'].value_counts()"
   ],
   "outputs": [
    {
     "output_type": "execute_result",
     "data": {
      "text/plain": [
       "Jan,Apr,Jul,Oct     801153\n",
       "Feb,May,Aug,Nov     118596\n",
       "Mar,Jun,Sept,Dec     97460\n",
       "Name: PromoInterval, dtype: int64"
      ]
     },
     "metadata": {},
     "execution_count": 74
    }
   ],
   "metadata": {}
  },
  {
   "cell_type": "code",
   "execution_count": 75,
   "source": [
    "manipulator.label_columns(['PromoInterval'])\r\n",
    "info.get_object_columns()\r\n"
   ],
   "outputs": [
    {
     "output_type": "execute_result",
     "data": {
      "text/plain": [
       "[]"
      ]
     },
     "metadata": {},
     "execution_count": 75
    }
   ],
   "metadata": {}
  },
  {
   "cell_type": "code",
   "execution_count": 76,
   "source": [
    "## Label Encoded dataframe status\r\n",
    "combined_df.info()"
   ],
   "outputs": [
    {
     "output_type": "stream",
     "name": "stdout",
     "text": [
      "<class 'pandas.core.frame.DataFrame'>\n",
      "RangeIndex: 1017209 entries, 0 to 1017208\n",
      "Data columns (total 23 columns):\n",
      " #   Column                     Non-Null Count    Dtype  \n",
      "---  ------                     --------------    -----  \n",
      " 0   DayOfWeek                  1017209 non-null  uint8  \n",
      " 1   WeekDay                    1017209 non-null  int64  \n",
      " 2   Year                       1017209 non-null  uint16 \n",
      " 3   Month                      1017209 non-null  uint8  \n",
      " 4   Season                     1017209 non-null  int32  \n",
      " 5   Day                        1017209 non-null  uint8  \n",
      " 6   MonthTiming                1017209 non-null  int64  \n",
      " 7   Sales                      1017209 non-null  uint16 \n",
      " 8   Open                       1017209 non-null  uint8  \n",
      " 9   Promo                      1017209 non-null  uint8  \n",
      " 10  StateHoliday               1017209 non-null  int32  \n",
      " 11  DaysAfterHoliday           1017209 non-null  int64  \n",
      " 12  DaysToHoliday              1017209 non-null  int64  \n",
      " 13  SchoolHoliday              1017209 non-null  uint8  \n",
      " 14  StoreType                  1017209 non-null  int32  \n",
      " 15  Assortment                 1017209 non-null  int32  \n",
      " 16  CompetitionDistance        1017209 non-null  float32\n",
      " 17  CompetitionOpenSinceMonth  1017209 non-null  float32\n",
      " 18  CompetitionOpenSinceYear   1017209 non-null  float32\n",
      " 19  Promo2                     1017209 non-null  uint8  \n",
      " 20  Promo2SinceWeek            1017209 non-null  float32\n",
      " 21  Promo2SinceYear            1017209 non-null  float32\n",
      " 22  PromoInterval              1017209 non-null  int32  \n",
      "dtypes: float32(5), int32(5), int64(4), uint16(2), uint8(7)\n",
      "memory usage: 80.5 MB\n"
     ]
    }
   ],
   "metadata": {}
  },
  {
   "cell_type": "markdown",
   "source": [
    "## Scaling Data"
   ],
   "metadata": {}
  },
  {
   "cell_type": "markdown",
   "source": [],
   "metadata": {}
  },
  {
   "cell_type": "code",
   "execution_count": 77,
   "source": [
    "# Using StandardScaler to standardize the all columns\r\n",
    "scale_list = combined_df.columns.to_list()\r\n",
    "# Scale\r\n",
    "manipulator.standardize_columns(scale_list)\r\n",
    "info.get_min_max_of_dataframe_columns()"
   ],
   "outputs": [
    {
     "output_type": "execute_result",
     "data": {
      "text/plain": [
       "                           Max Value  Min Value\n",
       "DayOfWeek                   1.502791  -1.501129\n",
       "WeekDay                     0.630672  -1.585611\n",
       "Year                        1.502077  -1.070616\n",
       "Month                       1.849989  -1.457193\n",
       "Season                      1.333709  -1.498283\n",
       "Day                         1.740766  -1.673123\n",
       "MonthTiming                 1.205894  -1.236292\n",
       "Sales                       9.292957  -1.499723\n",
       "Open                        0.452399  -2.210440\n",
       "Promo                       1.273237  -0.785400\n",
       "StateHoliday               10.416984  -0.159217\n",
       "DaysAfterHoliday            5.003878  -0.377936\n",
       "DaysToHoliday               3.523598  -0.954803\n",
       "SchoolHoliday               2.144211  -0.466372\n",
       "StoreType                   1.312850  -0.884348\n",
       "Assortment                  1.071502  -0.940975\n",
       "CompetitionDistance         8.265971  -0.658131\n",
       "CompetitionOpenSinceMonth   0.941263  -2.236152\n",
       "CompetitionOpenSinceYear    0.747777 -19.232153\n",
       "Promo2                      0.998873  -1.001128\n",
       "Promo2SinceWeek             0.802373  -2.135949\n",
       "Promo2SinceYear             0.810673  -2.181765\n",
       "PromoInterval               2.217151  -2.126889"
      ],
      "text/html": [
       "<div>\n",
       "<style scoped>\n",
       "    .dataframe tbody tr th:only-of-type {\n",
       "        vertical-align: middle;\n",
       "    }\n",
       "\n",
       "    .dataframe tbody tr th {\n",
       "        vertical-align: top;\n",
       "    }\n",
       "\n",
       "    .dataframe thead th {\n",
       "        text-align: right;\n",
       "    }\n",
       "</style>\n",
       "<table border=\"1\" class=\"dataframe\">\n",
       "  <thead>\n",
       "    <tr style=\"text-align: right;\">\n",
       "      <th></th>\n",
       "      <th>Max Value</th>\n",
       "      <th>Min Value</th>\n",
       "    </tr>\n",
       "  </thead>\n",
       "  <tbody>\n",
       "    <tr>\n",
       "      <th>DayOfWeek</th>\n",
       "      <td>1.502791</td>\n",
       "      <td>-1.501129</td>\n",
       "    </tr>\n",
       "    <tr>\n",
       "      <th>WeekDay</th>\n",
       "      <td>0.630672</td>\n",
       "      <td>-1.585611</td>\n",
       "    </tr>\n",
       "    <tr>\n",
       "      <th>Year</th>\n",
       "      <td>1.502077</td>\n",
       "      <td>-1.070616</td>\n",
       "    </tr>\n",
       "    <tr>\n",
       "      <th>Month</th>\n",
       "      <td>1.849989</td>\n",
       "      <td>-1.457193</td>\n",
       "    </tr>\n",
       "    <tr>\n",
       "      <th>Season</th>\n",
       "      <td>1.333709</td>\n",
       "      <td>-1.498283</td>\n",
       "    </tr>\n",
       "    <tr>\n",
       "      <th>Day</th>\n",
       "      <td>1.740766</td>\n",
       "      <td>-1.673123</td>\n",
       "    </tr>\n",
       "    <tr>\n",
       "      <th>MonthTiming</th>\n",
       "      <td>1.205894</td>\n",
       "      <td>-1.236292</td>\n",
       "    </tr>\n",
       "    <tr>\n",
       "      <th>Sales</th>\n",
       "      <td>9.292957</td>\n",
       "      <td>-1.499723</td>\n",
       "    </tr>\n",
       "    <tr>\n",
       "      <th>Open</th>\n",
       "      <td>0.452399</td>\n",
       "      <td>-2.210440</td>\n",
       "    </tr>\n",
       "    <tr>\n",
       "      <th>Promo</th>\n",
       "      <td>1.273237</td>\n",
       "      <td>-0.785400</td>\n",
       "    </tr>\n",
       "    <tr>\n",
       "      <th>StateHoliday</th>\n",
       "      <td>10.416984</td>\n",
       "      <td>-0.159217</td>\n",
       "    </tr>\n",
       "    <tr>\n",
       "      <th>DaysAfterHoliday</th>\n",
       "      <td>5.003878</td>\n",
       "      <td>-0.377936</td>\n",
       "    </tr>\n",
       "    <tr>\n",
       "      <th>DaysToHoliday</th>\n",
       "      <td>3.523598</td>\n",
       "      <td>-0.954803</td>\n",
       "    </tr>\n",
       "    <tr>\n",
       "      <th>SchoolHoliday</th>\n",
       "      <td>2.144211</td>\n",
       "      <td>-0.466372</td>\n",
       "    </tr>\n",
       "    <tr>\n",
       "      <th>StoreType</th>\n",
       "      <td>1.312850</td>\n",
       "      <td>-0.884348</td>\n",
       "    </tr>\n",
       "    <tr>\n",
       "      <th>Assortment</th>\n",
       "      <td>1.071502</td>\n",
       "      <td>-0.940975</td>\n",
       "    </tr>\n",
       "    <tr>\n",
       "      <th>CompetitionDistance</th>\n",
       "      <td>8.265971</td>\n",
       "      <td>-0.658131</td>\n",
       "    </tr>\n",
       "    <tr>\n",
       "      <th>CompetitionOpenSinceMonth</th>\n",
       "      <td>0.941263</td>\n",
       "      <td>-2.236152</td>\n",
       "    </tr>\n",
       "    <tr>\n",
       "      <th>CompetitionOpenSinceYear</th>\n",
       "      <td>0.747777</td>\n",
       "      <td>-19.232153</td>\n",
       "    </tr>\n",
       "    <tr>\n",
       "      <th>Promo2</th>\n",
       "      <td>0.998873</td>\n",
       "      <td>-1.001128</td>\n",
       "    </tr>\n",
       "    <tr>\n",
       "      <th>Promo2SinceWeek</th>\n",
       "      <td>0.802373</td>\n",
       "      <td>-2.135949</td>\n",
       "    </tr>\n",
       "    <tr>\n",
       "      <th>Promo2SinceYear</th>\n",
       "      <td>0.810673</td>\n",
       "      <td>-2.181765</td>\n",
       "    </tr>\n",
       "    <tr>\n",
       "      <th>PromoInterval</th>\n",
       "      <td>2.217151</td>\n",
       "      <td>-2.126889</td>\n",
       "    </tr>\n",
       "  </tbody>\n",
       "</table>\n",
       "</div>"
      ]
     },
     "metadata": {},
     "execution_count": 77
    }
   ],
   "metadata": {}
  },
  {
   "cell_type": "markdown",
   "source": [
    "# Save Clean Data"
   ],
   "metadata": {}
  },
  {
   "cell_type": "code",
   "execution_count": 30,
   "source": [
    "cleaner = DataCleaner(info.df)\r\n",
    "cleaner.optimize_df()\r\n",
    "cleaner.save_clean_data('../data/train.csv')"
   ],
   "outputs": [],
   "metadata": {}
  },
  {
   "cell_type": "code",
   "execution_count": null,
   "source": [],
   "outputs": [],
   "metadata": {}
  }
 ],
 "metadata": {
  "orig_nbformat": 4,
  "language_info": {
   "name": "python",
   "version": "3.8.4",
   "mimetype": "text/x-python",
   "codemirror_mode": {
    "name": "ipython",
    "version": 3
   },
   "pygments_lexer": "ipython3",
   "nbconvert_exporter": "python",
   "file_extension": ".py"
  },
  "kernelspec": {
   "name": "python3",
   "display_name": "Python 3.8.4 64-bit"
  },
  "interpreter": {
   "hash": "2db524e06e9f5f4ffedc911c917cb75e12dbc923643829bf417064a77eb14d37"
  }
 },
 "nbformat": 4,
 "nbformat_minor": 2
}