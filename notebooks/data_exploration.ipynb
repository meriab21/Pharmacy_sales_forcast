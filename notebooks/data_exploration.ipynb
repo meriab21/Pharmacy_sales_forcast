{
 "cells": [
  {
   "cell_type": "markdown",
   "source": [
    "# Data Exploration"
   ],
   "metadata": {}
  },
  {
   "cell_type": "markdown",
   "source": [
    "The finance team wants to forecast sales in all their stores across several cities six weeks ahead of time."
   ],
   "metadata": {}
  },
  {
   "cell_type": "markdown",
   "source": [
    "- Id - an Id that represents a (Store, Date) duple within the test set\r\n",
    "- Store - a unique Id for each store\r\n",
    "- Sales - the turnover for any given day (this is what you are predicting)\r\n",
    "- Customers - the number of customers on a given day\r\n",
    "- Open - an indicator for whether the store was open: 0 = closed, 1 = open\r\n",
    "- StateHoliday - indicates a state holiday. Normally all stores, with few exceptions, are closed on state holidays. Note that all schools are closed on public holidays and weekends. a = public holiday, b = Easter holiday, c = Christmas, 0 = None\r\n",
    "- SchoolHoliday - indicates if the (Store, Date) was affected by the closure of public schools\r\n",
    "- StoreType - differentiates between 4 different store models: a, b, c, d\r\n",
    "- Assortment - describes an assortment level: a = basic, b = extra, c = extended. Read more about assortment here\r\n",
    "- CompetitionDistance - distance in meters to the nearest competitor store\r\n",
    "- CompetitionOpenSince[Month/Year] - gives the approximate year and month of the time the nearest competitor was opened\r\n",
    "- Promo - indicates whether a store is running a promo on that day\r\n",
    "- Promo2 - Promo2 is a continuing and consecutive promotion for some stores: 0 = store is not participating, 1 = store is participating\r\n",
    "- Promo2Since[Year/Week] - describes the year and calendar week when the store started participating in Promo2\r\n",
    "- PromoInterval - describes the consecutive intervals Promo2 is started, naming the months the promotion is started anew. E.g. \"Feb,May,Aug,Nov\" means each round starts in February, May, August, November of any given year for that store"
   ],
   "metadata": {}
  },
  {
   "cell_type": "markdown",
   "source": [
    "## Loading Data"
   ],
   "metadata": {}
  },
  {
   "cell_type": "code",
   "execution_count": 1,
   "source": [
    "#importing Libraries\r\n",
    "import pandas as pd\r\n",
    "import os\r\n",
    "import sys\r\n",
    "import numpy as np\r\n"
   ],
   "outputs": [],
   "metadata": {}
  },
  {
   "cell_type": "code",
   "execution_count": 2,
   "source": [
    "#import local libraries\r\n",
    "#Adding scripts path\r\n",
    "sys.path.append(os.path.abspath(os.path.join('..')))\r\n",
    "#importing dvc_data_loader script\r\n",
    "# from scripts.dvc_data_loader import *\r\n",
    "from scripts.data_information import DataInfo\r\n",
    "from scripts.data_loader import load_df_from_csv\r\n",
    "from scripts.data_manipulation import DataManipulator\r\n",
    "from scripts.data_cleaner import DataCleaner\r\n",
    "from scripts.utlity_functions import convert_to_month_name\r\n",
    "from scripts.grapher import *\r\n",
    "from scripts.dvc_data_loader import get_dvc_data\r\n",
    "from scripts.results_pickler import ResultPickler\r\n"
   ],
   "outputs": [],
   "metadata": {}
  },
  {
   "cell_type": "code",
   "execution_count": 3,
   "source": [
    "results = ResultPickler()"
   ],
   "outputs": [],
   "metadata": {}
  },
  {
   "cell_type": "code",
   "execution_count": 4,
   "source": [
    "#Loading the train data\r\n",
    "train_df = load_df_from_csv('../data/train.csv')\r\n",
    "train_data_info = DataInfo(train_df, deep=True)\r\n",
    "train_data_info.get_information()\r\n",
    "train_data_info.get_col_unique_value_count('Store')"
   ],
   "outputs": [
    {
     "output_type": "stream",
     "name": "stderr",
     "text": [
      "C:\\Python38\\lib\\site-packages\\IPython\\core\\interactiveshell.py:3357: DtypeWarning: Columns (7) have mixed types.Specify dtype option on import or set low_memory=False.\n",
      "  if (await self.run_code(code, result,  async_=asy)):\n"
     ]
    },
    {
     "output_type": "stream",
     "name": "stdout",
     "text": [
      "DataFrame Information: \n",
      "<class 'pandas.core.frame.DataFrame'>\n",
      "RangeIndex: 1017209 entries, 0 to 1017208\n",
      "Data columns (total 9 columns):\n",
      " #   Column         Non-Null Count    Dtype \n",
      "---  ------         --------------    ----- \n",
      " 0   Store          1017209 non-null  uint16\n",
      " 1   DayOfWeek      1017209 non-null  uint8 \n",
      " 2   Date           1017209 non-null  object\n",
      " 3   Sales          1017209 non-null  uint16\n",
      " 4   Customers      1017209 non-null  uint16\n",
      " 5   Open           1017209 non-null  uint8 \n",
      " 6   Promo          1017209 non-null  uint8 \n",
      " 7   StateHoliday   1017209 non-null  object\n",
      " 8   SchoolHoliday  1017209 non-null  uint8 \n",
      "dtypes: object(2), uint16(3), uint8(4)\n",
      "memory usage: 25.2+ MB\n",
      "Number of unique values in column Store is: 1115\n"
     ]
    }
   ],
   "metadata": {}
  },
  {
   "cell_type": "code",
   "execution_count": 5,
   "source": [
    "#Loading the store data\r\n",
    "store_df = load_df_from_csv('../data/store.csv')\r\n",
    "store_data_info = DataInfo(store_df, deep=True)\r\n",
    "store_data_info.get_information()\r\n"
   ],
   "outputs": [
    {
     "output_type": "stream",
     "name": "stdout",
     "text": [
      "DataFrame Information: \n",
      "<class 'pandas.core.frame.DataFrame'>\n",
      "RangeIndex: 1115 entries, 0 to 1114\n",
      "Data columns (total 10 columns):\n",
      " #   Column                     Non-Null Count  Dtype  \n",
      "---  ------                     --------------  -----  \n",
      " 0   Store                      1115 non-null   uint16 \n",
      " 1   StoreType                  1115 non-null   object \n",
      " 2   Assortment                 1115 non-null   object \n",
      " 3   CompetitionDistance        1112 non-null   float32\n",
      " 4   CompetitionOpenSinceMonth  761 non-null    float32\n",
      " 5   CompetitionOpenSinceYear   761 non-null    float32\n",
      " 6   Promo2                     1115 non-null   uint8  \n",
      " 7   Promo2SinceWeek            571 non-null    float32\n",
      " 8   Promo2SinceYear            571 non-null    float32\n",
      " 9   PromoInterval              571 non-null    object \n",
      "dtypes: float32(5), object(3), uint16(1), uint8(1)\n",
      "memory usage: 51.3+ KB\n"
     ]
    }
   ],
   "metadata": {}
  },
  {
   "cell_type": "code",
   "execution_count": 6,
   "source": [
    "missing = store_data_info.get_column_based_missing_percentage()\r\n",
    "results.add_data('missing_data',missing)\r\n",
    "missing"
   ],
   "outputs": [
    {
     "output_type": "execute_result",
     "data": {
      "text/plain": [
       "                           total_missing_values missing_percentage\n",
       "Store                                         0              0.0 %\n",
       "StoreType                                     0              0.0 %\n",
       "Assortment                                    0              0.0 %\n",
       "CompetitionDistance                           3             0.27 %\n",
       "CompetitionOpenSinceMonth                   354            31.75 %\n",
       "CompetitionOpenSinceYear                    354            31.75 %\n",
       "Promo2                                        0              0.0 %\n",
       "Promo2SinceWeek                             544            48.79 %\n",
       "Promo2SinceYear                             544            48.79 %\n",
       "PromoInterval                               544            48.79 %"
      ],
      "text/html": [
       "<div>\n",
       "<style scoped>\n",
       "    .dataframe tbody tr th:only-of-type {\n",
       "        vertical-align: middle;\n",
       "    }\n",
       "\n",
       "    .dataframe tbody tr th {\n",
       "        vertical-align: top;\n",
       "    }\n",
       "\n",
       "    .dataframe thead th {\n",
       "        text-align: right;\n",
       "    }\n",
       "</style>\n",
       "<table border=\"1\" class=\"dataframe\">\n",
       "  <thead>\n",
       "    <tr style=\"text-align: right;\">\n",
       "      <th></th>\n",
       "      <th>total_missing_values</th>\n",
       "      <th>missing_percentage</th>\n",
       "    </tr>\n",
       "  </thead>\n",
       "  <tbody>\n",
       "    <tr>\n",
       "      <th>Store</th>\n",
       "      <td>0</td>\n",
       "      <td>0.0 %</td>\n",
       "    </tr>\n",
       "    <tr>\n",
       "      <th>StoreType</th>\n",
       "      <td>0</td>\n",
       "      <td>0.0 %</td>\n",
       "    </tr>\n",
       "    <tr>\n",
       "      <th>Assortment</th>\n",
       "      <td>0</td>\n",
       "      <td>0.0 %</td>\n",
       "    </tr>\n",
       "    <tr>\n",
       "      <th>CompetitionDistance</th>\n",
       "      <td>3</td>\n",
       "      <td>0.27 %</td>\n",
       "    </tr>\n",
       "    <tr>\n",
       "      <th>CompetitionOpenSinceMonth</th>\n",
       "      <td>354</td>\n",
       "      <td>31.75 %</td>\n",
       "    </tr>\n",
       "    <tr>\n",
       "      <th>CompetitionOpenSinceYear</th>\n",
       "      <td>354</td>\n",
       "      <td>31.75 %</td>\n",
       "    </tr>\n",
       "    <tr>\n",
       "      <th>Promo2</th>\n",
       "      <td>0</td>\n",
       "      <td>0.0 %</td>\n",
       "    </tr>\n",
       "    <tr>\n",
       "      <th>Promo2SinceWeek</th>\n",
       "      <td>544</td>\n",
       "      <td>48.79 %</td>\n",
       "    </tr>\n",
       "    <tr>\n",
       "      <th>Promo2SinceYear</th>\n",
       "      <td>544</td>\n",
       "      <td>48.79 %</td>\n",
       "    </tr>\n",
       "    <tr>\n",
       "      <th>PromoInterval</th>\n",
       "      <td>544</td>\n",
       "      <td>48.79 %</td>\n",
       "    </tr>\n",
       "  </tbody>\n",
       "</table>\n",
       "</div>"
      ]
     },
     "metadata": {},
     "execution_count": 6
    }
   ],
   "metadata": {}
  },
  {
   "cell_type": "markdown",
   "source": [
    "- We wont need to use Promo2SinceWeek, Promo2SinceYear, PromoInterval Data's due to high missing percentage ..."
   ],
   "metadata": {}
  },
  {
   "cell_type": "code",
   "execution_count": 7,
   "source": [
    "#Loading the test data\r\n",
    "test_df = load_df_from_csv('../data/test.csv')\r\n",
    "test_data_info = DataInfo(test_df, deep=True)\r\n",
    "test_data_info.get_information()\r\n"
   ],
   "outputs": [
    {
     "output_type": "stream",
     "name": "stdout",
     "text": [
      "DataFrame Information: \n",
      "<class 'pandas.core.frame.DataFrame'>\n",
      "RangeIndex: 41088 entries, 0 to 41087\n",
      "Data columns (total 8 columns):\n",
      " #   Column         Non-Null Count  Dtype  \n",
      "---  ------         --------------  -----  \n",
      " 0   Id             41088 non-null  uint16 \n",
      " 1   Store          41088 non-null  uint16 \n",
      " 2   DayOfWeek      41088 non-null  uint8  \n",
      " 3   Date           41088 non-null  object \n",
      " 4   Open           41077 non-null  float32\n",
      " 5   Promo          41088 non-null  uint8  \n",
      " 6   StateHoliday   41088 non-null  object \n",
      " 7   SchoolHoliday  41088 non-null  uint8  \n",
      "dtypes: float32(1), object(2), uint16(2), uint8(3)\n",
      "memory usage: 1.1+ MB\n"
     ]
    }
   ],
   "metadata": {}
  },
  {
   "cell_type": "code",
   "execution_count": 8,
   "source": [
    "train_df['StateHoliday'] = train_df['StateHoliday'].apply(lambda x: 0 if x == '0' else x)\r\n",
    "test_df['StateHoliday'] = test_df['StateHoliday'].apply(lambda x: 0 if x == '0' else x)"
   ],
   "outputs": [],
   "metadata": {}
  },
  {
   "cell_type": "code",
   "execution_count": 9,
   "source": [
    "# We have to separate the Date to determine season\r\n",
    "# Separating date for train_data\r\n",
    "train_data_cleaner = DataCleaner(train_df)\r\n",
    "test_data_cleaner = DataCleaner(test_df)"
   ],
   "outputs": [],
   "metadata": {}
  },
  {
   "cell_type": "code",
   "execution_count": 10,
   "source": [
    "train_data_cleaner.change_column_to_date_type('Date')\r\n",
    "test_data_cleaner.change_column_to_date_type('Date')"
   ],
   "outputs": [],
   "metadata": {}
  },
  {
   "cell_type": "code",
   "execution_count": 11,
   "source": [
    "test_data_cleaner.df.dtypes"
   ],
   "outputs": [
    {
     "output_type": "execute_result",
     "data": {
      "text/plain": [
       "Id                       uint16\n",
       "Store                    uint16\n",
       "DayOfWeek                 uint8\n",
       "Date             datetime64[ns]\n",
       "Open                    float32\n",
       "Promo                     uint8\n",
       "StateHoliday             object\n",
       "SchoolHoliday             uint8\n",
       "dtype: object"
      ]
     },
     "metadata": {},
     "execution_count": 11
    }
   ],
   "metadata": {}
  },
  {
   "cell_type": "code",
   "execution_count": 12,
   "source": [
    "train_data_cleaner.separate_date_column(date_column='Date')\r\n",
    "test_data_cleaner.separate_date_column(date_column='Date')"
   ],
   "outputs": [],
   "metadata": {}
  },
  {
   "cell_type": "code",
   "execution_count": 13,
   "source": [
    "# Need Joined data after this so, creating joined dataframe(train and store)\r\n",
    "# Combining Train Data with Store Data using Store Id to match/join the instances\r\n",
    "joined_df = DataCleaner(train_df)\r\n",
    "joined_df = joined_df.add_columns_from_another_df_using_column(store_df, 'Store', [\r\n",
    "                                                               'StoreType', 'Assortment', 'CompetitionDistance', 'CompetitionOpenSinceMonth', 'CompetitionOpenSinceYear', 'Promo2'])"
   ],
   "outputs": [],
   "metadata": {}
  },
  {
   "cell_type": "code",
   "execution_count": 14,
   "source": [
    "joined_df.head(5)"
   ],
   "outputs": [
    {
     "output_type": "execute_result",
     "data": {
      "text/plain": [
       "   Store  DayOfWeek       Date  Year  Month  Day  Sales  Customers  Open  \\\n",
       "0      1          5 2015-07-31  2015      7   31   5263        555     1   \n",
       "1      2          5 2015-07-31  2015      7   31   6064        625     1   \n",
       "2      3          5 2015-07-31  2015      7   31   8314        821     1   \n",
       "3      4          5 2015-07-31  2015      7   31  13995       1498     1   \n",
       "4      5          5 2015-07-31  2015      7   31   4822        559     1   \n",
       "\n",
       "   Promo StateHoliday  SchoolHoliday StoreType Assortment  \\\n",
       "0      1            0              1         c          a   \n",
       "1      1            0              1         a          a   \n",
       "2      1            0              1         a          a   \n",
       "3      1            0              1         c          c   \n",
       "4      1            0              1         a          a   \n",
       "\n",
       "   CompetitionDistance  CompetitionOpenSinceMonth  CompetitionOpenSinceYear  \\\n",
       "0               1270.0                        9.0                    2008.0   \n",
       "1                570.0                       11.0                    2007.0   \n",
       "2              14130.0                       12.0                    2006.0   \n",
       "3                620.0                        9.0                    2009.0   \n",
       "4              29910.0                        4.0                    2015.0   \n",
       "\n",
       "   Promo2  \n",
       "0       0  \n",
       "1       1  \n",
       "2       1  \n",
       "3       0  \n",
       "4       0  "
      ],
      "text/html": [
       "<div>\n",
       "<style scoped>\n",
       "    .dataframe tbody tr th:only-of-type {\n",
       "        vertical-align: middle;\n",
       "    }\n",
       "\n",
       "    .dataframe tbody tr th {\n",
       "        vertical-align: top;\n",
       "    }\n",
       "\n",
       "    .dataframe thead th {\n",
       "        text-align: right;\n",
       "    }\n",
       "</style>\n",
       "<table border=\"1\" class=\"dataframe\">\n",
       "  <thead>\n",
       "    <tr style=\"text-align: right;\">\n",
       "      <th></th>\n",
       "      <th>Store</th>\n",
       "      <th>DayOfWeek</th>\n",
       "      <th>Date</th>\n",
       "      <th>Year</th>\n",
       "      <th>Month</th>\n",
       "      <th>Day</th>\n",
       "      <th>Sales</th>\n",
       "      <th>Customers</th>\n",
       "      <th>Open</th>\n",
       "      <th>Promo</th>\n",
       "      <th>StateHoliday</th>\n",
       "      <th>SchoolHoliday</th>\n",
       "      <th>StoreType</th>\n",
       "      <th>Assortment</th>\n",
       "      <th>CompetitionDistance</th>\n",
       "      <th>CompetitionOpenSinceMonth</th>\n",
       "      <th>CompetitionOpenSinceYear</th>\n",
       "      <th>Promo2</th>\n",
       "    </tr>\n",
       "  </thead>\n",
       "  <tbody>\n",
       "    <tr>\n",
       "      <th>0</th>\n",
       "      <td>1</td>\n",
       "      <td>5</td>\n",
       "      <td>2015-07-31</td>\n",
       "      <td>2015</td>\n",
       "      <td>7</td>\n",
       "      <td>31</td>\n",
       "      <td>5263</td>\n",
       "      <td>555</td>\n",
       "      <td>1</td>\n",
       "      <td>1</td>\n",
       "      <td>0</td>\n",
       "      <td>1</td>\n",
       "      <td>c</td>\n",
       "      <td>a</td>\n",
       "      <td>1270.0</td>\n",
       "      <td>9.0</td>\n",
       "      <td>2008.0</td>\n",
       "      <td>0</td>\n",
       "    </tr>\n",
       "    <tr>\n",
       "      <th>1</th>\n",
       "      <td>2</td>\n",
       "      <td>5</td>\n",
       "      <td>2015-07-31</td>\n",
       "      <td>2015</td>\n",
       "      <td>7</td>\n",
       "      <td>31</td>\n",
       "      <td>6064</td>\n",
       "      <td>625</td>\n",
       "      <td>1</td>\n",
       "      <td>1</td>\n",
       "      <td>0</td>\n",
       "      <td>1</td>\n",
       "      <td>a</td>\n",
       "      <td>a</td>\n",
       "      <td>570.0</td>\n",
       "      <td>11.0</td>\n",
       "      <td>2007.0</td>\n",
       "      <td>1</td>\n",
       "    </tr>\n",
       "    <tr>\n",
       "      <th>2</th>\n",
       "      <td>3</td>\n",
       "      <td>5</td>\n",
       "      <td>2015-07-31</td>\n",
       "      <td>2015</td>\n",
       "      <td>7</td>\n",
       "      <td>31</td>\n",
       "      <td>8314</td>\n",
       "      <td>821</td>\n",
       "      <td>1</td>\n",
       "      <td>1</td>\n",
       "      <td>0</td>\n",
       "      <td>1</td>\n",
       "      <td>a</td>\n",
       "      <td>a</td>\n",
       "      <td>14130.0</td>\n",
       "      <td>12.0</td>\n",
       "      <td>2006.0</td>\n",
       "      <td>1</td>\n",
       "    </tr>\n",
       "    <tr>\n",
       "      <th>3</th>\n",
       "      <td>4</td>\n",
       "      <td>5</td>\n",
       "      <td>2015-07-31</td>\n",
       "      <td>2015</td>\n",
       "      <td>7</td>\n",
       "      <td>31</td>\n",
       "      <td>13995</td>\n",
       "      <td>1498</td>\n",
       "      <td>1</td>\n",
       "      <td>1</td>\n",
       "      <td>0</td>\n",
       "      <td>1</td>\n",
       "      <td>c</td>\n",
       "      <td>c</td>\n",
       "      <td>620.0</td>\n",
       "      <td>9.0</td>\n",
       "      <td>2009.0</td>\n",
       "      <td>0</td>\n",
       "    </tr>\n",
       "    <tr>\n",
       "      <th>4</th>\n",
       "      <td>5</td>\n",
       "      <td>5</td>\n",
       "      <td>2015-07-31</td>\n",
       "      <td>2015</td>\n",
       "      <td>7</td>\n",
       "      <td>31</td>\n",
       "      <td>4822</td>\n",
       "      <td>559</td>\n",
       "      <td>1</td>\n",
       "      <td>1</td>\n",
       "      <td>0</td>\n",
       "      <td>1</td>\n",
       "      <td>a</td>\n",
       "      <td>a</td>\n",
       "      <td>29910.0</td>\n",
       "      <td>4.0</td>\n",
       "      <td>2015.0</td>\n",
       "      <td>0</td>\n",
       "    </tr>\n",
       "  </tbody>\n",
       "</table>\n",
       "</div>"
      ]
     },
     "metadata": {},
     "execution_count": 14
    }
   ],
   "metadata": {}
  },
  {
   "cell_type": "code",
   "execution_count": 15,
   "source": [
    "joined_df_info = DataInfo(joined_df, deep=True)\r\n",
    "joined_df_info.get_information()\r\n"
   ],
   "outputs": [
    {
     "output_type": "stream",
     "name": "stdout",
     "text": [
      "DataFrame Information: \n",
      "<class 'pandas.core.frame.DataFrame'>\n",
      "RangeIndex: 1017209 entries, 0 to 1017208\n",
      "Data columns (total 18 columns):\n",
      " #   Column                     Non-Null Count    Dtype         \n",
      "---  ------                     --------------    -----         \n",
      " 0   Store                      1017209 non-null  uint16        \n",
      " 1   DayOfWeek                  1017209 non-null  uint8         \n",
      " 2   Date                       1017209 non-null  datetime64[ns]\n",
      " 3   Year                       1017209 non-null  int64         \n",
      " 4   Month                      1017209 non-null  int64         \n",
      " 5   Day                        1017209 non-null  int64         \n",
      " 6   Sales                      1017209 non-null  uint16        \n",
      " 7   Customers                  1017209 non-null  uint16        \n",
      " 8   Open                       1017209 non-null  uint8         \n",
      " 9   Promo                      1017209 non-null  uint8         \n",
      " 10  StateHoliday               1017209 non-null  object        \n",
      " 11  SchoolHoliday              1017209 non-null  uint8         \n",
      " 12  StoreType                  1017209 non-null  object        \n",
      " 13  Assortment                 1017209 non-null  object        \n",
      " 14  CompetitionDistance        1014567 non-null  float64       \n",
      " 15  CompetitionOpenSinceMonth  693861 non-null   float64       \n",
      " 16  CompetitionOpenSinceYear   693861 non-null   float64       \n",
      " 17  Promo2                     1017209 non-null  int64         \n",
      "dtypes: datetime64[ns](1), float64(3), int64(4), object(3), uint16(3), uint8(4)\n",
      "memory usage: 95.1+ MB\n"
     ]
    }
   ],
   "metadata": {}
  },
  {
   "cell_type": "code",
   "execution_count": 16,
   "source": [
    "train_season = DataInfo(train_data_cleaner.df)\r\n",
    "test_season = DataInfo(test_data_cleaner.df)"
   ],
   "outputs": [],
   "metadata": {}
  },
  {
   "cell_type": "code",
   "execution_count": 17,
   "source": [
    "# joined_df.to_csv('../data/store_train_joined.csv')"
   ],
   "outputs": [],
   "metadata": {}
  },
  {
   "cell_type": "markdown",
   "source": [
    "## 1. Check for distribution in both training and test sets - are the promotions distributed similarly between these two groups?"
   ],
   "metadata": {}
  },
  {
   "cell_type": "code",
   "execution_count": 18,
   "source": [
    "# day_seasonality = train_season\r\n",
    "test_df.head(5)"
   ],
   "outputs": [
    {
     "output_type": "execute_result",
     "data": {
      "text/plain": [
       "   Id  Store  DayOfWeek       Date  Year  Month  Day  Open  Promo  \\\n",
       "0   1      1          4 2015-09-17  2015      9   17   1.0      1   \n",
       "1   2      3          4 2015-09-17  2015      9   17   1.0      1   \n",
       "2   3      7          4 2015-09-17  2015      9   17   1.0      1   \n",
       "3   4      8          4 2015-09-17  2015      9   17   1.0      1   \n",
       "4   5      9          4 2015-09-17  2015      9   17   1.0      1   \n",
       "\n",
       "  StateHoliday  SchoolHoliday  \n",
       "0            0              0  \n",
       "1            0              0  \n",
       "2            0              0  \n",
       "3            0              0  \n",
       "4            0              0  "
      ],
      "text/html": [
       "<div>\n",
       "<style scoped>\n",
       "    .dataframe tbody tr th:only-of-type {\n",
       "        vertical-align: middle;\n",
       "    }\n",
       "\n",
       "    .dataframe tbody tr th {\n",
       "        vertical-align: top;\n",
       "    }\n",
       "\n",
       "    .dataframe thead th {\n",
       "        text-align: right;\n",
       "    }\n",
       "</style>\n",
       "<table border=\"1\" class=\"dataframe\">\n",
       "  <thead>\n",
       "    <tr style=\"text-align: right;\">\n",
       "      <th></th>\n",
       "      <th>Id</th>\n",
       "      <th>Store</th>\n",
       "      <th>DayOfWeek</th>\n",
       "      <th>Date</th>\n",
       "      <th>Year</th>\n",
       "      <th>Month</th>\n",
       "      <th>Day</th>\n",
       "      <th>Open</th>\n",
       "      <th>Promo</th>\n",
       "      <th>StateHoliday</th>\n",
       "      <th>SchoolHoliday</th>\n",
       "    </tr>\n",
       "  </thead>\n",
       "  <tbody>\n",
       "    <tr>\n",
       "      <th>0</th>\n",
       "      <td>1</td>\n",
       "      <td>1</td>\n",
       "      <td>4</td>\n",
       "      <td>2015-09-17</td>\n",
       "      <td>2015</td>\n",
       "      <td>9</td>\n",
       "      <td>17</td>\n",
       "      <td>1.0</td>\n",
       "      <td>1</td>\n",
       "      <td>0</td>\n",
       "      <td>0</td>\n",
       "    </tr>\n",
       "    <tr>\n",
       "      <th>1</th>\n",
       "      <td>2</td>\n",
       "      <td>3</td>\n",
       "      <td>4</td>\n",
       "      <td>2015-09-17</td>\n",
       "      <td>2015</td>\n",
       "      <td>9</td>\n",
       "      <td>17</td>\n",
       "      <td>1.0</td>\n",
       "      <td>1</td>\n",
       "      <td>0</td>\n",
       "      <td>0</td>\n",
       "    </tr>\n",
       "    <tr>\n",
       "      <th>2</th>\n",
       "      <td>3</td>\n",
       "      <td>7</td>\n",
       "      <td>4</td>\n",
       "      <td>2015-09-17</td>\n",
       "      <td>2015</td>\n",
       "      <td>9</td>\n",
       "      <td>17</td>\n",
       "      <td>1.0</td>\n",
       "      <td>1</td>\n",
       "      <td>0</td>\n",
       "      <td>0</td>\n",
       "    </tr>\n",
       "    <tr>\n",
       "      <th>3</th>\n",
       "      <td>4</td>\n",
       "      <td>8</td>\n",
       "      <td>4</td>\n",
       "      <td>2015-09-17</td>\n",
       "      <td>2015</td>\n",
       "      <td>9</td>\n",
       "      <td>17</td>\n",
       "      <td>1.0</td>\n",
       "      <td>1</td>\n",
       "      <td>0</td>\n",
       "      <td>0</td>\n",
       "    </tr>\n",
       "    <tr>\n",
       "      <th>4</th>\n",
       "      <td>5</td>\n",
       "      <td>9</td>\n",
       "      <td>4</td>\n",
       "      <td>2015-09-17</td>\n",
       "      <td>2015</td>\n",
       "      <td>9</td>\n",
       "      <td>17</td>\n",
       "      <td>1.0</td>\n",
       "      <td>1</td>\n",
       "      <td>0</td>\n",
       "      <td>0</td>\n",
       "    </tr>\n",
       "  </tbody>\n",
       "</table>\n",
       "</div>"
      ]
     },
     "metadata": {},
     "execution_count": 18
    }
   ],
   "metadata": {}
  },
  {
   "cell_type": "code",
   "execution_count": 19,
   "source": [
    "from matplotlib.offsetbox import AnchoredText\r\n",
    "train_percentage = train_df['Promo'].value_counts(0)\r\n",
    "train_percentage =  train_percentage.values[1] / (train_percentage.values[0] + train_percentage.values[1])\r\n",
    "\r\n",
    "test_percentage = test_df['Promo'].value_counts(0)\r\n",
    "test_percentage = test_percentage.values[1] / (test_percentage.values[0] + test_percentage.values[1])\r\n",
    "\r\n",
    "\r\n",
    "fig, axs = plt.subplots(1, 2, figsize=(20, 5))\r\n",
    "fig.suptitle(f'Comparison of Promo Distribution')\r\n",
    "sns.axes_style('darkgrid')\r\n",
    "plot1 = sns.countplot(x=\"Promo\", data=train_df, ax=axs[0])\r\n",
    "plot1.set_title('Train Promos')\r\n",
    "anc1 = AnchoredText(\"Promo: {:.2%}\".format(train_percentage), loc=\"lower center\", frameon=True)\r\n",
    "axs[0].add_artist(anc1)\r\n",
    "for p in plot1.patches:\r\n",
    "    plot1.annotate(format(p.get_height(), '.1f'),\r\n",
    "                   (p.get_x() + p.get_width() / 2., p.get_height()),\r\n",
    "                   ha='center', va='center',\r\n",
    "                   size=15,\r\n",
    "                   xytext=(0, -70),\r\n",
    "                   textcoords='offset points')\r\n",
    "\r\n",
    "plot2 = sns.countplot(x=\"Promo\", data=test_df, ax=axs[1])\r\n",
    "plot2.set_title('Test Promos')\r\n",
    "anc2 = AnchoredText(\"Promo: {:.2%}\".format(\r\n",
    "    test_percentage), loc=\"lower center\", frameon=True)\r\n",
    "axs[1].add_artist(anc2)\r\n",
    "for p in plot2.patches:\r\n",
    "    plot2.annotate(format(p.get_height(), '.1f'),\r\n",
    "                   (p.get_x() + p.get_width() / 2., p.get_height()),\r\n",
    "                   ha='center', va='center',\r\n",
    "                   size=15,\r\n",
    "                   xytext=(0, -70),\r\n",
    "                   textcoords='offset points')\r\n",
    "\r\n",
    "plt.savefig('../data/comppromodist.png')"
   ],
   "outputs": [
    {
     "output_type": "display_data",
     "data": {
      "text/plain": [
       "<Figure size 1440x360 with 2 Axes>"
      ],
      "image/png": "[encoded data removed]"
     },
     "metadata": {
      "needs_background": "light"
     }
    }
   ],
   "metadata": {}
  },
  {
   "cell_type": "code",
   "execution_count": 20,
   "source": [
    "fig, axs = plt.subplots(1, 2, figsize=(20, 5))\r\n",
    "fig.suptitle(f'Comparison of Promo Distribution')\r\n",
    "sns.barplot('Month',\"Promo\", data=train_df,ax=axs[0])\r\n",
    "sns.barplot('Month',\"Promo\", data=test_df,ax=axs[1])\r\n",
    "\r\n",
    "plt.savefig('../data/comppromodist2.png')"
   ],
   "outputs": [
    {
     "output_type": "stream",
     "name": "stderr",
     "text": [
      "C:\\Python38\\lib\\site-packages\\seaborn\\_decorators.py:36: FutureWarning: Pass the following variables as keyword args: x, y. From version 0.12, the only valid positional argument will be `data`, and passing other arguments without an explicit keyword will result in an error or misinterpretation.\n",
      "  warnings.warn(\n",
      "C:\\Python38\\lib\\site-packages\\seaborn\\_decorators.py:36: FutureWarning: Pass the following variables as keyword args: x, y. From version 0.12, the only valid positional argument will be `data`, and passing other arguments without an explicit keyword will result in an error or misinterpretation.\n",
      "  warnings.warn(\n"
     ]
    },
    {
     "output_type": "display_data",
     "data": {
      "text/plain": [
       "<Figure size 1440x360 with 2 Axes>"
      ],
      "image/png": "[encoded data removed]"
     },
     "metadata": {
      "needs_background": "light"
     }
    }
   ],
   "metadata": {}
  },
  {
   "cell_type": "markdown",
   "source": [],
   "metadata": {}
  },
  {
   "cell_type": "markdown",
   "source": [
    "## 2. Check & compare sales behavior before, during and after holidays"
   ],
   "metadata": {}
  },
  {
   "cell_type": "code",
   "execution_count": 69,
   "source": [
    "# Considering christmas lasts for 12 days, Easter for 50 days and public holidays for 1 day.\r\n",
    "# And considering before and after periods to be 5 less and 5 more days before and after the holiday for christmas\r\n",
    "# and 10 days for Easter\r\n",
    "# And 3 days for public holiday\r\n",
    "# get state holiday list\r\n",
    "#a = public holiday, b = Easter holiday, c = Christmas, 0 = None\r\n",
    "def affect_list(change_list, interval, duration, index):\r\n",
    "    start_pt = int(index-duration/2) - interval\r\n",
    "    try:\r\n",
    "        for index in range(start_pt, start_pt + interval):\r\n",
    "            change_list[index] = 'before'\r\n",
    "        for index in range(start_pt + interval, start_pt + interval + duration):\r\n",
    "            change_list[index] = 'during'\r\n",
    "        for index in range(start_pt + interval + duration, start_pt + interval + duration + interval):\r\n",
    "            change_list[index] = 'after'\r\n",
    "    except:\r\n",
    "        pass\r\n",
    "\r\n",
    "    return change_list\r\n",
    "\r\n",
    "\r\n",
    "state_holiday_list = train_df['StateHoliday'].values.tolist()\r\n",
    "def modify_holiday_list(holiday_list:list) -> list:\r\n",
    "    new_index = [\"neither\"] * len(holiday_list)\r\n",
    "    for index , value in enumerate(holiday_list):\r\n",
    "        if value == 'a': #public holiday\r\n",
    "            affect_list(new_index, 3, 1, index)\r\n",
    "        elif value == 'b': #Easter\r\n",
    "            affect_list(new_index, 10, 50, index)\r\n",
    "        elif value == 'c': # christmas\r\n",
    "            affect_list(new_index, 5, 12, index)\r\n",
    "        else:\r\n",
    "            pass\r\n",
    "\r\n",
    "    return new_index\r\n",
    "    \r\n",
    "sales_timing_list = modify_holiday_list(state_holiday_list)\r\n",
    "timing_added_df = train_df.loc[:,['Sales','Customers']]\r\n",
    "timing_added_df['HolidayTiming'] = sales_timing_list\r\n",
    "grouped_timing = timing_added_df.groupby('HolidayTiming').agg(\r\n",
    "    {'Sales': 'mean', 'Customers': 'mean'})\r\n",
    "grouped_timing = grouped_timing.iloc[:3, :]\r\n",
    "\r\n",
    "plt.figure(figsize=(10,5))\r\n",
    "X_axis = np.arange(len(grouped_timing.index))\r\n",
    "plt.bar(X_axis - 0.2, grouped_timing['Sales'], 0.4, label='Sales')\r\n",
    "plt.bar(X_axis + 0.2, grouped_timing['Customers'], 0.4, label='Customers')\r\n",
    "\r\n",
    "plt.xticks(X_axis, grouped_timing.index)\r\n",
    "plt.xlabel(\"Holiday Timing\")\r\n",
    "plt.ylabel(\"Mean Value\")\r\n",
    "plt.title(\"Sales and Customers Based on Holiday Timing\")\r\n",
    "plt.legend()\r\n",
    "plt.savefig('../data/holidaytiming.png')"
   ],
   "outputs": [
    {
     "output_type": "display_data",
     "data": {
      "text/plain": [
       "<Figure size 720x360 with 1 Axes>"
      ],
      "image/png": "[encoded data removed]"
     },
     "metadata": {
      "needs_background": "light"
     }
    }
   ],
   "metadata": {}
  },
  {
   "cell_type": "markdown",
   "source": [
    "## 3. Find out any seasonal (Christmas, Easter etc) purchase behaviours"
   ],
   "metadata": {}
  },
  {
   "cell_type": "code",
   "execution_count": 22,
   "source": [
    "seasonal = train_season.get_grouped_by('StateHoliday').agg({'Sales':'mean', 'Customers':'mean'})\r\n",
    "seasonal = seasonal.iloc[1:,:]\r\n",
    "seasonal"
   ],
   "outputs": [
    {
     "output_type": "execute_result",
     "data": {
      "text/plain": [
       "                   Sales  Customers\n",
       "StateHoliday                       \n",
       "a             290.735686  43.817670\n",
       "b             214.311510  36.561883\n",
       "c             168.733171  27.174390"
      ],
      "text/html": [
       "<div>\n",
       "<style scoped>\n",
       "    .dataframe tbody tr th:only-of-type {\n",
       "        vertical-align: middle;\n",
       "    }\n",
       "\n",
       "    .dataframe tbody tr th {\n",
       "        vertical-align: top;\n",
       "    }\n",
       "\n",
       "    .dataframe thead th {\n",
       "        text-align: right;\n",
       "    }\n",
       "</style>\n",
       "<table border=\"1\" class=\"dataframe\">\n",
       "  <thead>\n",
       "    <tr style=\"text-align: right;\">\n",
       "      <th></th>\n",
       "      <th>Sales</th>\n",
       "      <th>Customers</th>\n",
       "    </tr>\n",
       "    <tr>\n",
       "      <th>StateHoliday</th>\n",
       "      <th></th>\n",
       "      <th></th>\n",
       "    </tr>\n",
       "  </thead>\n",
       "  <tbody>\n",
       "    <tr>\n",
       "      <th>a</th>\n",
       "      <td>290.735686</td>\n",
       "      <td>43.817670</td>\n",
       "    </tr>\n",
       "    <tr>\n",
       "      <th>b</th>\n",
       "      <td>214.311510</td>\n",
       "      <td>36.561883</td>\n",
       "    </tr>\n",
       "    <tr>\n",
       "      <th>c</th>\n",
       "      <td>168.733171</td>\n",
       "      <td>27.174390</td>\n",
       "    </tr>\n",
       "  </tbody>\n",
       "</table>\n",
       "</div>"
      ]
     },
     "metadata": {},
     "execution_count": 22
    }
   ],
   "metadata": {}
  },
  {
   "cell_type": "code",
   "execution_count": 68,
   "source": [
    "seasonal.index = ['Public Holiday','Easter Holiday','Christmas']\r\n",
    "X_axis = np.arange(len(seasonal.index))\r\n",
    "plt.figure(figsize=(10, 5))\r\n",
    "plt1 = plt.bar(X_axis - 0.2, seasonal['Sales'], 0.4, label='Sales')\r\n",
    "for p in plt1.patches:\r\n",
    "    plt.annotate('{:.2f}'.format(p.get_height()), (p.get_x()\r\n",
    "                * 1.005, p.get_height() * 1.005))\r\n",
    "plt2 = plt.bar(X_axis + 0.2, seasonal['Customers'], 0.4, label='Customers')\r\n",
    "for p in plt2.patches:\r\n",
    "    plt.annotate('{:.2f}'.format(p.get_height()), (p.get_x()\r\n",
    "                                       * 1.005, p.get_height() * 1.005))\r\n",
    "                                       \r\n",
    "plt.xticks(X_axis, seasonal.index)\r\n",
    "plt.xlabel(\"Season\")\r\n",
    "plt.ylabel(\"Amount\")\r\n",
    "plt.title(\"Sales and Customers During Holiday Seasons\")\r\n",
    "plt.legend()\r\n",
    "\r\n",
    "plt.savefig('../data/holidayseason.png')"
   ],
   "outputs": [
    {
     "output_type": "display_data",
     "data": {
      "text/plain": [
       "<Figure size 720x360 with 1 Axes>"
      ],
      "image/png": "[encoded data removed]"
     },
     "metadata": {
      "needs_background": "light"
     }
    }
   ],
   "metadata": {}
  },
  {
   "cell_type": "markdown",
   "source": [
    "## 4. What can you say about the correlation between sales and number of customers?"
   ],
   "metadata": {}
  },
  {
   "cell_type": "code",
   "execution_count": 24,
   "source": [
    "sales_customer_rln = train_df.loc[:,['Sales','Customers']]\r\n",
    "sales_cutomer_corr = sales_customer_rln.corr()\r\n",
    "sales_cutomer_corr"
   ],
   "outputs": [
    {
     "output_type": "execute_result",
     "data": {
      "text/plain": [
       "              Sales  Customers\n",
       "Sales      1.000000   0.894711\n",
       "Customers  0.894711   1.000000"
      ],
      "text/html": [
       "<div>\n",
       "<style scoped>\n",
       "    .dataframe tbody tr th:only-of-type {\n",
       "        vertical-align: middle;\n",
       "    }\n",
       "\n",
       "    .dataframe tbody tr th {\n",
       "        vertical-align: top;\n",
       "    }\n",
       "\n",
       "    .dataframe thead th {\n",
       "        text-align: right;\n",
       "    }\n",
       "</style>\n",
       "<table border=\"1\" class=\"dataframe\">\n",
       "  <thead>\n",
       "    <tr style=\"text-align: right;\">\n",
       "      <th></th>\n",
       "      <th>Sales</th>\n",
       "      <th>Customers</th>\n",
       "    </tr>\n",
       "  </thead>\n",
       "  <tbody>\n",
       "    <tr>\n",
       "      <th>Sales</th>\n",
       "      <td>1.000000</td>\n",
       "      <td>0.894711</td>\n",
       "    </tr>\n",
       "    <tr>\n",
       "      <th>Customers</th>\n",
       "      <td>0.894711</td>\n",
       "      <td>1.000000</td>\n",
       "    </tr>\n",
       "  </tbody>\n",
       "</table>\n",
       "</div>"
      ]
     },
     "metadata": {},
     "execution_count": 24
    }
   ],
   "metadata": {}
  },
  {
   "cell_type": "code",
   "execution_count": 25,
   "source": [
    "plt.figure(figsize=(10, 7))\r\n",
    "sns.heatmap(sales_cutomer_corr, annot=True, square=True, fmt=\".2f\")\r\n",
    "plt.title('Sales - Customer Relation ', size=18, fontweight='bold')\r\n",
    "\r\n",
    "plt.savefig('../data/salecustrln.png')\r\n"
   ],
   "outputs": [
    {
     "output_type": "display_data",
     "data": {
      "text/plain": [
       "<Figure size 720x504 with 2 Axes>"
      ],
      "image/png": "[encoded data removed]"
     },
     "metadata": {
      "needs_background": "light"
     }
    }
   ],
   "metadata": {}
  },
  {
   "cell_type": "markdown",
   "source": [
    "## 5. How does promo affect sales? Are the promos attracting more customers? How does it affect already existing customers?"
   ],
   "metadata": {}
  },
  {
   "cell_type": "markdown",
   "source": [
    "### How does promo affect sales?"
   ],
   "metadata": {}
  },
  {
   "cell_type": "code",
   "execution_count": 26,
   "source": [
    "sales_promo_rln = train_df.loc[:,['Sales','Promo']]\r\n",
    "sales_promo_corr = sales_promo_rln.corr()\r\n",
    "sales_promo_corr"
   ],
   "outputs": [
    {
     "output_type": "execute_result",
     "data": {
      "text/plain": [
       "          Sales     Promo\n",
       "Sales  1.000000  0.452345\n",
       "Promo  0.452345  1.000000"
      ],
      "text/html": [
       "<div>\n",
       "<style scoped>\n",
       "    .dataframe tbody tr th:only-of-type {\n",
       "        vertical-align: middle;\n",
       "    }\n",
       "\n",
       "    .dataframe tbody tr th {\n",
       "        vertical-align: top;\n",
       "    }\n",
       "\n",
       "    .dataframe thead th {\n",
       "        text-align: right;\n",
       "    }\n",
       "</style>\n",
       "<table border=\"1\" class=\"dataframe\">\n",
       "  <thead>\n",
       "    <tr style=\"text-align: right;\">\n",
       "      <th></th>\n",
       "      <th>Sales</th>\n",
       "      <th>Promo</th>\n",
       "    </tr>\n",
       "  </thead>\n",
       "  <tbody>\n",
       "    <tr>\n",
       "      <th>Sales</th>\n",
       "      <td>1.000000</td>\n",
       "      <td>0.452345</td>\n",
       "    </tr>\n",
       "    <tr>\n",
       "      <th>Promo</th>\n",
       "      <td>0.452345</td>\n",
       "      <td>1.000000</td>\n",
       "    </tr>\n",
       "  </tbody>\n",
       "</table>\n",
       "</div>"
      ]
     },
     "metadata": {},
     "execution_count": 26
    }
   ],
   "metadata": {}
  },
  {
   "cell_type": "code",
   "execution_count": 27,
   "source": [
    "plt.figure(figsize=(10, 7))\r\n",
    "sns.heatmap(sales_promo_corr, annot=True)\r\n",
    "plt.title('Sales - Promotion Relation', size=18, fontweight='bold')\r\n",
    "\r\n",
    "plt.savefig('../data/salepromorln.png')\r\n"
   ],
   "outputs": [
    {
     "output_type": "display_data",
     "data": {
      "text/plain": [
       "<Figure size 720x504 with 2 Axes>"
      ],
      "image/png": "[encoded data removed]"
     },
     "metadata": {
      "needs_background": "light"
     }
    }
   ],
   "metadata": {}
  },
  {
   "cell_type": "markdown",
   "source": [
    "### Are the promos attracting more customers?"
   ],
   "metadata": {}
  },
  {
   "cell_type": "code",
   "execution_count": 28,
   "source": [
    "sns.catplot(data=train_df, x=\"Month\", y=\"Customers\",col='Promo',row=\"Year\", hue='DayOfWeek', kind='point')\r\n",
    "plt.savefig('../data/monthpromocat.png')\r\n"
   ],
   "outputs": [
    {
     "output_type": "display_data",
     "data": {
      "text/plain": [
       "<Figure size 786.375x1080 with 6 Axes>"
      ],
      "image/png": "[encoded data removed]"
     },
     "metadata": {
      "needs_background": "light"
     }
    }
   ],
   "metadata": {}
  },
  {
   "cell_type": "code",
   "execution_count": 29,
   "source": [
    "customer_promo_rln = train_df.loc[:, ['Customers', 'Promo']]\r\n",
    "customer_promo_corr = customer_promo_rln.corr()\r\n",
    "customer_promo_corr\r\n",
    "#seaborn boxplot agg"
   ],
   "outputs": [
    {
     "output_type": "execute_result",
     "data": {
      "text/plain": [
       "           Customers     Promo\n",
       "Customers   1.000000  0.316169\n",
       "Promo       0.316169  1.000000"
      ],
      "text/html": [
       "<div>\n",
       "<style scoped>\n",
       "    .dataframe tbody tr th:only-of-type {\n",
       "        vertical-align: middle;\n",
       "    }\n",
       "\n",
       "    .dataframe tbody tr th {\n",
       "        vertical-align: top;\n",
       "    }\n",
       "\n",
       "    .dataframe thead th {\n",
       "        text-align: right;\n",
       "    }\n",
       "</style>\n",
       "<table border=\"1\" class=\"dataframe\">\n",
       "  <thead>\n",
       "    <tr style=\"text-align: right;\">\n",
       "      <th></th>\n",
       "      <th>Customers</th>\n",
       "      <th>Promo</th>\n",
       "    </tr>\n",
       "  </thead>\n",
       "  <tbody>\n",
       "    <tr>\n",
       "      <th>Customers</th>\n",
       "      <td>1.000000</td>\n",
       "      <td>0.316169</td>\n",
       "    </tr>\n",
       "    <tr>\n",
       "      <th>Promo</th>\n",
       "      <td>0.316169</td>\n",
       "      <td>1.000000</td>\n",
       "    </tr>\n",
       "  </tbody>\n",
       "</table>\n",
       "</div>"
      ]
     },
     "metadata": {},
     "execution_count": 29
    }
   ],
   "metadata": {}
  },
  {
   "cell_type": "code",
   "execution_count": 30,
   "source": [
    "plt.figure(figsize=(10, 7))\r\n",
    "sns.heatmap(customer_promo_corr, annot=True)\r\n",
    "plt.title('Customers - Promotion Relation', size=18, fontweight='bold')\r\n",
    "\r\n",
    "plt.savefig('../data/custpromo.png')\r\n"
   ],
   "outputs": [
    {
     "output_type": "display_data",
     "data": {
      "text/plain": [
       "<Figure size 720x504 with 2 Axes>"
      ],
      "image/png": "[encoded data removed]"
     },
     "metadata": {
      "needs_background": "light"
     }
    }
   ],
   "metadata": {}
  },
  {
   "cell_type": "markdown",
   "source": [
    "### How does it affect already existing customers?"
   ],
   "metadata": {}
  },
  {
   "cell_type": "code",
   "execution_count": 31,
   "source": [
    "promo_customers_rln = train_df.loc[:,['Store','Customers','Promo','Sales']]\r\n",
    "store_customer_difference = promo_customers_rln.groupby(['Store','Promo']).agg({'Customers':'mean','Sales':'mean'})\r\n",
    "store_customer_difference\r\n"
   ],
   "outputs": [
    {
     "output_type": "execute_result",
     "data": {
      "text/plain": [
       "               Customers         Sales\n",
       "Store Promo                           \n",
       "1     0       399.682131   3198.994845\n",
       "      1       577.522222   5152.886111\n",
       "2     0       366.876289   2855.058419\n",
       "      1       678.702778   6172.816667\n",
       "3     0       477.445017   3967.596220\n",
       "...                  ...           ...\n",
       "1113  1       754.250000   7320.086111\n",
       "1114  0      2353.958763  14477.742268\n",
       "      1      3165.383333  21601.497222\n",
       "1115  0       297.800687   4082.221649\n",
       "      1       457.122222   7073.266667\n",
       "\n",
       "[2230 rows x 2 columns]"
      ],
      "text/html": [
       "<div>\n",
       "<style scoped>\n",
       "    .dataframe tbody tr th:only-of-type {\n",
       "        vertical-align: middle;\n",
       "    }\n",
       "\n",
       "    .dataframe tbody tr th {\n",
       "        vertical-align: top;\n",
       "    }\n",
       "\n",
       "    .dataframe thead th {\n",
       "        text-align: right;\n",
       "    }\n",
       "</style>\n",
       "<table border=\"1\" class=\"dataframe\">\n",
       "  <thead>\n",
       "    <tr style=\"text-align: right;\">\n",
       "      <th></th>\n",
       "      <th></th>\n",
       "      <th>Customers</th>\n",
       "      <th>Sales</th>\n",
       "    </tr>\n",
       "    <tr>\n",
       "      <th>Store</th>\n",
       "      <th>Promo</th>\n",
       "      <th></th>\n",
       "      <th></th>\n",
       "    </tr>\n",
       "  </thead>\n",
       "  <tbody>\n",
       "    <tr>\n",
       "      <th rowspan=\"2\" valign=\"top\">1</th>\n",
       "      <th>0</th>\n",
       "      <td>399.682131</td>\n",
       "      <td>3198.994845</td>\n",
       "    </tr>\n",
       "    <tr>\n",
       "      <th>1</th>\n",
       "      <td>577.522222</td>\n",
       "      <td>5152.886111</td>\n",
       "    </tr>\n",
       "    <tr>\n",
       "      <th rowspan=\"2\" valign=\"top\">2</th>\n",
       "      <th>0</th>\n",
       "      <td>366.876289</td>\n",
       "      <td>2855.058419</td>\n",
       "    </tr>\n",
       "    <tr>\n",
       "      <th>1</th>\n",
       "      <td>678.702778</td>\n",
       "      <td>6172.816667</td>\n",
       "    </tr>\n",
       "    <tr>\n",
       "      <th>3</th>\n",
       "      <th>0</th>\n",
       "      <td>477.445017</td>\n",
       "      <td>3967.596220</td>\n",
       "    </tr>\n",
       "    <tr>\n",
       "      <th>...</th>\n",
       "      <th>...</th>\n",
       "      <td>...</td>\n",
       "      <td>...</td>\n",
       "    </tr>\n",
       "    <tr>\n",
       "      <th>1113</th>\n",
       "      <th>1</th>\n",
       "      <td>754.250000</td>\n",
       "      <td>7320.086111</td>\n",
       "    </tr>\n",
       "    <tr>\n",
       "      <th rowspan=\"2\" valign=\"top\">1114</th>\n",
       "      <th>0</th>\n",
       "      <td>2353.958763</td>\n",
       "      <td>14477.742268</td>\n",
       "    </tr>\n",
       "    <tr>\n",
       "      <th>1</th>\n",
       "      <td>3165.383333</td>\n",
       "      <td>21601.497222</td>\n",
       "    </tr>\n",
       "    <tr>\n",
       "      <th rowspan=\"2\" valign=\"top\">1115</th>\n",
       "      <th>0</th>\n",
       "      <td>297.800687</td>\n",
       "      <td>4082.221649</td>\n",
       "    </tr>\n",
       "    <tr>\n",
       "      <th>1</th>\n",
       "      <td>457.122222</td>\n",
       "      <td>7073.266667</td>\n",
       "    </tr>\n",
       "  </tbody>\n",
       "</table>\n",
       "<p>2230 rows × 2 columns</p>\n",
       "</div>"
      ]
     },
     "metadata": {},
     "execution_count": 31
    }
   ],
   "metadata": {}
  },
  {
   "cell_type": "code",
   "execution_count": 32,
   "source": [
    "customer_value = store_customer_difference.Customers.values.tolist()\r\n",
    "def get_average_increase_from_all_stores(grouped_cutomer_list:list) -> float:\r\n",
    "    percentage_increase = []\r\n",
    "    i = 0\r\n",
    "    while(i < len(grouped_cutomer_list)):\r\n",
    "        new_perc = ((grouped_cutomer_list[i+1] * 100) / grouped_cutomer_list[i]) - 100\r\n",
    "        percentage_increase.append(new_perc)\r\n",
    "        i += 2\r\n",
    "\r\n",
    "    return percentage_increase,sum(percentage_increase) / len(percentage_increase)\r\n",
    "\r\n",
    "increase_list, average_increase = get_average_increase_from_all_stores(customer_value)\r\n"
   ],
   "outputs": [],
   "metadata": {}
  },
  {
   "cell_type": "code",
   "execution_count": 33,
   "source": [
    "#Average increase across all stores\r\n",
    "print('The average customer increase across all stores due to promotion is by: {:.2%}'.format(average_increase/100))\r\n",
    "results.add_data('averageincreaseacross', average_increase/100)\r\n"
   ],
   "outputs": [
    {
     "output_type": "stream",
     "name": "stdout",
     "text": [
      "The average customer increase across all stores due to promotion is by: 62.18%\n"
     ]
    }
   ],
   "metadata": {}
  },
  {
   "cell_type": "code",
   "execution_count": 73,
   "source": [
    "def change_list_type(change_list) -> list:\r\n",
    "    new_list = []\r\n",
    "    for i in change_list:\r\n",
    "        new_list.append(int(i))\r\n",
    "\r\n",
    "    return new_list"
   ],
   "outputs": [],
   "metadata": {}
  },
  {
   "cell_type": "code",
   "execution_count": 107,
   "source": [
    "#Getting Per-Store Customer Increase\r\n",
    "customer_info = train_df.loc[:, ['Store', 'Customers']]\r\n",
    "customer_info = customer_info.groupby('Store').agg({'Customers':'mean'})\r\n",
    "customer_info['Customer Percentage Increase'] = change_list_type(increase_list)\r\n",
    "customer_info['Customers'] = customer_info['Customers'].apply(lambda x: int(x))\r\n",
    "results.add_data('cuspercincrease', customer_info)\r\n",
    "customer_info\r\n"
   ],
   "outputs": [
    {
     "output_type": "execute_result",
     "data": {
      "text/plain": [
       "       Customers  Customer Percentage Increase\n",
       "Store                                         \n",
       "1            467                            44\n",
       "2            486                            84\n",
       "3            620                            78\n",
       "4           1100                            45\n",
       "5            444                            95\n",
       "...          ...                           ...\n",
       "1111         373                            83\n",
       "1112         693                            77\n",
       "1113         596                            51\n",
       "1114        2664                            34\n",
       "1115         358                            53\n",
       "\n",
       "[1115 rows x 2 columns]"
      ],
      "text/html": [
       "<div>\n",
       "<style scoped>\n",
       "    .dataframe tbody tr th:only-of-type {\n",
       "        vertical-align: middle;\n",
       "    }\n",
       "\n",
       "    .dataframe tbody tr th {\n",
       "        vertical-align: top;\n",
       "    }\n",
       "\n",
       "    .dataframe thead th {\n",
       "        text-align: right;\n",
       "    }\n",
       "</style>\n",
       "<table border=\"1\" class=\"dataframe\">\n",
       "  <thead>\n",
       "    <tr style=\"text-align: right;\">\n",
       "      <th></th>\n",
       "      <th>Customers</th>\n",
       "      <th>Customer Percentage Increase</th>\n",
       "    </tr>\n",
       "    <tr>\n",
       "      <th>Store</th>\n",
       "      <th></th>\n",
       "      <th></th>\n",
       "    </tr>\n",
       "  </thead>\n",
       "  <tbody>\n",
       "    <tr>\n",
       "      <th>1</th>\n",
       "      <td>467</td>\n",
       "      <td>44</td>\n",
       "    </tr>\n",
       "    <tr>\n",
       "      <th>2</th>\n",
       "      <td>486</td>\n",
       "      <td>84</td>\n",
       "    </tr>\n",
       "    <tr>\n",
       "      <th>3</th>\n",
       "      <td>620</td>\n",
       "      <td>78</td>\n",
       "    </tr>\n",
       "    <tr>\n",
       "      <th>4</th>\n",
       "      <td>1100</td>\n",
       "      <td>45</td>\n",
       "    </tr>\n",
       "    <tr>\n",
       "      <th>5</th>\n",
       "      <td>444</td>\n",
       "      <td>95</td>\n",
       "    </tr>\n",
       "    <tr>\n",
       "      <th>...</th>\n",
       "      <td>...</td>\n",
       "      <td>...</td>\n",
       "    </tr>\n",
       "    <tr>\n",
       "      <th>1111</th>\n",
       "      <td>373</td>\n",
       "      <td>83</td>\n",
       "    </tr>\n",
       "    <tr>\n",
       "      <th>1112</th>\n",
       "      <td>693</td>\n",
       "      <td>77</td>\n",
       "    </tr>\n",
       "    <tr>\n",
       "      <th>1113</th>\n",
       "      <td>596</td>\n",
       "      <td>51</td>\n",
       "    </tr>\n",
       "    <tr>\n",
       "      <th>1114</th>\n",
       "      <td>2664</td>\n",
       "      <td>34</td>\n",
       "    </tr>\n",
       "    <tr>\n",
       "      <th>1115</th>\n",
       "      <td>358</td>\n",
       "      <td>53</td>\n",
       "    </tr>\n",
       "  </tbody>\n",
       "</table>\n",
       "<p>1115 rows × 2 columns</p>\n",
       "</div>"
      ]
     },
     "metadata": {},
     "execution_count": 107
    }
   ],
   "metadata": {}
  },
  {
   "cell_type": "code",
   "execution_count": 108,
   "source": [
    "perc_increase_split = customer_info.sort_values('Customer Percentage Increase')\r\n",
    "perc_increase_split['Store'] = perc_increase_split.index\r\n",
    "max_value = max(perc_increase_split['Customer Percentage Increase'].values.tolist())\r\n",
    "min_value = min(perc_increase_split['Customer Percentage Increase'].values.tolist())\r\n",
    "bins = np.arange(min_value, max_value, 20)\r\n",
    "perc_increase_plot_data = perc_increase_split.groupby(pd.cut(perc_increase_split[\"Customer Percentage Increase\"], bins)).sum()\r\n"
   ],
   "outputs": [],
   "metadata": {}
  },
  {
   "cell_type": "code",
   "execution_count": 109,
   "source": [
    "\r\n",
    "X_axis = np.arange(len(perc_increase_plot_data.index))\r\n",
    "plt.figure(figsize=(20, 12))\r\n",
    "plt1 = plt.bar(X_axis, perc_increase_plot_data['Store'], 0.4, label='Store')\r\n",
    "for p in plt1.patches:\r\n",
    "    plt.annotate('{}'.format(p.get_height()), (p.get_x()\r\n",
    "                                                   * 1.005, p.get_height() * 1.005))\r\n",
    "plt.xticks(X_axis, perc_increase_plot_data.index)\r\n",
    "plt.xlabel(\"Customer Percentage Increase\")\r\n",
    "plt.ylabel(\"Number of Stores\")\r\n",
    "plt.title(\"Customer Percentage Increase in Stores\")\r\n",
    "plt.legend()\r\n",
    "plt.show()\r\n",
    "\r\n",
    "plt.savefig('../data/cuspercincreasediag.png')\r\n"
   ],
   "outputs": [
    {
     "output_type": "display_data",
     "data": {
      "text/plain": [
       "<Figure size 1440x864 with 1 Axes>"
      ],
      "image/png": "[encoded data removed]"
     },
     "metadata": {
      "needs_background": "light"
     }
    },
    {
     "output_type": "display_data",
     "data": {
      "text/plain": [
       "<Figure size 432x288 with 0 Axes>"
      ]
     },
     "metadata": {}
    }
   ],
   "metadata": {}
  },
  {
   "cell_type": "code",
   "execution_count": 110,
   "source": [
    "# Top 10 Stores With high promotion customer success\r\n",
    "top10 = customer_info.sort_values(\r\n",
    "    by='Customer Percentage Increase', ascending=False)[:10]\r\n",
    "results.add_data('top10promocust', top10)\r\n",
    "top10\r\n"
   ],
   "outputs": [
    {
     "output_type": "execute_result",
     "data": {
      "text/plain": [
       "       Customers  Customer Percentage Increase\n",
       "Store                                         \n",
       "198          280                           149\n",
       "607          343                           131\n",
       "575          405                           119\n",
       "271          655                           117\n",
       "635          494                           115\n",
       "1108         488                           115\n",
       "898          590                           115\n",
       "96           449                           113\n",
       "963          840                           111\n",
       "693          410                           111"
      ],
      "text/html": [
       "<div>\n",
       "<style scoped>\n",
       "    .dataframe tbody tr th:only-of-type {\n",
       "        vertical-align: middle;\n",
       "    }\n",
       "\n",
       "    .dataframe tbody tr th {\n",
       "        vertical-align: top;\n",
       "    }\n",
       "\n",
       "    .dataframe thead th {\n",
       "        text-align: right;\n",
       "    }\n",
       "</style>\n",
       "<table border=\"1\" class=\"dataframe\">\n",
       "  <thead>\n",
       "    <tr style=\"text-align: right;\">\n",
       "      <th></th>\n",
       "      <th>Customers</th>\n",
       "      <th>Customer Percentage Increase</th>\n",
       "    </tr>\n",
       "    <tr>\n",
       "      <th>Store</th>\n",
       "      <th></th>\n",
       "      <th></th>\n",
       "    </tr>\n",
       "  </thead>\n",
       "  <tbody>\n",
       "    <tr>\n",
       "      <th>198</th>\n",
       "      <td>280</td>\n",
       "      <td>149</td>\n",
       "    </tr>\n",
       "    <tr>\n",
       "      <th>607</th>\n",
       "      <td>343</td>\n",
       "      <td>131</td>\n",
       "    </tr>\n",
       "    <tr>\n",
       "      <th>575</th>\n",
       "      <td>405</td>\n",
       "      <td>119</td>\n",
       "    </tr>\n",
       "    <tr>\n",
       "      <th>271</th>\n",
       "      <td>655</td>\n",
       "      <td>117</td>\n",
       "    </tr>\n",
       "    <tr>\n",
       "      <th>635</th>\n",
       "      <td>494</td>\n",
       "      <td>115</td>\n",
       "    </tr>\n",
       "    <tr>\n",
       "      <th>1108</th>\n",
       "      <td>488</td>\n",
       "      <td>115</td>\n",
       "    </tr>\n",
       "    <tr>\n",
       "      <th>898</th>\n",
       "      <td>590</td>\n",
       "      <td>115</td>\n",
       "    </tr>\n",
       "    <tr>\n",
       "      <th>96</th>\n",
       "      <td>449</td>\n",
       "      <td>113</td>\n",
       "    </tr>\n",
       "    <tr>\n",
       "      <th>963</th>\n",
       "      <td>840</td>\n",
       "      <td>111</td>\n",
       "    </tr>\n",
       "    <tr>\n",
       "      <th>693</th>\n",
       "      <td>410</td>\n",
       "      <td>111</td>\n",
       "    </tr>\n",
       "  </tbody>\n",
       "</table>\n",
       "</div>"
      ]
     },
     "metadata": {},
     "execution_count": 110
    }
   ],
   "metadata": {}
  },
  {
   "cell_type": "markdown",
   "source": [
    "## 6. Could the promos be deployed in more effective ways? Which stores should promos be deployed in?"
   ],
   "metadata": {}
  },
  {
   "cell_type": "markdown",
   "source": [
    "### Checking based on store type"
   ],
   "metadata": {}
  },
  {
   "cell_type": "code",
   "execution_count": 111,
   "source": [
    "sns.catplot(data=joined_df, x=\"Month\", y=\"Sales\", hue='Promo',kind='point')\r\n",
    "\r\n",
    "plt.savefig('../data/monthpromosales.png')"
   ],
   "outputs": [],
   "metadata": {}
  },
  {
   "cell_type": "code",
   "execution_count": null,
   "source": [
    "sns.catplot(data=joined_df, x=\"Month\", y=\"Sales\", col='Assortment', hue='Promo', kind='point')\r\n",
    "\r\n",
    "plt.savefig('../data/assortmenttype.png')\r\n"
   ],
   "outputs": [
    {
     "output_type": "display_data",
     "data": {
      "text/plain": [
       "<Figure size 1122.38x360 with 3 Axes>"
      ],
      "image/png": "[encoded data removed]"
     },
     "metadata": {
      "needs_background": "light"
     }
    }
   ],
   "metadata": {}
  },
  {
   "cell_type": "code",
   "execution_count": null,
   "source": [
    "sns.catplot(data=joined_df, x=\"Month\", y=\"Sales\",\r\n",
    "            col='StoreType', hue='Promo', kind='point')\r\n",
    "\r\n",
    "plt.savefig('../data/storetpye.png')\r\n"
   ],
   "outputs": [
    {
     "output_type": "display_data",
     "data": {
      "text/plain": [
       "<Figure size 1482.38x360 with 4 Axes>"
      ],
      "image/png": "[encoded data removed]"
     },
     "metadata": {
      "needs_background": "light"
     }
    }
   ],
   "metadata": {}
  },
  {
   "cell_type": "markdown",
   "source": [
    "### Checking by percentage of increase"
   ],
   "metadata": {}
  },
  {
   "cell_type": "code",
   "execution_count": null,
   "source": [
    "# Promos are better deployed if they show a high percentage of increase\r\n",
    "def get_increase_per_store(grouped_cutomer_list: list, profitable_promo:float=10) -> list:\r\n",
    "    store_index = []\r\n",
    "    i = 0\r\n",
    "    while(i < len(grouped_cutomer_list)):\r\n",
    "        new_perc = ((grouped_cutomer_list[i+1] * 100) / grouped_cutomer_list[i]) - 100\r\n",
    "        if(new_perc >= profitable_promo):\r\n",
    "            store_index.append(int(i/2))\r\n",
    "        i += 2\r\n",
    "\r\n",
    "    return store_index"
   ],
   "outputs": [],
   "metadata": {}
  },
  {
   "cell_type": "code",
   "execution_count": null,
   "source": [
    "# Lets say its profitable if we get 10% increase in the mean customer amount\r\n",
    "customers = train_df.loc[:, ['Store', 'Customers']]\r\n",
    "customers = customers.groupby('Store').agg({'Customers': 'mean'})\r\n",
    "store_index = get_increase_per_store(customer_value, profitable_promo=10)\r\n",
    "store_10_perc_inc = customers[customers.index.isin(store_index)]\r\n",
    "results.add_data('10percincrease', store_10_perc_inc)\r\n",
    "store_10_perc_inc\r\n"
   ],
   "outputs": [
    {
     "output_type": "execute_result",
     "data": {
      "text/plain": [
       "         Customers\n",
       "Store             \n",
       "1       467.646497\n",
       "2       486.045648\n",
       "3       620.286624\n",
       "4      1100.057325\n",
       "5       444.360934\n",
       "...            ...\n",
       "1110    449.000000\n",
       "1111    373.548832\n",
       "1112    693.498938\n",
       "1113    596.763270\n",
       "1114   2664.057325\n",
       "\n",
       "[1102 rows x 1 columns]"
      ],
      "text/html": [
       "<div>\n",
       "<style scoped>\n",
       "    .dataframe tbody tr th:only-of-type {\n",
       "        vertical-align: middle;\n",
       "    }\n",
       "\n",
       "    .dataframe tbody tr th {\n",
       "        vertical-align: top;\n",
       "    }\n",
       "\n",
       "    .dataframe thead th {\n",
       "        text-align: right;\n",
       "    }\n",
       "</style>\n",
       "<table border=\"1\" class=\"dataframe\">\n",
       "  <thead>\n",
       "    <tr style=\"text-align: right;\">\n",
       "      <th></th>\n",
       "      <th>Customers</th>\n",
       "    </tr>\n",
       "    <tr>\n",
       "      <th>Store</th>\n",
       "      <th></th>\n",
       "    </tr>\n",
       "  </thead>\n",
       "  <tbody>\n",
       "    <tr>\n",
       "      <th>1</th>\n",
       "      <td>467.646497</td>\n",
       "    </tr>\n",
       "    <tr>\n",
       "      <th>2</th>\n",
       "      <td>486.045648</td>\n",
       "    </tr>\n",
       "    <tr>\n",
       "      <th>3</th>\n",
       "      <td>620.286624</td>\n",
       "    </tr>\n",
       "    <tr>\n",
       "      <th>4</th>\n",
       "      <td>1100.057325</td>\n",
       "    </tr>\n",
       "    <tr>\n",
       "      <th>5</th>\n",
       "      <td>444.360934</td>\n",
       "    </tr>\n",
       "    <tr>\n",
       "      <th>...</th>\n",
       "      <td>...</td>\n",
       "    </tr>\n",
       "    <tr>\n",
       "      <th>1110</th>\n",
       "      <td>449.000000</td>\n",
       "    </tr>\n",
       "    <tr>\n",
       "      <th>1111</th>\n",
       "      <td>373.548832</td>\n",
       "    </tr>\n",
       "    <tr>\n",
       "      <th>1112</th>\n",
       "      <td>693.498938</td>\n",
       "    </tr>\n",
       "    <tr>\n",
       "      <th>1113</th>\n",
       "      <td>596.763270</td>\n",
       "    </tr>\n",
       "    <tr>\n",
       "      <th>1114</th>\n",
       "      <td>2664.057325</td>\n",
       "    </tr>\n",
       "  </tbody>\n",
       "</table>\n",
       "<p>1102 rows × 1 columns</p>\n",
       "</div>"
      ]
     },
     "metadata": {},
     "execution_count": 82
    }
   ],
   "metadata": {}
  },
  {
   "cell_type": "code",
   "execution_count": null,
   "source": [
    "# Lets say its profitable if we get 60% increase in the mean customer amount\r\n",
    "store_index = get_increase_per_store(customer_value, profitable_promo=60)\r\n",
    "store_60_perc_inc = customers[customers.index.isin(store_index)]\r\n",
    "results.add_data('60percincrease', store_60_perc_inc)\r\n",
    "store_60_perc_inc\r\n"
   ],
   "outputs": [
    {
     "output_type": "execute_result",
     "data": {
      "text/plain": [
       "         Customers\n",
       "Store             \n",
       "1       467.646497\n",
       "2       486.045648\n",
       "4      1100.057325\n",
       "5       444.360934\n",
       "6       525.990446\n",
       "...            ...\n",
       "1107    549.465699\n",
       "1108    488.755839\n",
       "1109    371.179420\n",
       "1110    449.000000\n",
       "1111    373.548832\n",
       "\n",
       "[596 rows x 1 columns]"
      ],
      "text/html": [
       "<div>\n",
       "<style scoped>\n",
       "    .dataframe tbody tr th:only-of-type {\n",
       "        vertical-align: middle;\n",
       "    }\n",
       "\n",
       "    .dataframe tbody tr th {\n",
       "        vertical-align: top;\n",
       "    }\n",
       "\n",
       "    .dataframe thead th {\n",
       "        text-align: right;\n",
       "    }\n",
       "</style>\n",
       "<table border=\"1\" class=\"dataframe\">\n",
       "  <thead>\n",
       "    <tr style=\"text-align: right;\">\n",
       "      <th></th>\n",
       "      <th>Customers</th>\n",
       "    </tr>\n",
       "    <tr>\n",
       "      <th>Store</th>\n",
       "      <th></th>\n",
       "    </tr>\n",
       "  </thead>\n",
       "  <tbody>\n",
       "    <tr>\n",
       "      <th>1</th>\n",
       "      <td>467.646497</td>\n",
       "    </tr>\n",
       "    <tr>\n",
       "      <th>2</th>\n",
       "      <td>486.045648</td>\n",
       "    </tr>\n",
       "    <tr>\n",
       "      <th>4</th>\n",
       "      <td>1100.057325</td>\n",
       "    </tr>\n",
       "    <tr>\n",
       "      <th>5</th>\n",
       "      <td>444.360934</td>\n",
       "    </tr>\n",
       "    <tr>\n",
       "      <th>6</th>\n",
       "      <td>525.990446</td>\n",
       "    </tr>\n",
       "    <tr>\n",
       "      <th>...</th>\n",
       "      <td>...</td>\n",
       "    </tr>\n",
       "    <tr>\n",
       "      <th>1107</th>\n",
       "      <td>549.465699</td>\n",
       "    </tr>\n",
       "    <tr>\n",
       "      <th>1108</th>\n",
       "      <td>488.755839</td>\n",
       "    </tr>\n",
       "    <tr>\n",
       "      <th>1109</th>\n",
       "      <td>371.179420</td>\n",
       "    </tr>\n",
       "    <tr>\n",
       "      <th>1110</th>\n",
       "      <td>449.000000</td>\n",
       "    </tr>\n",
       "    <tr>\n",
       "      <th>1111</th>\n",
       "      <td>373.548832</td>\n",
       "    </tr>\n",
       "  </tbody>\n",
       "</table>\n",
       "<p>596 rows × 1 columns</p>\n",
       "</div>"
      ]
     },
     "metadata": {},
     "execution_count": 83
    }
   ],
   "metadata": {}
  },
  {
   "cell_type": "code",
   "execution_count": null,
   "source": [
    "# Lets say its profitable if we get 90% increase in the mean customer amount\r\n",
    "store_index = get_increase_per_store(customer_value, profitable_promo=120)\r\n",
    "store_90_perc_inc = customers[customers.index.isin(store_index)]\r\n",
    "results.add_data('90percincrease', store_90_perc_inc)\r\n",
    "store_90_perc_inc\r\n"
   ],
   "outputs": [
    {
     "output_type": "execute_result",
     "data": {
      "text/plain": [
       "        Customers\n",
       "Store            \n",
       "197    701.006369\n",
       "606    516.692144"
      ],
      "text/html": [
       "<div>\n",
       "<style scoped>\n",
       "    .dataframe tbody tr th:only-of-type {\n",
       "        vertical-align: middle;\n",
       "    }\n",
       "\n",
       "    .dataframe tbody tr th {\n",
       "        vertical-align: top;\n",
       "    }\n",
       "\n",
       "    .dataframe thead th {\n",
       "        text-align: right;\n",
       "    }\n",
       "</style>\n",
       "<table border=\"1\" class=\"dataframe\">\n",
       "  <thead>\n",
       "    <tr style=\"text-align: right;\">\n",
       "      <th></th>\n",
       "      <th>Customers</th>\n",
       "    </tr>\n",
       "    <tr>\n",
       "      <th>Store</th>\n",
       "      <th></th>\n",
       "    </tr>\n",
       "  </thead>\n",
       "  <tbody>\n",
       "    <tr>\n",
       "      <th>197</th>\n",
       "      <td>701.006369</td>\n",
       "    </tr>\n",
       "    <tr>\n",
       "      <th>606</th>\n",
       "      <td>516.692144</td>\n",
       "    </tr>\n",
       "  </tbody>\n",
       "</table>\n",
       "</div>"
      ]
     },
     "metadata": {},
     "execution_count": 84
    }
   ],
   "metadata": {}
  },
  {
   "cell_type": "markdown",
   "source": [
    "## 7. Trends of customer behavior during store open and closing times"
   ],
   "metadata": {}
  },
  {
   "cell_type": "code",
   "execution_count": null,
   "source": [
    "customer_behaviour = train_df.groupby('Open').agg({'Customers':'mean','Sales':'mean'})\r\n",
    "customer_behaviour"
   ],
   "outputs": [
    {
     "output_type": "execute_result",
     "data": {
      "text/plain": [
       "       Customers        Sales\n",
       "Open                         \n",
       "0       0.000000     0.000000\n",
       "1     762.728395  6955.514291"
      ],
      "text/html": [
       "<div>\n",
       "<style scoped>\n",
       "    .dataframe tbody tr th:only-of-type {\n",
       "        vertical-align: middle;\n",
       "    }\n",
       "\n",
       "    .dataframe tbody tr th {\n",
       "        vertical-align: top;\n",
       "    }\n",
       "\n",
       "    .dataframe thead th {\n",
       "        text-align: right;\n",
       "    }\n",
       "</style>\n",
       "<table border=\"1\" class=\"dataframe\">\n",
       "  <thead>\n",
       "    <tr style=\"text-align: right;\">\n",
       "      <th></th>\n",
       "      <th>Customers</th>\n",
       "      <th>Sales</th>\n",
       "    </tr>\n",
       "    <tr>\n",
       "      <th>Open</th>\n",
       "      <th></th>\n",
       "      <th></th>\n",
       "    </tr>\n",
       "  </thead>\n",
       "  <tbody>\n",
       "    <tr>\n",
       "      <th>0</th>\n",
       "      <td>0.000000</td>\n",
       "      <td>0.000000</td>\n",
       "    </tr>\n",
       "    <tr>\n",
       "      <th>1</th>\n",
       "      <td>762.728395</td>\n",
       "      <td>6955.514291</td>\n",
       "    </tr>\n",
       "  </tbody>\n",
       "</table>\n",
       "</div>"
      ]
     },
     "metadata": {},
     "execution_count": 85
    }
   ],
   "metadata": {}
  },
  {
   "cell_type": "code",
   "execution_count": null,
   "source": [
    "sns.catplot(data=joined_df, x=\"DayOfWeek\", y=\"Sales\", hue=\"Open\", kind='point')\r\n",
    "\r\n",
    "plt.savefig('../data/dayofweeksales.png')"
   ],
   "outputs": [
    {
     "output_type": "display_data",
     "data": {
      "text/plain": [
       "<Figure size 402.375x360 with 1 Axes>"
      ],
      "image/png": "[encoded data removed]"
     },
     "metadata": {
      "needs_background": "light"
     }
    }
   ],
   "metadata": {}
  },
  {
   "cell_type": "markdown",
   "source": [
    "## 8. Which stores are opened on all weekdays? How does that affect their sales on weekends? "
   ],
   "metadata": {}
  },
  {
   "cell_type": "code",
   "execution_count": null,
   "source": [
    "# open_all_weekdays = \r\n",
    "# all_week_stores = pd.DataFrame(train_df.groupby(['Store', 'DayOfWeek']).size().groupby(level=1).count(),columns=['Open For Week Days'])\r\n",
    "# all_week_stores[all_week_stores['Open For Week Days'] == 5]\r\n",
    "# all_week_stores\r\n",
    "# train_df.groupby(['Store', 'DayOfWeek']).agg({'Sales':'mean'})\r\n"
   ],
   "outputs": [],
   "metadata": {}
  },
  {
   "cell_type": "code",
   "execution_count": null,
   "source": [
    "# open to weekday relation ---- to do, promo to weekday\r\n",
    "# open_all_weekdays (Mon - Fri)\r\n",
    "# First Remove all holiday related days\r\n",
    "holiday_out_df = train_df[train_df['StateHoliday'] == 0]\r\n",
    "weekdays_df = holiday_out_df[holiday_out_df['DayOfWeek'] <= 5]\r\n",
    "not_open_stores = weekdays_df[weekdays_df['Open'] == 0]\r\n",
    "not_open_stores_id = not_open_stores['Store']\r\n",
    "not_open_stores_id = not_open_stores_id.values.tolist()\r\n",
    "\r\n",
    "all_weekdays_open_stores = train_df[~train_df['Store'].isin(not_open_stores_id)]\r\n",
    "all_weekdays_open_stores\r\n",
    "not_all_weekdays_open_stores = train_df[train_df['Store'].isin(not_open_stores_id)]"
   ],
   "outputs": [],
   "metadata": {}
  },
  {
   "cell_type": "code",
   "execution_count": null,
   "source": [
    "fig, axs = plt.subplots(1, 2, figsize=(20, 5))\r\n",
    "fig.suptitle(f'Comparison')\r\n",
    "plot1 = sns.barplot(\r\n",
    "    x='DayOfWeek', y='Sales', data=all_weekdays_open_stores, ax=axs[0])\r\n",
    "plot1.set_title('All Week Day Stores')\r\n",
    "for p in plot1.patches:\r\n",
    "    plot1.annotate(format(p.get_height(), '.1f'),\r\n",
    "                   (p.get_x() + p.get_width() / 2., p.get_height()),\r\n",
    "                   ha='center', va='center',\r\n",
    "                   size=15,\r\n",
    "                   xytext=(0, -12),\r\n",
    "                   textcoords='offset points')\r\n",
    "\r\n",
    "plot2 = sns.barplot(\r\n",
    "    x='DayOfWeek', y='Sales', data=not_all_weekdays_open_stores, ax=axs[1])\r\n",
    "plot2.set_title('Not all Week Day Stores')\r\n",
    "for p in plot2.patches:\r\n",
    "    plot2.annotate(format(p.get_height(), '.1f'),\r\n",
    "                   (p.get_x() + p.get_width() / 2., p.get_height()),\r\n",
    "                   ha='center', va='center',\r\n",
    "                   size=15,\r\n",
    "                   xytext=(0, -12),\r\n",
    "                   textcoords='offset points')\r\n",
    "\r\n",
    "plt.savefig('../data/alldaycomp.png')"
   ],
   "outputs": [
    {
     "output_type": "display_data",
     "data": {
      "text/plain": [
       "<Figure size 1440x360 with 2 Axes>"
      ],
      "image/png": "[encoded data removed]"
     },
     "metadata": {
      "needs_background": "light"
     }
    }
   ],
   "metadata": {}
  },
  {
   "cell_type": "markdown",
   "source": [
    "## 9. Check how the assortment type affects sales"
   ],
   "metadata": {}
  },
  {
   "cell_type": "code",
   "execution_count": null,
   "source": [
    "assortment_sales_rln = joined_df.loc[:, ['Assortment', 'Sales', 'Customers']]\r\n",
    "assortment_sales_rln = assortment_sales_rln.groupby(\r\n",
    "    \"Assortment\").agg({'Sales': 'mean', 'Customers': 'mean'})\r\n",
    "\r\n",
    "X_axis = np.arange(len(assortment_sales_rln.index))\r\n",
    "plt.figure(figsize=(10, 5))\r\n",
    "plt1 = plt.bar(X_axis - 0.2, assortment_sales_rln['Sales'], 0.4, label='Sales')\r\n",
    "for p in plt1.patches:\r\n",
    "    plt.annotate('{:.2f}'.format(p.get_height()), (p.get_x()\r\n",
    "                                                   * 1.005, p.get_height() * 1.005))\r\n",
    "plt2 = plt.bar(X_axis + 0.2, assortment_sales_rln['Customers'], 0.4, label='Customers')\r\n",
    "for p in plt2.patches:\r\n",
    "    plt.annotate('{:.2f}'.format(p.get_height()), (p.get_x()\r\n",
    "                                                   * 1.005, p.get_height() * 1.005))\r\n",
    "\r\n",
    "plt.xticks(X_axis, assortment_sales_rln.index)\r\n",
    "plt.xlabel(\"Assortments\")\r\n",
    "plt.ylabel(\"Mean Amount\")\r\n",
    "plt.title(\"Sales and Customers Based on Store Assortment Type\")\r\n",
    "plt.legend()\r\n",
    "plt.show()\r\n",
    "\r\n",
    "plt.savefig('../data/storeassortmentclass.png')"
   ],
   "outputs": [
    {
     "output_type": "display_data",
     "data": {
      "text/plain": [
       "<Figure size 720x360 with 1 Axes>"
      ],
      "image/png": "[encoded data removed]"
     },
     "metadata": {
      "needs_background": "light"
     }
    },
    {
     "output_type": "display_data",
     "data": {
      "text/plain": [
       "<Figure size 432x288 with 0 Axes>"
      ]
     },
     "metadata": {}
    }
   ],
   "metadata": {}
  },
  {
   "cell_type": "markdown",
   "source": [
    "## 10. How does the distance to the next competitor affect sales? What if the store and its competitors all happen to be in city centres, does the distance matter in that case?"
   ],
   "metadata": {}
  },
  {
   "cell_type": "code",
   "execution_count": null,
   "source": [
    "comp_dist_df = joined_df.loc[:, ['Store','Sales','Customers','CompetitionDistance']]\r\n",
    "comp_dist_df = comp_dist_df.dropna()\r\n",
    "comp_dist_df.shape"
   ],
   "outputs": [
    {
     "output_type": "execute_result",
     "data": {
      "text/plain": [
       "(1014567, 4)"
      ]
     },
     "metadata": {},
     "execution_count": 91
    }
   ],
   "metadata": {}
  },
  {
   "cell_type": "code",
   "execution_count": null,
   "source": [
    "group_comp_dist = comp_dist_df.groupby('Store', as_index=False).median()\r\n",
    "group_comp_dist"
   ],
   "outputs": [
    {
     "output_type": "execute_result",
     "data": {
      "text/plain": [
       "      Store    Sales  Customers  CompetitionDistance\n",
       "0         1   4373.5      529.0               1270.0\n",
       "1         2   4395.5      542.0                570.0\n",
       "2         3   5892.0      705.0              14130.0\n",
       "3         4   9062.0     1261.5                620.0\n",
       "4         5   4180.0      537.0              29910.0\n",
       "...     ...      ...        ...                  ...\n",
       "1107   1111   4614.0      431.0               1900.0\n",
       "1108   1112   8707.0      755.0               1880.0\n",
       "1109   1113   6018.5      675.5               9260.0\n",
       "1110   1114  19556.5     3086.0                870.0\n",
       "1111   1115   5671.0      401.0               5350.0\n",
       "\n",
       "[1112 rows x 4 columns]"
      ],
      "text/html": [
       "<div>\n",
       "<style scoped>\n",
       "    .dataframe tbody tr th:only-of-type {\n",
       "        vertical-align: middle;\n",
       "    }\n",
       "\n",
       "    .dataframe tbody tr th {\n",
       "        vertical-align: top;\n",
       "    }\n",
       "\n",
       "    .dataframe thead th {\n",
       "        text-align: right;\n",
       "    }\n",
       "</style>\n",
       "<table border=\"1\" class=\"dataframe\">\n",
       "  <thead>\n",
       "    <tr style=\"text-align: right;\">\n",
       "      <th></th>\n",
       "      <th>Store</th>\n",
       "      <th>Sales</th>\n",
       "      <th>Customers</th>\n",
       "      <th>CompetitionDistance</th>\n",
       "    </tr>\n",
       "  </thead>\n",
       "  <tbody>\n",
       "    <tr>\n",
       "      <th>0</th>\n",
       "      <td>1</td>\n",
       "      <td>4373.5</td>\n",
       "      <td>529.0</td>\n",
       "      <td>1270.0</td>\n",
       "    </tr>\n",
       "    <tr>\n",
       "      <th>1</th>\n",
       "      <td>2</td>\n",
       "      <td>4395.5</td>\n",
       "      <td>542.0</td>\n",
       "      <td>570.0</td>\n",
       "    </tr>\n",
       "    <tr>\n",
       "      <th>2</th>\n",
       "      <td>3</td>\n",
       "      <td>5892.0</td>\n",
       "      <td>705.0</td>\n",
       "      <td>14130.0</td>\n",
       "    </tr>\n",
       "    <tr>\n",
       "      <th>3</th>\n",
       "      <td>4</td>\n",
       "      <td>9062.0</td>\n",
       "      <td>1261.5</td>\n",
       "      <td>620.0</td>\n",
       "    </tr>\n",
       "    <tr>\n",
       "      <th>4</th>\n",
       "      <td>5</td>\n",
       "      <td>4180.0</td>\n",
       "      <td>537.0</td>\n",
       "      <td>29910.0</td>\n",
       "    </tr>\n",
       "    <tr>\n",
       "      <th>...</th>\n",
       "      <td>...</td>\n",
       "      <td>...</td>\n",
       "      <td>...</td>\n",
       "      <td>...</td>\n",
       "    </tr>\n",
       "    <tr>\n",
       "      <th>1107</th>\n",
       "      <td>1111</td>\n",
       "      <td>4614.0</td>\n",
       "      <td>431.0</td>\n",
       "      <td>1900.0</td>\n",
       "    </tr>\n",
       "    <tr>\n",
       "      <th>1108</th>\n",
       "      <td>1112</td>\n",
       "      <td>8707.0</td>\n",
       "      <td>755.0</td>\n",
       "      <td>1880.0</td>\n",
       "    </tr>\n",
       "    <tr>\n",
       "      <th>1109</th>\n",
       "      <td>1113</td>\n",
       "      <td>6018.5</td>\n",
       "      <td>675.5</td>\n",
       "      <td>9260.0</td>\n",
       "    </tr>\n",
       "    <tr>\n",
       "      <th>1110</th>\n",
       "      <td>1114</td>\n",
       "      <td>19556.5</td>\n",
       "      <td>3086.0</td>\n",
       "      <td>870.0</td>\n",
       "    </tr>\n",
       "    <tr>\n",
       "      <th>1111</th>\n",
       "      <td>1115</td>\n",
       "      <td>5671.0</td>\n",
       "      <td>401.0</td>\n",
       "      <td>5350.0</td>\n",
       "    </tr>\n",
       "  </tbody>\n",
       "</table>\n",
       "<p>1112 rows × 4 columns</p>\n",
       "</div>"
      ]
     },
     "metadata": {},
     "execution_count": 92
    }
   ],
   "metadata": {}
  },
  {
   "cell_type": "code",
   "execution_count": null,
   "source": [
    "group_comp_dist_corr = group_comp_dist.corr()\r\n",
    "plt.figure(figsize=(10, 7))\r\n",
    "sns.heatmap(group_comp_dist_corr, annot=True)\r\n",
    "plt.title('Competition - Sales and Customer Relation', size=18, fontweight='bold')\r\n",
    "\r\n",
    "plt.savefig('../data/salescustcomprln.png')\r\n"
   ],
   "outputs": [
    {
     "output_type": "display_data",
     "data": {
      "text/plain": [
       "<Figure size 720x504 with 2 Axes>"
      ],
      "image/png": "[encoded data removed]"
     },
     "metadata": {
      "needs_background": "light"
     }
    }
   ],
   "metadata": {}
  },
  {
   "cell_type": "code",
   "execution_count": null,
   "source": [],
   "outputs": [],
   "metadata": {}
  },
  {
   "cell_type": "markdown",
   "source": [
    "## 11. How does the opening or reopening of new competitors affect stores? Check for stores with NA as competitor distance but later on has values for competitor distance"
   ],
   "metadata": {}
  },
  {
   "cell_type": "code",
   "execution_count": null,
   "source": [
    "open_close_df = joined_df.loc[:, ['Store', 'Sales', 'Customers', 'Month', 'Year',\r\n",
    "                                 \"CompetitionDistance\", \"CompetitionOpenSinceMonth\", \"CompetitionOpenSinceYear\"]]\r\n",
    "store_got_new_comp = open_close_df.loc[open_close_df['CompetitionOpenSinceMonth'].notnull()]\r\n",
    "\r\n",
    "store_got_new_comp_cleaner = DataCleaner(store_got_new_comp)\r\n",
    "store_got_new_comp_cleaner.change_columns_type_to(['CompetitionOpenSinceMonth', 'CompetitionOpenSinceYear'], 'int64')\r\n",
    "store_got_new_comp_cleaner.optimize_df()\r\n",
    "\r\n",
    "store_got_new_comp = store_got_new_comp_cleaner.df\r\n",
    "store_got_new_comp.shape"
   ],
   "outputs": [
    {
     "output_type": "stream",
     "name": "stderr",
     "text": [
      "d:\\10Academy\\Week 3\\pharmacy_sales_prediction\\scripts\\data_cleaner.py:125: SettingWithCopyWarning: \n",
      "A value is trying to be set on a copy of a slice from a DataFrame.\n",
      "Try using .loc[row_indexer,col_indexer] = value instead\n",
      "\n",
      "See the caveats in the documentation: https://pandas.pydata.org/pandas-docs/stable/user_guide/indexing.html#returning-a-view-versus-a-copy\n",
      "  self.df[col] = self.df[col].astype(data_type)\n",
      "d:\\10Academy\\Week 3\\pharmacy_sales_prediction\\scripts\\data_cleaner.py:377: SettingWithCopyWarning: \n",
      "A value is trying to be set on a copy of a slice from a DataFrame.\n",
      "Try using .loc[row_indexer,col_indexer] = value instead\n",
      "\n",
      "See the caveats in the documentation: https://pandas.pydata.org/pandas-docs/stable/user_guide/indexing.html#returning-a-view-versus-a-copy\n",
      "  self.df[col] = pd.to_numeric(\n",
      "d:\\10Academy\\Week 3\\pharmacy_sales_prediction\\scripts\\data_cleaner.py:373: SettingWithCopyWarning: \n",
      "A value is trying to be set on a copy of a slice from a DataFrame.\n",
      "Try using .loc[row_indexer,col_indexer] = value instead\n",
      "\n",
      "See the caveats in the documentation: https://pandas.pydata.org/pandas-docs/stable/user_guide/indexing.html#returning-a-view-versus-a-copy\n",
      "  self.df[col] = pd.to_numeric(\n"
     ]
    },
    {
     "output_type": "execute_result",
     "data": {
      "text/plain": [
       "(693861, 8)"
      ]
     },
     "metadata": {},
     "execution_count": 94
    }
   ],
   "metadata": {}
  },
  {
   "cell_type": "code",
   "execution_count": null,
   "source": [
    "comp_store_opened_year = store_got_new_comp[store_got_new_comp['Year']\r\n",
    "                                            <= store_got_new_comp['CompetitionOpenSinceYear']]\r\n",
    "\r\n",
    "comp_store_opened_final = comp_store_opened_year[comp_store_opened_year['Month']\r\n",
    "                                                 <= comp_store_opened_year['CompetitionOpenSinceMonth']]\r\n",
    "\r\n",
    "comp_store_closed_year = store_got_new_comp[~(store_got_new_comp['Year']\r\n",
    "                                              <= store_got_new_comp['CompetitionOpenSinceYear'])]\r\n",
    "\r\n",
    "comp_store_closed_final = comp_store_closed_year.append(comp_store_opened_year[~(comp_store_opened_year['Month']\r\n",
    "                                                                                 <= comp_store_opened_year['CompetitionOpenSinceMonth'])])\r\n",
    "\r\n",
    "grouping_stores_after_store_open = comp_store_opened_final.groupby('Store').agg({'Sales':'median','Customers':'median'})\r\n",
    "grouping_stores_before_store_open = comp_store_closed_final.groupby(\r\n",
    "    'Store').agg({'Sales': 'median', 'Customers': 'median'})\r\n"
   ],
   "outputs": [],
   "metadata": {}
  },
  {
   "cell_type": "code",
   "execution_count": null,
   "source": [
    "grouping_stores_after_store_open.columns = ['After Sales', 'After Customers']\r\n",
    "grouping_stores_after_store_open['Before Sales'] = grouping_stores_before_store_open['Sales'][grouping_stores_before_store_open.index]\r\n",
    "grouping_stores_after_store_open['Before Customers'] = grouping_stores_before_store_open['Customers'][grouping_stores_before_store_open.index]\r\n",
    "grouping_stores_after_store_open"
   ],
   "outputs": [
    {
     "output_type": "execute_result",
     "data": {
      "text/plain": [
       "       After Sales  After Customers  Before Sales  Before Customers\n",
       "Store                                                              \n",
       "5           3942.0            516.0        4328.5             544.5\n",
       "6           5975.0            731.0        4461.0             554.0\n",
       "7           7060.5            826.0        8003.0             909.0\n",
       "8           4567.5            606.0        5577.0             693.5\n",
       "14          4944.0            624.0        5030.0             614.0\n",
       "...            ...              ...           ...               ...\n",
       "1085        6441.0            723.0        6775.0             724.0\n",
       "1086        7949.0            916.0        5238.0             683.0\n",
       "1094        4045.0            344.5        4145.0             345.0\n",
       "1099        7930.5            957.0        7402.5             955.0\n",
       "1111        4667.0            453.0        4536.5             416.0\n",
       "\n",
       "[191 rows x 4 columns]"
      ],
      "text/html": [
       "<div>\n",
       "<style scoped>\n",
       "    .dataframe tbody tr th:only-of-type {\n",
       "        vertical-align: middle;\n",
       "    }\n",
       "\n",
       "    .dataframe tbody tr th {\n",
       "        vertical-align: top;\n",
       "    }\n",
       "\n",
       "    .dataframe thead th {\n",
       "        text-align: right;\n",
       "    }\n",
       "</style>\n",
       "<table border=\"1\" class=\"dataframe\">\n",
       "  <thead>\n",
       "    <tr style=\"text-align: right;\">\n",
       "      <th></th>\n",
       "      <th>After Sales</th>\n",
       "      <th>After Customers</th>\n",
       "      <th>Before Sales</th>\n",
       "      <th>Before Customers</th>\n",
       "    </tr>\n",
       "    <tr>\n",
       "      <th>Store</th>\n",
       "      <th></th>\n",
       "      <th></th>\n",
       "      <th></th>\n",
       "      <th></th>\n",
       "    </tr>\n",
       "  </thead>\n",
       "  <tbody>\n",
       "    <tr>\n",
       "      <th>5</th>\n",
       "      <td>3942.0</td>\n",
       "      <td>516.0</td>\n",
       "      <td>4328.5</td>\n",
       "      <td>544.5</td>\n",
       "    </tr>\n",
       "    <tr>\n",
       "      <th>6</th>\n",
       "      <td>5975.0</td>\n",
       "      <td>731.0</td>\n",
       "      <td>4461.0</td>\n",
       "      <td>554.0</td>\n",
       "    </tr>\n",
       "    <tr>\n",
       "      <th>7</th>\n",
       "      <td>7060.5</td>\n",
       "      <td>826.0</td>\n",
       "      <td>8003.0</td>\n",
       "      <td>909.0</td>\n",
       "    </tr>\n",
       "    <tr>\n",
       "      <th>8</th>\n",
       "      <td>4567.5</td>\n",
       "      <td>606.0</td>\n",
       "      <td>5577.0</td>\n",
       "      <td>693.5</td>\n",
       "    </tr>\n",
       "    <tr>\n",
       "      <th>14</th>\n",
       "      <td>4944.0</td>\n",
       "      <td>624.0</td>\n",
       "      <td>5030.0</td>\n",
       "      <td>614.0</td>\n",
       "    </tr>\n",
       "    <tr>\n",
       "      <th>...</th>\n",
       "      <td>...</td>\n",
       "      <td>...</td>\n",
       "      <td>...</td>\n",
       "      <td>...</td>\n",
       "    </tr>\n",
       "    <tr>\n",
       "      <th>1085</th>\n",
       "      <td>6441.0</td>\n",
       "      <td>723.0</td>\n",
       "      <td>6775.0</td>\n",
       "      <td>724.0</td>\n",
       "    </tr>\n",
       "    <tr>\n",
       "      <th>1086</th>\n",
       "      <td>7949.0</td>\n",
       "      <td>916.0</td>\n",
       "      <td>5238.0</td>\n",
       "      <td>683.0</td>\n",
       "    </tr>\n",
       "    <tr>\n",
       "      <th>1094</th>\n",
       "      <td>4045.0</td>\n",
       "      <td>344.5</td>\n",
       "      <td>4145.0</td>\n",
       "      <td>345.0</td>\n",
       "    </tr>\n",
       "    <tr>\n",
       "      <th>1099</th>\n",
       "      <td>7930.5</td>\n",
       "      <td>957.0</td>\n",
       "      <td>7402.5</td>\n",
       "      <td>955.0</td>\n",
       "    </tr>\n",
       "    <tr>\n",
       "      <th>1111</th>\n",
       "      <td>4667.0</td>\n",
       "      <td>453.0</td>\n",
       "      <td>4536.5</td>\n",
       "      <td>416.0</td>\n",
       "    </tr>\n",
       "  </tbody>\n",
       "</table>\n",
       "<p>191 rows × 4 columns</p>\n",
       "</div>"
      ]
     },
     "metadata": {},
     "execution_count": 96
    }
   ],
   "metadata": {}
  },
  {
   "cell_type": "code",
   "execution_count": null,
   "source": [
    "change_sales_customer_df = grouping_stores_after_store_open.copy(deep=True)\r\n",
    "change_sales_customer_df['Change in Sales'] = change_sales_customer_df['After Sales'] - change_sales_customer_df['Before Sales']\r\n",
    "change_sales_customer_df['Change in Customers'] = change_sales_customer_df['After Customers'] - change_sales_customer_df['Before Customers']\r\n",
    "change_sales_customer_df.drop(['After Sales', 'Before Sales', 'After Customers', 'Before Customers'], axis=1, inplace=True)\r\n",
    "results.add_data('newcompcomingeffect', change_sales_customer_df)\r\n",
    "change_sales_customer_df\r\n"
   ],
   "outputs": [
    {
     "output_type": "execute_result",
     "data": {
      "text/plain": [
       "       Change in Sales  Change in Customers\n",
       "Store                                      \n",
       "5               -386.5                -28.5\n",
       "6               1514.0                177.0\n",
       "7               -942.5                -83.0\n",
       "8              -1009.5                -87.5\n",
       "14               -86.0                 10.0\n",
       "...                ...                  ...\n",
       "1085            -334.0                 -1.0\n",
       "1086            2711.0                233.0\n",
       "1094            -100.0                 -0.5\n",
       "1099             528.0                  2.0\n",
       "1111             130.5                 37.0\n",
       "\n",
       "[191 rows x 2 columns]"
      ],
      "text/html": [
       "<div>\n",
       "<style scoped>\n",
       "    .dataframe tbody tr th:only-of-type {\n",
       "        vertical-align: middle;\n",
       "    }\n",
       "\n",
       "    .dataframe tbody tr th {\n",
       "        vertical-align: top;\n",
       "    }\n",
       "\n",
       "    .dataframe thead th {\n",
       "        text-align: right;\n",
       "    }\n",
       "</style>\n",
       "<table border=\"1\" class=\"dataframe\">\n",
       "  <thead>\n",
       "    <tr style=\"text-align: right;\">\n",
       "      <th></th>\n",
       "      <th>Change in Sales</th>\n",
       "      <th>Change in Customers</th>\n",
       "    </tr>\n",
       "    <tr>\n",
       "      <th>Store</th>\n",
       "      <th></th>\n",
       "      <th></th>\n",
       "    </tr>\n",
       "  </thead>\n",
       "  <tbody>\n",
       "    <tr>\n",
       "      <th>5</th>\n",
       "      <td>-386.5</td>\n",
       "      <td>-28.5</td>\n",
       "    </tr>\n",
       "    <tr>\n",
       "      <th>6</th>\n",
       "      <td>1514.0</td>\n",
       "      <td>177.0</td>\n",
       "    </tr>\n",
       "    <tr>\n",
       "      <th>7</th>\n",
       "      <td>-942.5</td>\n",
       "      <td>-83.0</td>\n",
       "    </tr>\n",
       "    <tr>\n",
       "      <th>8</th>\n",
       "      <td>-1009.5</td>\n",
       "      <td>-87.5</td>\n",
       "    </tr>\n",
       "    <tr>\n",
       "      <th>14</th>\n",
       "      <td>-86.0</td>\n",
       "      <td>10.0</td>\n",
       "    </tr>\n",
       "    <tr>\n",
       "      <th>...</th>\n",
       "      <td>...</td>\n",
       "      <td>...</td>\n",
       "    </tr>\n",
       "    <tr>\n",
       "      <th>1085</th>\n",
       "      <td>-334.0</td>\n",
       "      <td>-1.0</td>\n",
       "    </tr>\n",
       "    <tr>\n",
       "      <th>1086</th>\n",
       "      <td>2711.0</td>\n",
       "      <td>233.0</td>\n",
       "    </tr>\n",
       "    <tr>\n",
       "      <th>1094</th>\n",
       "      <td>-100.0</td>\n",
       "      <td>-0.5</td>\n",
       "    </tr>\n",
       "    <tr>\n",
       "      <th>1099</th>\n",
       "      <td>528.0</td>\n",
       "      <td>2.0</td>\n",
       "    </tr>\n",
       "    <tr>\n",
       "      <th>1111</th>\n",
       "      <td>130.5</td>\n",
       "      <td>37.0</td>\n",
       "    </tr>\n",
       "  </tbody>\n",
       "</table>\n",
       "<p>191 rows × 2 columns</p>\n",
       "</div>"
      ]
     },
     "metadata": {},
     "execution_count": 97
    }
   ],
   "metadata": {}
  },
  {
   "cell_type": "code",
   "execution_count": null,
   "source": [
    "# Stores with decrease in sales and customers\r\n",
    "decrease_sales_store = change_sales_customer_df[change_sales_customer_df['Change in Sales'] < 0]\r\n",
    "decrease_customers_store = change_sales_customer_df[change_sales_customer_df['Change in Customers'] < 0]\r\n"
   ],
   "outputs": [],
   "metadata": {}
  },
  {
   "cell_type": "code",
   "execution_count": null,
   "source": [
    "results.add_data('salesdecrease', decrease_sales_store)\r\n",
    "decrease_sales_store\r\n"
   ],
   "outputs": [
    {
     "output_type": "execute_result",
     "data": {
      "text/plain": [
       "       Change in Sales  Change in Customers\n",
       "Store                                      \n",
       "5               -386.5                -28.5\n",
       "7               -942.5                -83.0\n",
       "8              -1009.5                -87.5\n",
       "14               -86.0                 10.0\n",
       "45              -118.5                 -4.5\n",
       "...                ...                  ...\n",
       "1053            -127.5                -14.5\n",
       "1059             -90.0                  8.5\n",
       "1072             -26.5                -10.0\n",
       "1085            -334.0                 -1.0\n",
       "1094            -100.0                 -0.5\n",
       "\n",
       "[105 rows x 2 columns]"
      ],
      "text/html": [
       "<div>\n",
       "<style scoped>\n",
       "    .dataframe tbody tr th:only-of-type {\n",
       "        vertical-align: middle;\n",
       "    }\n",
       "\n",
       "    .dataframe tbody tr th {\n",
       "        vertical-align: top;\n",
       "    }\n",
       "\n",
       "    .dataframe thead th {\n",
       "        text-align: right;\n",
       "    }\n",
       "</style>\n",
       "<table border=\"1\" class=\"dataframe\">\n",
       "  <thead>\n",
       "    <tr style=\"text-align: right;\">\n",
       "      <th></th>\n",
       "      <th>Change in Sales</th>\n",
       "      <th>Change in Customers</th>\n",
       "    </tr>\n",
       "    <tr>\n",
       "      <th>Store</th>\n",
       "      <th></th>\n",
       "      <th></th>\n",
       "    </tr>\n",
       "  </thead>\n",
       "  <tbody>\n",
       "    <tr>\n",
       "      <th>5</th>\n",
       "      <td>-386.5</td>\n",
       "      <td>-28.5</td>\n",
       "    </tr>\n",
       "    <tr>\n",
       "      <th>7</th>\n",
       "      <td>-942.5</td>\n",
       "      <td>-83.0</td>\n",
       "    </tr>\n",
       "    <tr>\n",
       "      <th>8</th>\n",
       "      <td>-1009.5</td>\n",
       "      <td>-87.5</td>\n",
       "    </tr>\n",
       "    <tr>\n",
       "      <th>14</th>\n",
       "      <td>-86.0</td>\n",
       "      <td>10.0</td>\n",
       "    </tr>\n",
       "    <tr>\n",
       "      <th>45</th>\n",
       "      <td>-118.5</td>\n",
       "      <td>-4.5</td>\n",
       "    </tr>\n",
       "    <tr>\n",
       "      <th>...</th>\n",
       "      <td>...</td>\n",
       "      <td>...</td>\n",
       "    </tr>\n",
       "    <tr>\n",
       "      <th>1053</th>\n",
       "      <td>-127.5</td>\n",
       "      <td>-14.5</td>\n",
       "    </tr>\n",
       "    <tr>\n",
       "      <th>1059</th>\n",
       "      <td>-90.0</td>\n",
       "      <td>8.5</td>\n",
       "    </tr>\n",
       "    <tr>\n",
       "      <th>1072</th>\n",
       "      <td>-26.5</td>\n",
       "      <td>-10.0</td>\n",
       "    </tr>\n",
       "    <tr>\n",
       "      <th>1085</th>\n",
       "      <td>-334.0</td>\n",
       "      <td>-1.0</td>\n",
       "    </tr>\n",
       "    <tr>\n",
       "      <th>1094</th>\n",
       "      <td>-100.0</td>\n",
       "      <td>-0.5</td>\n",
       "    </tr>\n",
       "  </tbody>\n",
       "</table>\n",
       "<p>105 rows × 2 columns</p>\n",
       "</div>"
      ]
     },
     "metadata": {},
     "execution_count": 99
    }
   ],
   "metadata": {}
  },
  {
   "cell_type": "code",
   "execution_count": null,
   "source": [
    "results.add_data('custdecrease', decrease_customers_store)\r\n",
    "decrease_customers_store\r\n"
   ],
   "outputs": [
    {
     "output_type": "execute_result",
     "data": {
      "text/plain": [
       "       Change in Sales  Change in Customers\n",
       "Store                                      \n",
       "5               -386.5                -28.5\n",
       "7               -942.5                -83.0\n",
       "8              -1009.5                -87.5\n",
       "45              -118.5                 -4.5\n",
       "47              -338.0                 -8.0\n",
       "...                ...                  ...\n",
       "1050            -392.5                -17.0\n",
       "1053            -127.5                -14.5\n",
       "1072             -26.5                -10.0\n",
       "1085            -334.0                 -1.0\n",
       "1094            -100.0                 -0.5\n",
       "\n",
       "[77 rows x 2 columns]"
      ],
      "text/html": [
       "<div>\n",
       "<style scoped>\n",
       "    .dataframe tbody tr th:only-of-type {\n",
       "        vertical-align: middle;\n",
       "    }\n",
       "\n",
       "    .dataframe tbody tr th {\n",
       "        vertical-align: top;\n",
       "    }\n",
       "\n",
       "    .dataframe thead th {\n",
       "        text-align: right;\n",
       "    }\n",
       "</style>\n",
       "<table border=\"1\" class=\"dataframe\">\n",
       "  <thead>\n",
       "    <tr style=\"text-align: right;\">\n",
       "      <th></th>\n",
       "      <th>Change in Sales</th>\n",
       "      <th>Change in Customers</th>\n",
       "    </tr>\n",
       "    <tr>\n",
       "      <th>Store</th>\n",
       "      <th></th>\n",
       "      <th></th>\n",
       "    </tr>\n",
       "  </thead>\n",
       "  <tbody>\n",
       "    <tr>\n",
       "      <th>5</th>\n",
       "      <td>-386.5</td>\n",
       "      <td>-28.5</td>\n",
       "    </tr>\n",
       "    <tr>\n",
       "      <th>7</th>\n",
       "      <td>-942.5</td>\n",
       "      <td>-83.0</td>\n",
       "    </tr>\n",
       "    <tr>\n",
       "      <th>8</th>\n",
       "      <td>-1009.5</td>\n",
       "      <td>-87.5</td>\n",
       "    </tr>\n",
       "    <tr>\n",
       "      <th>45</th>\n",
       "      <td>-118.5</td>\n",
       "      <td>-4.5</td>\n",
       "    </tr>\n",
       "    <tr>\n",
       "      <th>47</th>\n",
       "      <td>-338.0</td>\n",
       "      <td>-8.0</td>\n",
       "    </tr>\n",
       "    <tr>\n",
       "      <th>...</th>\n",
       "      <td>...</td>\n",
       "      <td>...</td>\n",
       "    </tr>\n",
       "    <tr>\n",
       "      <th>1050</th>\n",
       "      <td>-392.5</td>\n",
       "      <td>-17.0</td>\n",
       "    </tr>\n",
       "    <tr>\n",
       "      <th>1053</th>\n",
       "      <td>-127.5</td>\n",
       "      <td>-14.5</td>\n",
       "    </tr>\n",
       "    <tr>\n",
       "      <th>1072</th>\n",
       "      <td>-26.5</td>\n",
       "      <td>-10.0</td>\n",
       "    </tr>\n",
       "    <tr>\n",
       "      <th>1085</th>\n",
       "      <td>-334.0</td>\n",
       "      <td>-1.0</td>\n",
       "    </tr>\n",
       "    <tr>\n",
       "      <th>1094</th>\n",
       "      <td>-100.0</td>\n",
       "      <td>-0.5</td>\n",
       "    </tr>\n",
       "  </tbody>\n",
       "</table>\n",
       "<p>77 rows × 2 columns</p>\n",
       "</div>"
      ]
     },
     "metadata": {},
     "execution_count": 100
    }
   ],
   "metadata": {}
  },
  {
   "cell_type": "code",
   "execution_count": null,
   "source": [
    "# # Stores with increase in sales and customers\r\n",
    "increase_sales_store = change_sales_customer_df[change_sales_customer_df['Change in Sales'] > 0]\r\n",
    "increase_customers_store = change_sales_customer_df[change_sales_customer_df['Change in Customers'] > 0]\r\n"
   ],
   "outputs": [],
   "metadata": {}
  },
  {
   "cell_type": "code",
   "execution_count": null,
   "source": [
    "results.add_data('salesincrease', increase_sales_store)\r\n",
    "increase_sales_store\r\n"
   ],
   "outputs": [
    {
     "output_type": "execute_result",
     "data": {
      "text/plain": [
       "       Change in Sales  Change in Customers\n",
       "Store                                      \n",
       "6               1514.0                177.0\n",
       "28               413.0                 72.5\n",
       "30               690.5                137.0\n",
       "33               592.0                 47.0\n",
       "37               261.5                 40.5\n",
       "...                ...                  ...\n",
       "1045             106.0                 31.0\n",
       "1075             174.5                 34.5\n",
       "1086            2711.0                233.0\n",
       "1099             528.0                  2.0\n",
       "1111             130.5                 37.0\n",
       "\n",
       "[85 rows x 2 columns]"
      ],
      "text/html": [
       "<div>\n",
       "<style scoped>\n",
       "    .dataframe tbody tr th:only-of-type {\n",
       "        vertical-align: middle;\n",
       "    }\n",
       "\n",
       "    .dataframe tbody tr th {\n",
       "        vertical-align: top;\n",
       "    }\n",
       "\n",
       "    .dataframe thead th {\n",
       "        text-align: right;\n",
       "    }\n",
       "</style>\n",
       "<table border=\"1\" class=\"dataframe\">\n",
       "  <thead>\n",
       "    <tr style=\"text-align: right;\">\n",
       "      <th></th>\n",
       "      <th>Change in Sales</th>\n",
       "      <th>Change in Customers</th>\n",
       "    </tr>\n",
       "    <tr>\n",
       "      <th>Store</th>\n",
       "      <th></th>\n",
       "      <th></th>\n",
       "    </tr>\n",
       "  </thead>\n",
       "  <tbody>\n",
       "    <tr>\n",
       "      <th>6</th>\n",
       "      <td>1514.0</td>\n",
       "      <td>177.0</td>\n",
       "    </tr>\n",
       "    <tr>\n",
       "      <th>28</th>\n",
       "      <td>413.0</td>\n",
       "      <td>72.5</td>\n",
       "    </tr>\n",
       "    <tr>\n",
       "      <th>30</th>\n",
       "      <td>690.5</td>\n",
       "      <td>137.0</td>\n",
       "    </tr>\n",
       "    <tr>\n",
       "      <th>33</th>\n",
       "      <td>592.0</td>\n",
       "      <td>47.0</td>\n",
       "    </tr>\n",
       "    <tr>\n",
       "      <th>37</th>\n",
       "      <td>261.5</td>\n",
       "      <td>40.5</td>\n",
       "    </tr>\n",
       "    <tr>\n",
       "      <th>...</th>\n",
       "      <td>...</td>\n",
       "      <td>...</td>\n",
       "    </tr>\n",
       "    <tr>\n",
       "      <th>1045</th>\n",
       "      <td>106.0</td>\n",
       "      <td>31.0</td>\n",
       "    </tr>\n",
       "    <tr>\n",
       "      <th>1075</th>\n",
       "      <td>174.5</td>\n",
       "      <td>34.5</td>\n",
       "    </tr>\n",
       "    <tr>\n",
       "      <th>1086</th>\n",
       "      <td>2711.0</td>\n",
       "      <td>233.0</td>\n",
       "    </tr>\n",
       "    <tr>\n",
       "      <th>1099</th>\n",
       "      <td>528.0</td>\n",
       "      <td>2.0</td>\n",
       "    </tr>\n",
       "    <tr>\n",
       "      <th>1111</th>\n",
       "      <td>130.5</td>\n",
       "      <td>37.0</td>\n",
       "    </tr>\n",
       "  </tbody>\n",
       "</table>\n",
       "<p>85 rows × 2 columns</p>\n",
       "</div>"
      ]
     },
     "metadata": {},
     "execution_count": 102
    }
   ],
   "metadata": {}
  },
  {
   "cell_type": "code",
   "execution_count": null,
   "source": [
    "results.add_data('custincrease', increase_customers_store)\r\n",
    "increase_customers_store\r\n"
   ],
   "outputs": [
    {
     "output_type": "execute_result",
     "data": {
      "text/plain": [
       "       Change in Sales  Change in Customers\n",
       "Store                                      \n",
       "6               1514.0                177.0\n",
       "14               -86.0                 10.0\n",
       "28               413.0                 72.5\n",
       "30               690.5                137.0\n",
       "33               592.0                 47.0\n",
       "...                ...                  ...\n",
       "1059             -90.0                  8.5\n",
       "1075             174.5                 34.5\n",
       "1086            2711.0                233.0\n",
       "1099             528.0                  2.0\n",
       "1111             130.5                 37.0\n",
       "\n",
       "[112 rows x 2 columns]"
      ],
      "text/html": [
       "<div>\n",
       "<style scoped>\n",
       "    .dataframe tbody tr th:only-of-type {\n",
       "        vertical-align: middle;\n",
       "    }\n",
       "\n",
       "    .dataframe tbody tr th {\n",
       "        vertical-align: top;\n",
       "    }\n",
       "\n",
       "    .dataframe thead th {\n",
       "        text-align: right;\n",
       "    }\n",
       "</style>\n",
       "<table border=\"1\" class=\"dataframe\">\n",
       "  <thead>\n",
       "    <tr style=\"text-align: right;\">\n",
       "      <th></th>\n",
       "      <th>Change in Sales</th>\n",
       "      <th>Change in Customers</th>\n",
       "    </tr>\n",
       "    <tr>\n",
       "      <th>Store</th>\n",
       "      <th></th>\n",
       "      <th></th>\n",
       "    </tr>\n",
       "  </thead>\n",
       "  <tbody>\n",
       "    <tr>\n",
       "      <th>6</th>\n",
       "      <td>1514.0</td>\n",
       "      <td>177.0</td>\n",
       "    </tr>\n",
       "    <tr>\n",
       "      <th>14</th>\n",
       "      <td>-86.0</td>\n",
       "      <td>10.0</td>\n",
       "    </tr>\n",
       "    <tr>\n",
       "      <th>28</th>\n",
       "      <td>413.0</td>\n",
       "      <td>72.5</td>\n",
       "    </tr>\n",
       "    <tr>\n",
       "      <th>30</th>\n",
       "      <td>690.5</td>\n",
       "      <td>137.0</td>\n",
       "    </tr>\n",
       "    <tr>\n",
       "      <th>33</th>\n",
       "      <td>592.0</td>\n",
       "      <td>47.0</td>\n",
       "    </tr>\n",
       "    <tr>\n",
       "      <th>...</th>\n",
       "      <td>...</td>\n",
       "      <td>...</td>\n",
       "    </tr>\n",
       "    <tr>\n",
       "      <th>1059</th>\n",
       "      <td>-90.0</td>\n",
       "      <td>8.5</td>\n",
       "    </tr>\n",
       "    <tr>\n",
       "      <th>1075</th>\n",
       "      <td>174.5</td>\n",
       "      <td>34.5</td>\n",
       "    </tr>\n",
       "    <tr>\n",
       "      <th>1086</th>\n",
       "      <td>2711.0</td>\n",
       "      <td>233.0</td>\n",
       "    </tr>\n",
       "    <tr>\n",
       "      <th>1099</th>\n",
       "      <td>528.0</td>\n",
       "      <td>2.0</td>\n",
       "    </tr>\n",
       "    <tr>\n",
       "      <th>1111</th>\n",
       "      <td>130.5</td>\n",
       "      <td>37.0</td>\n",
       "    </tr>\n",
       "  </tbody>\n",
       "</table>\n",
       "<p>112 rows × 2 columns</p>\n",
       "</div>"
      ]
     },
     "metadata": {},
     "execution_count": 103
    }
   ],
   "metadata": {}
  },
  {
   "cell_type": "code",
   "execution_count": null,
   "source": [
    "# joined_df = pd.merge(train_df, store_df, on=['Store'])"
   ],
   "outputs": [],
   "metadata": {}
  },
  {
   "cell_type": "code",
   "execution_count": null,
   "source": [
    "# Save data as train.csv and add to dvc\r\n",
    "# joined_df.to_csv('../data/train.csv')"
   ],
   "outputs": [],
   "metadata": {}
  },
  {
   "cell_type": "code",
   "execution_count": null,
   "source": [
    "results.save_data('../data/exploration_info.pkl')"
   ],
   "outputs": [],
   "metadata": {}
  }
 ],
 "metadata": {
  "orig_nbformat": 4,
  "language_info": {
   "name": "python",
   "version": "3.8.4",
   "mimetype": "text/x-python",
   "codemirror_mode": {
    "name": "ipython",
    "version": 3
   },
   "pygments_lexer": "ipython3",
   "nbconvert_exporter": "python",
   "file_extension": ".py"
  },
  "kernelspec": {
   "name": "python3",
   "display_name": "Python 3.8.4 64-bit"
  },
  "interpreter": {
   "hash": "2db524e06e9f5f4ffedc911c917cb75e12dbc923643829bf417064a77eb14d37"
  }
 },
 "nbformat": 4,
 "nbformat_minor": 2
}