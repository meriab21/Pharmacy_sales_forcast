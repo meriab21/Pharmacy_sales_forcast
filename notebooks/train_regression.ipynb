{
 "cells": [
  {
   "cell_type": "markdown",
   "source": [
    "# Training Regression Models using sklearn pipelines"
   ],
   "metadata": {}
  },
  {
   "cell_type": "markdown",
   "source": [
    "# Without Pipeline"
   ],
   "metadata": {}
  },
  {
   "cell_type": "markdown",
   "source": [
    "## Importing Libraries"
   ],
   "metadata": {}
  },
  {
   "cell_type": "code",
   "execution_count": 70,
   "source": [
    "#importing Libraries\r\n",
    "import pandas as pd\r\n",
    "# import dvc.api\r\n",
    "import os\r\n",
    "import sys\r\n",
    "import numpy as np\r\n",
    "from sklearn.base import BaseEstimator, TransformerMixin\r\n",
    "from sklearn.model_selection import train_test_split, GridSearchCV\r\n",
    "from sklearn.ensemble import RandomForestRegressor\r\n",
    "from sklearn.preprocessing import StandardScaler, OneHotEncoder, LabelEncoder\r\n",
    "from sklearn.compose import ColumnTransformer\r\n",
    "from sklearn.pipeline import Pipeline\r\n",
    "from sklearn.impute import SimpleImputer\r\n",
    "import mlflow\r\n",
    "#import local libraries\r\n",
    "#Adding scripts path\r\n",
    "sys.path.append(os.path.abspath(os.path.join('..')))\r\n",
    "from scripts.data_loader import load_df_from_csv\r\n",
    "from scripts.ML_modelling_utils import *\r\n",
    "from scripts.results_pickler import ResultPickler\r\n",
    "from scripts.data_manipulation import DataManipulator\r\n",
    "from scripts.data_information import DataInfo\r\n",
    "from scripts.data_cleaner import DataCleaner"
   ],
   "outputs": [],
   "metadata": {}
  },
  {
   "cell_type": "code",
   "execution_count": 72,
   "source": [
    "results = ResultPickler()"
   ],
   "outputs": [],
   "metadata": {}
  },
  {
   "cell_type": "markdown",
   "source": [
    "## Loading Clean Data"
   ],
   "metadata": {}
  },
  {
   "cell_type": "code",
   "execution_count": 3,
   "source": [
    "clean_data = load_df_from_csv('../data/train.csv')\r\n",
    "y_values = clean_data['Sales']\r\n",
    "x_values = clean_data.drop(['Sales'],axis=1)"
   ],
   "outputs": [],
   "metadata": {}
  },
  {
   "cell_type": "markdown",
   "source": [
    "## Training using Random Forest Regressor"
   ],
   "metadata": {}
  },
  {
   "cell_type": "code",
   "execution_count": 4,
   "source": [
    "# Splitting Data (60,20,20)\r\n",
    "x_train, x_test, y_train, y_test = train_test_split(x_values, y_values, test_size=0.2, random_state=42)\r\n",
    "x_train, x_valid, y_train, y_valid = train_test_split(x_train, y_train, test_size=0.2, random_state=42)"
   ],
   "outputs": [],
   "metadata": {}
  },
  {
   "cell_type": "markdown",
   "source": [],
   "metadata": {}
  },
  {
   "cell_type": "code",
   "execution_count": 5,
   "source": [
    "mlflow.autolog(log_input_examples=True, log_model_signatures=True, log_models=True, silent=True)\r\n",
    "# Create a based model\r\n",
    "rf = RandomForestRegressor()\r\n",
    "with mlflow.start_run() as run:\r\n",
    "    rf.fit(x_train, y_train)\r\n",
    "\r\n",
    "    train_score = rf.score(x_train, y_train)\r\n",
    "    valid_score = rf.score(x_valid,y_valid)\r\n",
    "    valid_metrics = calculate_metrics(y_valid,rf.predict(x_valid),\"Validation \")\r\n",
    "    test_score = rf.score(x_test,y_test)\r\n",
    "    test_metrics = calculate_metrics(y_test, rf.predict(x_test), \"Test \")\r\n",
    "\r\n",
    "    mlflow.log_metric(\"Valid Score\", valid_score)\r\n",
    "    mlflow.log_metrics(valid_metrics)\r\n",
    "    mlflow.log_metric(\"Test Score\", test_score)\r\n",
    "    mlflow.log_metrics(test_metrics)\r\n",
    "    save_model(rf, test_metrics['Test RMSE Score'])\r\n"
   ],
   "outputs": [
    {
     "output_type": "stream",
     "name": "stderr",
     "text": [
      "Modelling Utilities:INFO->Validation  RMSE Score is: 23.20366%\n",
      "Modelling Utilities:INFO->Validation  R2 Square Score is: 94.64278%\n",
      "Modelling Utilities:INFO->Validation  MAE Score is: 13.35542%\n",
      "Modelling Utilities:INFO->Test  RMSE Score is: 23.24267%\n",
      "Modelling Utilities:INFO->Test  R2 Square Score is: 94.58028%\n",
      "Modelling Utilities:INFO->Test  MAE Score is: 13.36098%\n",
      "Modelling Utilities:ERROR->Failed to save model\n",
      "Traceback (most recent call last):\n",
      "  File \"d:\\10Academy\\Week 3\\pharmacy_sales_prediction\\scripts\\ML_modelling_utils.py\", line 40, in save_model\n",
      "    with open(file_name, 'wb') as handle:\n",
      "FileNotFoundError: [Errno 2] No such file or directory: '../model/31-07-2021-20-07-56-23.24%.pkl'\n"
     ]
    }
   ],
   "metadata": {}
  },
  {
   "cell_type": "code",
   "execution_count": 6,
   "source": [
    "train_score"
   ],
   "outputs": [
    {
     "output_type": "execute_result",
     "data": {
      "text/plain": [
       "0.9918316294617459"
      ]
     },
     "metadata": {},
     "execution_count": 6
    }
   ],
   "metadata": {}
  },
  {
   "cell_type": "code",
   "execution_count": 7,
   "source": [
    "valid_score"
   ],
   "outputs": [
    {
     "output_type": "execute_result",
     "data": {
      "text/plain": [
       "0.9464277876115708"
      ]
     },
     "metadata": {},
     "execution_count": 7
    }
   ],
   "metadata": {}
  },
  {
   "cell_type": "code",
   "execution_count": 8,
   "source": [
    "valid_metrics"
   ],
   "outputs": [
    {
     "output_type": "execute_result",
     "data": {
      "text/plain": [
       "{'Validation RMSE Score': 0.2320365947326469,\n",
       " 'Validation R2_Squared': 0.9464277876115708,\n",
       " 'Validation MAE Score': 0.13355418370087555}"
      ]
     },
     "metadata": {},
     "execution_count": 8
    }
   ],
   "metadata": {}
  },
  {
   "cell_type": "code",
   "execution_count": 9,
   "source": [
    "test_metrics\r\n"
   ],
   "outputs": [
    {
     "output_type": "execute_result",
     "data": {
      "text/plain": [
       "{'Test RMSE Score': 0.23242674862611581,\n",
       " 'Test R2_Squared': 0.9458027905681076,\n",
       " 'Test MAE Score': 0.133609822914164}"
      ]
     },
     "metadata": {},
     "execution_count": 9
    }
   ],
   "metadata": {}
  },
  {
   "cell_type": "code",
   "execution_count": 10,
   "source": [
    "features = pd.DataFrame()\r\n",
    "features[\"Feature\"] = x_train.columns\r\n",
    "features[\"Importance\"] = rf.feature_importances_\r\n",
    "features = features.sort_values(by='Importance', ascending=False)\r\n",
    "results.add_data('rf-normal-features',features)\r\n",
    "features"
   ],
   "outputs": [
    {
     "output_type": "execute_result",
     "data": {
      "text/plain": [
       "                      Feature  Importance\n",
       "7                        Open    0.460066\n",
       "15        CompetitionDistance    0.161513\n",
       "8                       Promo    0.073335\n",
       "17   CompetitionOpenSinceYear    0.050575\n",
       "16  CompetitionOpenSinceMonth    0.049606\n",
       "0                   DayOfWeek    0.033238\n",
       "19            Promo2SinceWeek    0.024697\n",
       "13                  StoreType    0.024501\n",
       "5                         Day    0.022847\n",
       "3                       Month    0.019423\n",
       "20            Promo2SinceYear    0.015926\n",
       "14                 Assortment    0.015057\n",
       "11              DaysToHoliday    0.012783\n",
       "21              PromoInterval    0.008791\n",
       "2                        Year    0.008054\n",
       "10           DaysAfterHoliday    0.004264\n",
       "18                     Promo2    0.003805\n",
       "1                     WeekDay    0.003664\n",
       "12              SchoolHoliday    0.002677\n",
       "4                      Season    0.002439\n",
       "6                 MonthTiming    0.001895\n",
       "9                StateHoliday    0.000844"
      ],
      "text/html": [
       "<div>\n",
       "<style scoped>\n",
       "    .dataframe tbody tr th:only-of-type {\n",
       "        vertical-align: middle;\n",
       "    }\n",
       "\n",
       "    .dataframe tbody tr th {\n",
       "        vertical-align: top;\n",
       "    }\n",
       "\n",
       "    .dataframe thead th {\n",
       "        text-align: right;\n",
       "    }\n",
       "</style>\n",
       "<table border=\"1\" class=\"dataframe\">\n",
       "  <thead>\n",
       "    <tr style=\"text-align: right;\">\n",
       "      <th></th>\n",
       "      <th>Feature</th>\n",
       "      <th>Importance</th>\n",
       "    </tr>\n",
       "  </thead>\n",
       "  <tbody>\n",
       "    <tr>\n",
       "      <th>7</th>\n",
       "      <td>Open</td>\n",
       "      <td>0.460066</td>\n",
       "    </tr>\n",
       "    <tr>\n",
       "      <th>15</th>\n",
       "      <td>CompetitionDistance</td>\n",
       "      <td>0.161513</td>\n",
       "    </tr>\n",
       "    <tr>\n",
       "      <th>8</th>\n",
       "      <td>Promo</td>\n",
       "      <td>0.073335</td>\n",
       "    </tr>\n",
       "    <tr>\n",
       "      <th>17</th>\n",
       "      <td>CompetitionOpenSinceYear</td>\n",
       "      <td>0.050575</td>\n",
       "    </tr>\n",
       "    <tr>\n",
       "      <th>16</th>\n",
       "      <td>CompetitionOpenSinceMonth</td>\n",
       "      <td>0.049606</td>\n",
       "    </tr>\n",
       "    <tr>\n",
       "      <th>0</th>\n",
       "      <td>DayOfWeek</td>\n",
       "      <td>0.033238</td>\n",
       "    </tr>\n",
       "    <tr>\n",
       "      <th>19</th>\n",
       "      <td>Promo2SinceWeek</td>\n",
       "      <td>0.024697</td>\n",
       "    </tr>\n",
       "    <tr>\n",
       "      <th>13</th>\n",
       "      <td>StoreType</td>\n",
       "      <td>0.024501</td>\n",
       "    </tr>\n",
       "    <tr>\n",
       "      <th>5</th>\n",
       "      <td>Day</td>\n",
       "      <td>0.022847</td>\n",
       "    </tr>\n",
       "    <tr>\n",
       "      <th>3</th>\n",
       "      <td>Month</td>\n",
       "      <td>0.019423</td>\n",
       "    </tr>\n",
       "    <tr>\n",
       "      <th>20</th>\n",
       "      <td>Promo2SinceYear</td>\n",
       "      <td>0.015926</td>\n",
       "    </tr>\n",
       "    <tr>\n",
       "      <th>14</th>\n",
       "      <td>Assortment</td>\n",
       "      <td>0.015057</td>\n",
       "    </tr>\n",
       "    <tr>\n",
       "      <th>11</th>\n",
       "      <td>DaysToHoliday</td>\n",
       "      <td>0.012783</td>\n",
       "    </tr>\n",
       "    <tr>\n",
       "      <th>21</th>\n",
       "      <td>PromoInterval</td>\n",
       "      <td>0.008791</td>\n",
       "    </tr>\n",
       "    <tr>\n",
       "      <th>2</th>\n",
       "      <td>Year</td>\n",
       "      <td>0.008054</td>\n",
       "    </tr>\n",
       "    <tr>\n",
       "      <th>10</th>\n",
       "      <td>DaysAfterHoliday</td>\n",
       "      <td>0.004264</td>\n",
       "    </tr>\n",
       "    <tr>\n",
       "      <th>18</th>\n",
       "      <td>Promo2</td>\n",
       "      <td>0.003805</td>\n",
       "    </tr>\n",
       "    <tr>\n",
       "      <th>1</th>\n",
       "      <td>WeekDay</td>\n",
       "      <td>0.003664</td>\n",
       "    </tr>\n",
       "    <tr>\n",
       "      <th>12</th>\n",
       "      <td>SchoolHoliday</td>\n",
       "      <td>0.002677</td>\n",
       "    </tr>\n",
       "    <tr>\n",
       "      <th>4</th>\n",
       "      <td>Season</td>\n",
       "      <td>0.002439</td>\n",
       "    </tr>\n",
       "    <tr>\n",
       "      <th>6</th>\n",
       "      <td>MonthTiming</td>\n",
       "      <td>0.001895</td>\n",
       "    </tr>\n",
       "    <tr>\n",
       "      <th>9</th>\n",
       "      <td>StateHoliday</td>\n",
       "      <td>0.000844</td>\n",
       "    </tr>\n",
       "  </tbody>\n",
       "</table>\n",
       "</div>"
      ]
     },
     "metadata": {},
     "execution_count": 10
    }
   ],
   "metadata": {}
  },
  {
   "cell_type": "markdown",
   "source": [
    "## Parameter Tunning"
   ],
   "metadata": {}
  },
  {
   "cell_type": "code",
   "execution_count": 14,
   "source": [
    "# Create the parameter grid based on the results of random search\r\n",
    "param_grid = {\r\n",
    "    'bootstrap': [True, False],\r\n",
    "    'criterion': ['mse'],\r\n",
    "    'max_depth': [10, 15, 20, 25],\r\n",
    "    'max_features': [2, 3, 4, 5],\r\n",
    "    'n_estimators': [10, 15, 20],\r\n",
    "    'warm_start': [True, False]\r\n",
    "}\r\n",
    "\r\n",
    "rf2 = RandomForestRegressor()\r\n",
    "# Instantiate the grid search model\r\n",
    "grid_search = GridSearchCV(estimator=rf2, param_grid=param_grid,\r\n",
    "                           cv=3, n_jobs=-1, verbose=0)\r\n"
   ],
   "outputs": [],
   "metadata": {}
  },
  {
   "cell_type": "markdown",
   "source": [
    "**MSE** is used to check how close estimates or forecasts are to actual values. Lower the MSE, the closer is forecast to actual."
   ],
   "metadata": {}
  },
  {
   "cell_type": "code",
   "execution_count": 6,
   "source": [
    "# Fit the grid search to the data\r\n",
    "mlflow.autolog(log_input_examples=True, log_model_signatures=True, log_models=True, silent=True)\r\n",
    "with mlflow.start_run() as run:\r\n",
    "    best_model = grid_search.fit(x_train, y_train)\r\n",
    "\r\n",
    "    train_score = best_model.score(x_train,y_train)\r\n",
    "    valid_score = best_model.score(x_valid, y_valid)\r\n",
    "    valid_metrics = calculate_metrics(\r\n",
    "        y_valid, best_model.predict(x_valid), \"Validation \")\r\n",
    "    test_score = best_model.score(x_test, y_test)\r\n",
    "    test_metrics = calculate_metrics(\r\n",
    "        y_test, best_model.predict(x_test), \"Test \")\r\n",
    "\r\n",
    "    mlflow.log_metric(\"Valid Score\", valid_score)\r\n",
    "    mlflow.log_metrics(valid_metrics)\r\n",
    "    mlflow.log_metric(\"Test Score\", test_score)\r\n",
    "    mlflow.log_metrics(test_metrics)\r\n"
   ],
   "outputs": [
    {
     "output_type": "stream",
     "name": "stderr",
     "text": [
      "Modelling Utilities:INFO->Validation  RMSE Score is: 32.79238%\n",
      "Modelling Utilities:INFO->Validation  R2 Square Score is: 89.30028%\n",
      "Modelling Utilities:INFO->Validation  MAE Score is: 20.01977%\n",
      "Modelling Utilities:INFO->Test  RMSE Score is: 32.47726%\n",
      "Modelling Utilities:INFO->Test  R2 Square Score is: 89.41810%\n",
      "Modelling Utilities:INFO->Test  MAE Score is: 19.87374%\n"
     ]
    }
   ],
   "metadata": {}
  },
  {
   "cell_type": "code",
   "execution_count": 7,
   "source": [
    "save_model(best_model, test_metrics['Test RMSE Score'])"
   ],
   "outputs": [],
   "metadata": {}
  },
  {
   "cell_type": "code",
   "execution_count": 8,
   "source": [
    "train_score"
   ],
   "outputs": [
    {
     "output_type": "execute_result",
     "data": {
      "text/plain": [
       "0.9629807562885361"
      ]
     },
     "metadata": {},
     "execution_count": 8
    }
   ],
   "metadata": {}
  },
  {
   "cell_type": "code",
   "execution_count": 9,
   "source": [
    "valid_score\r\n"
   ],
   "outputs": [
    {
     "output_type": "execute_result",
     "data": {
      "text/plain": [
       "0.8930027877918323"
      ]
     },
     "metadata": {},
     "execution_count": 9
    }
   ],
   "metadata": {}
  },
  {
   "cell_type": "code",
   "execution_count": 10,
   "source": [
    "valid_metrics"
   ],
   "outputs": [
    {
     "output_type": "execute_result",
     "data": {
      "text/plain": [
       "{'Validation RMSE Score': 0.32792378910963305,\n",
       " 'Validation R2_Squared': 0.8930027877918323,\n",
       " 'Validation MAE Score': 0.2001976505097582}"
      ]
     },
     "metadata": {},
     "execution_count": 10
    }
   ],
   "metadata": {}
  },
  {
   "cell_type": "code",
   "execution_count": 11,
   "source": [
    "test_metrics"
   ],
   "outputs": [
    {
     "output_type": "execute_result",
     "data": {
      "text/plain": [
       "{'Test RMSE Score': 0.32477261016869247,\n",
       " 'Test R2_Squared': 0.8941810365453975,\n",
       " 'Test MAE Score': 0.19873742418354615}"
      ]
     },
     "metadata": {},
     "execution_count": 11
    }
   ],
   "metadata": {}
  },
  {
   "cell_type": "code",
   "execution_count": 12,
   "source": [
    "best_model.best_params_\r\n"
   ],
   "outputs": [
    {
     "output_type": "execute_result",
     "data": {
      "text/plain": [
       "{'bootstrap': False,\n",
       " 'criterion': 'mse',\n",
       " 'max_depth': 25,\n",
       " 'max_features': 5,\n",
       " 'n_estimators': 25,\n",
       " 'warm_start': True}"
      ]
     },
     "metadata": {},
     "execution_count": 12
    }
   ],
   "metadata": {}
  },
  {
   "cell_type": "code",
   "execution_count": 13,
   "source": [
    "grid_features = pd.DataFrame()\r\n",
    "grid_features[\"Feature\"] = x_train.columns\r\n",
    "grid_features[\"Importance\"] = best_model.best_estimator_.feature_importances_\r\n",
    "features = grid_features.sort_values(by='Importance', ascending=False)\r\n",
    "results.add_data('grid-rf-features', features)\r\n",
    "features\r\n"
   ],
   "outputs": [
    {
     "output_type": "execute_result",
     "data": {
      "text/plain": [
       "                      Feature  Importance\n",
       "0                   DayOfWeek    0.246533\n",
       "7                        Open    0.169213\n",
       "15        CompetitionDistance    0.124757\n",
       "8                       Promo    0.090544\n",
       "1                     WeekDay    0.052159\n",
       "17   CompetitionOpenSinceYear    0.052151\n",
       "16  CompetitionOpenSinceMonth    0.048443\n",
       "9                StateHoliday    0.039020\n",
       "13                  StoreType    0.029305\n",
       "19            Promo2SinceWeek    0.022674\n",
       "5                         Day    0.022066\n",
       "20            Promo2SinceYear    0.019139\n",
       "14                 Assortment    0.018205\n",
       "3                       Month    0.018101\n",
       "11              DaysToHoliday    0.012733\n",
       "21              PromoInterval    0.008356\n",
       "2                        Year    0.006768\n",
       "10           DaysAfterHoliday    0.005347\n",
       "18                     Promo2    0.003772\n",
       "4                      Season    0.003635\n",
       "12              SchoolHoliday    0.003597\n",
       "6                 MonthTiming    0.003480"
      ],
      "text/html": [
       "<div>\n",
       "<style scoped>\n",
       "    .dataframe tbody tr th:only-of-type {\n",
       "        vertical-align: middle;\n",
       "    }\n",
       "\n",
       "    .dataframe tbody tr th {\n",
       "        vertical-align: top;\n",
       "    }\n",
       "\n",
       "    .dataframe thead th {\n",
       "        text-align: right;\n",
       "    }\n",
       "</style>\n",
       "<table border=\"1\" class=\"dataframe\">\n",
       "  <thead>\n",
       "    <tr style=\"text-align: right;\">\n",
       "      <th></th>\n",
       "      <th>Feature</th>\n",
       "      <th>Importance</th>\n",
       "    </tr>\n",
       "  </thead>\n",
       "  <tbody>\n",
       "    <tr>\n",
       "      <th>0</th>\n",
       "      <td>DayOfWeek</td>\n",
       "      <td>0.246533</td>\n",
       "    </tr>\n",
       "    <tr>\n",
       "      <th>7</th>\n",
       "      <td>Open</td>\n",
       "      <td>0.169213</td>\n",
       "    </tr>\n",
       "    <tr>\n",
       "      <th>15</th>\n",
       "      <td>CompetitionDistance</td>\n",
       "      <td>0.124757</td>\n",
       "    </tr>\n",
       "    <tr>\n",
       "      <th>8</th>\n",
       "      <td>Promo</td>\n",
       "      <td>0.090544</td>\n",
       "    </tr>\n",
       "    <tr>\n",
       "      <th>1</th>\n",
       "      <td>WeekDay</td>\n",
       "      <td>0.052159</td>\n",
       "    </tr>\n",
       "    <tr>\n",
       "      <th>17</th>\n",
       "      <td>CompetitionOpenSinceYear</td>\n",
       "      <td>0.052151</td>\n",
       "    </tr>\n",
       "    <tr>\n",
       "      <th>16</th>\n",
       "      <td>CompetitionOpenSinceMonth</td>\n",
       "      <td>0.048443</td>\n",
       "    </tr>\n",
       "    <tr>\n",
       "      <th>9</th>\n",
       "      <td>StateHoliday</td>\n",
       "      <td>0.039020</td>\n",
       "    </tr>\n",
       "    <tr>\n",
       "      <th>13</th>\n",
       "      <td>StoreType</td>\n",
       "      <td>0.029305</td>\n",
       "    </tr>\n",
       "    <tr>\n",
       "      <th>19</th>\n",
       "      <td>Promo2SinceWeek</td>\n",
       "      <td>0.022674</td>\n",
       "    </tr>\n",
       "    <tr>\n",
       "      <th>5</th>\n",
       "      <td>Day</td>\n",
       "      <td>0.022066</td>\n",
       "    </tr>\n",
       "    <tr>\n",
       "      <th>20</th>\n",
       "      <td>Promo2SinceYear</td>\n",
       "      <td>0.019139</td>\n",
       "    </tr>\n",
       "    <tr>\n",
       "      <th>14</th>\n",
       "      <td>Assortment</td>\n",
       "      <td>0.018205</td>\n",
       "    </tr>\n",
       "    <tr>\n",
       "      <th>3</th>\n",
       "      <td>Month</td>\n",
       "      <td>0.018101</td>\n",
       "    </tr>\n",
       "    <tr>\n",
       "      <th>11</th>\n",
       "      <td>DaysToHoliday</td>\n",
       "      <td>0.012733</td>\n",
       "    </tr>\n",
       "    <tr>\n",
       "      <th>21</th>\n",
       "      <td>PromoInterval</td>\n",
       "      <td>0.008356</td>\n",
       "    </tr>\n",
       "    <tr>\n",
       "      <th>2</th>\n",
       "      <td>Year</td>\n",
       "      <td>0.006768</td>\n",
       "    </tr>\n",
       "    <tr>\n",
       "      <th>10</th>\n",
       "      <td>DaysAfterHoliday</td>\n",
       "      <td>0.005347</td>\n",
       "    </tr>\n",
       "    <tr>\n",
       "      <th>18</th>\n",
       "      <td>Promo2</td>\n",
       "      <td>0.003772</td>\n",
       "    </tr>\n",
       "    <tr>\n",
       "      <th>4</th>\n",
       "      <td>Season</td>\n",
       "      <td>0.003635</td>\n",
       "    </tr>\n",
       "    <tr>\n",
       "      <th>12</th>\n",
       "      <td>SchoolHoliday</td>\n",
       "      <td>0.003597</td>\n",
       "    </tr>\n",
       "    <tr>\n",
       "      <th>6</th>\n",
       "      <td>MonthTiming</td>\n",
       "      <td>0.003480</td>\n",
       "    </tr>\n",
       "  </tbody>\n",
       "</table>\n",
       "</div>"
      ]
     },
     "metadata": {},
     "execution_count": 13
    }
   ],
   "metadata": {}
  },
  {
   "cell_type": "markdown",
   "source": [
    "# Using Pipeline"
   ],
   "metadata": {}
  },
  {
   "cell_type": "markdown",
   "source": [
    "## Loading just merged unclean data"
   ],
   "metadata": {}
  },
  {
   "cell_type": "code",
   "execution_count": 53,
   "source": [
    "merged_data = load_df_from_csv('../data/train.csv')\r\n",
    "y_values = merged_data['Sales']\r\n",
    "x_values = merged_data.drop(['Sales'], axis=1)"
   ],
   "outputs": [],
   "metadata": {}
  },
  {
   "cell_type": "markdown",
   "source": [
    "## Spliting Data Sets"
   ],
   "metadata": {}
  },
  {
   "cell_type": "code",
   "execution_count": 54,
   "source": [
    "# Splitting Data (60,20,20)\r\n",
    "x_train, x_test, y_train, y_test = train_test_split(x_values, y_values, test_size=0.2, random_state=42)\r\n",
    "x_train, x_valid, y_train, y_valid = train_test_split(x_train, y_train, test_size=0.2, random_state=42)"
   ],
   "outputs": [],
   "metadata": {}
  },
  {
   "cell_type": "markdown",
   "source": [
    "## Creating Transformers for our numeric and categorical data"
   ],
   "metadata": {}
  },
  {
   "cell_type": "code",
   "execution_count": 55,
   "source": [
    "class CustomMaxImputer(BaseEstimator, TransformerMixin):\r\n",
    "    def __init__(self):\r\n",
    "        super().__init__()\r\n",
    "        \r\n",
    "    def fit(self, X, y=0):\r\n",
    "        self.max_value = X.max()\r\n",
    "\r\n",
    "        return self\r\n",
    "\r\n",
    "    def transform(self, X, y=0):\r\n",
    "        return np.where(X.isna(), self.max_value, X)\r\n"
   ],
   "outputs": [],
   "metadata": {}
  },
  {
   "cell_type": "code",
   "execution_count": 41,
   "source": [
    "class CustomMostFrequentImputer(BaseEstimator, TransformerMixin):\r\n",
    "    def __init__(self):\r\n",
    "        super().__init__()\r\n",
    "\r\n",
    "    def fit(self, X, y=0):\r\n",
    "        most_occuring = Counter(X.flat).most_common(1)\r\n",
    "        self.mode_value = most_occuring[0][0]\r\n",
    "\r\n",
    "        return self\r\n",
    "\r\n",
    "    def transform(self, X, y=0):\r\n",
    "        return np.where(X.isna(), self.mode_value, X)\r\n"
   ],
   "outputs": [],
   "metadata": {}
  },
  {
   "cell_type": "code",
   "execution_count": 56,
   "source": [
    "numeric_transformer = Pipeline(steps=[\r\n",
    "    ('custom_max', CustomMaxImputer()),\r\n",
    "    ('scaler', StandardScaler())\r\n",
    "])\r\n",
    "categorical_transformer = Pipeline(steps=[\r\n",
    "    ('custom_mode', SimpleImputer(strategy='most_frequent')),\r\n",
    "    ('encoder', OneHotEncoder()),\r\n",
    "])\r\n"
   ],
   "outputs": [],
   "metadata": {}
  },
  {
   "cell_type": "markdown",
   "source": [
    "## Identifying our columns and passing it to a ColumnTransformer"
   ],
   "metadata": {}
  },
  {
   "cell_type": "code",
   "execution_count": 57,
   "source": [
    "# Scaling Sales column\r\n",
    "merged_data['Sales'] = numeric_transformer.fit_transform(merged_data[[\"Sales\"]])\r\n"
   ],
   "outputs": [],
   "metadata": {}
  },
  {
   "cell_type": "code",
   "execution_count": 58,
   "source": [
    "numeric_features = merged_data.select_dtypes(include=['int64', 'float64','uint8','uint16','float32']).columns\r\n",
    "\r\n",
    "categorical_features = merged_data.select_dtypes(include=['object']).columns\r\n",
    "\r\n",
    "class make_present_col_selector_class:\r\n",
    "    def __init__(self, selected_columns):\r\n",
    "        self.selected_columns = selected_columns\r\n",
    "\r\n",
    "    def __call__(self, df):\r\n",
    "        return [col for col in df.columns if col in self.selected_columns]\r\n",
    "\r\n",
    "preprocessor = ColumnTransformer(\r\n",
    "    transformers=[\r\n",
    "        ('numeric', numeric_transformer, make_present_col_selector_class(numeric_features)), \r\n",
    "        ('categorical', categorical_transformer, make_present_col_selector_class(categorical_features))\r\n",
    "    ])\r\n"
   ],
   "outputs": [],
   "metadata": {}
  },
  {
   "cell_type": "markdown",
   "source": [
    "## Creating our RandomForestClassifier Pipeline with our preprocessor"
   ],
   "metadata": {}
  },
  {
   "cell_type": "code",
   "execution_count": 16,
   "source": [
    "pipeline = Pipeline(steps=[\r\n",
    "    # ('preprocessor', preprocessor),\r\n",
    "    ('regressor', RandomForestRegressor())\r\n",
    "])\r\n"
   ],
   "outputs": [],
   "metadata": {}
  },
  {
   "cell_type": "markdown",
   "source": [
    "## Training Model using Pipeline"
   ],
   "metadata": {}
  },
  {
   "cell_type": "code",
   "execution_count": 60,
   "source": [
    "# Fit the pipeline with the data\r\n",
    "mlflow.autolog(log_input_examples=True, disable_for_unsupported_versions=True, silent=True)\r\n",
    "with mlflow.start_run() as run:\r\n",
    "    best_model = pipeline.fit(x_train, y_train)\r\n",
    "\r\n",
    "    train_score = best_model.score(x_train, y_train)\r\n",
    "    valid_score = best_model.score(x_valid, y_valid)\r\n",
    "    valid_metrics = calculate_metrics(y_valid, best_model.predict(x_valid))\r\n",
    "    test_score = best_model.score(x_test, y_test)\r\n",
    "    test_metrics = calculate_metrics(y_test, best_model.predict(x_test))\r\n",
    "\r\n",
    "    mlflow.log_metric(\"Valid Score\", valid_score)\r\n",
    "    mlflow.log_metrics(valid_metrics)\r\n",
    "    mlflow.log_metric(\"Test Score\", test_score)\r\n",
    "    mlflow.log_metrics(test_metrics)\r\n"
   ],
   "outputs": [],
   "metadata": {}
  },
  {
   "cell_type": "markdown",
   "source": [
    "## Parameter Tunning"
   ],
   "metadata": {}
  },
  {
   "cell_type": "code",
   "execution_count": 18,
   "source": [
    "# Create dictionary with candidate learning algorithms and their hyperparameters\r\n",
    "grid_param = [{\r\n",
    "    \"regressor\": [RandomForestRegressor()],\r\n",
    "    \"regressor__n_estimators\": [10, 15],\r\n",
    "    \"regressor__max_depth\":[5, 8, 15],\r\n",
    "    \"regressor__min_samples_leaf\":[1, 2],\r\n",
    "    \"regressor__bootstrap\": [True, False],\r\n",
    "    \"regressor__criterion\": ['mse'],\r\n",
    "    \"regressor__max_leaf_nodes\": [2, 5],\r\n",
    "    \"regressor__max_features\": [2, 3],\r\n",
    "    \"regressor__warm_start\": [True, False]\r\n",
    "}]\r\n",
    "     \r\n",
    "# create a gridsearch of the pipeline, the fit the best model\r\n",
    "grid_search_pipeline = GridSearchCV(\r\n",
    "    pipeline, grid_param, cv=3, verbose=0, n_jobs=-1)  # Fit grid search\r\n"
   ],
   "outputs": [],
   "metadata": {}
  },
  {
   "cell_type": "code",
   "execution_count": 19,
   "source": [
    "# Fit the grid search to the data\r\n",
    "with mlflow.start_run() as run:\r\n",
    "    best_model = grid_search_pipeline.fit(x_train, y_train)\r\n",
    "\r\n",
    "    train_score = best_model.score(x_train, y_train)\r\n",
    "    valid_score = best_model.score(x_valid, y_valid)\r\n",
    "    valid_metrics = calculate_metrics(y_valid, best_model.predict(x_valid))\r\n",
    "    test_score = best_model.score(x_test, y_test)\r\n",
    "    test_metrics = calculate_metrics(y_test, best_model.predict(x_test))\r\n",
    "\r\n",
    "    mlflow.log_metric(\"Valid Score\", valid_score)\r\n",
    "    mlflow.log_metrics(valid_metrics)\r\n",
    "    mlflow.log_metric(\"Test Score\", test_score)\r\n",
    "    mlflow.log_metrics(test_metrics)"
   ],
   "outputs": [
    {
     "output_type": "stream",
     "name": "stderr",
     "text": [
      "Modelling Utilities:INFO-> RMSE Score is: 74.64988%\n",
      "Modelling Utilities:INFO-> R2 Square Score is: 44.55214%\n",
      "Modelling Utilities:INFO-> MAE Score is: 54.91547%\n",
      "Modelling Utilities:INFO-> RMSE Score is: 74.16835%\n",
      "Modelling Utilities:INFO-> R2 Square Score is: 44.81235%\n",
      "Modelling Utilities:INFO-> MAE Score is: 54.87279%\n"
     ]
    }
   ],
   "metadata": {}
  },
  {
   "cell_type": "code",
   "execution_count": 23,
   "source": [
    "valid_metrics"
   ],
   "outputs": [
    {
     "output_type": "execute_result",
     "data": {
      "text/plain": [
       "{'RMSE Score': 0.7464987779476941,\n",
       " 'R2_Squared': 0.445521364001473,\n",
       " 'MAE Score': 0.5491547335224897}"
      ]
     },
     "metadata": {},
     "execution_count": 23
    }
   ],
   "metadata": {}
  },
  {
   "cell_type": "code",
   "execution_count": 22,
   "source": [
    "test_metrics"
   ],
   "outputs": [
    {
     "output_type": "execute_result",
     "data": {
      "text/plain": [
       "{'RMSE Score': 0.7416834902581729,\n",
       " 'R2_Squared': 0.44812345685733945,\n",
       " 'MAE Score': 0.5487279166109762}"
      ]
     },
     "metadata": {},
     "execution_count": 22
    }
   ],
   "metadata": {}
  },
  {
   "cell_type": "code",
   "execution_count": 24,
   "source": [
    "save_model(best_model, test_metrics['RMSE Score'])"
   ],
   "outputs": [],
   "metadata": {}
  },
  {
   "cell_type": "code",
   "execution_count": 20,
   "source": [
    "best_model.best_params_"
   ],
   "outputs": [
    {
     "output_type": "execute_result",
     "data": {
      "text/plain": [
       "{'regressor': RandomForestRegressor(bootstrap=False, max_depth=15, max_features=3,\n",
       "                       max_leaf_nodes=5, min_samples_leaf=2, n_estimators=10),\n",
       " 'regressor__bootstrap': False,\n",
       " 'regressor__criterion': 'mse',\n",
       " 'regressor__max_depth': 15,\n",
       " 'regressor__max_features': 3,\n",
       " 'regressor__max_leaf_nodes': 5,\n",
       " 'regressor__min_samples_leaf': 2,\n",
       " 'regressor__n_estimators': 10,\n",
       " 'regressor__warm_start': False}"
      ]
     },
     "metadata": {},
     "execution_count": 20
    }
   ],
   "metadata": {}
  },
  {
   "cell_type": "markdown",
   "source": [
    "## Saving Store Reference for prediction purpose"
   ],
   "metadata": {}
  },
  {
   "cell_type": "code",
   "execution_count": 73,
   "source": [
    "# Export Filled Store for model predicition use later\r\n",
    "store = load_df_from_csv('../data/store.csv')\r\n",
    "store_manipulatior = DataManipulator(store)\r\n",
    "store_info = DataInfo(store)\r\n",
    "store_cleaner = DataCleaner(store)"
   ],
   "outputs": [],
   "metadata": {}
  },
  {
   "cell_type": "code",
   "execution_count": 74,
   "source": [
    "store_info.get_missing_description()\r\n"
   ],
   "outputs": [
    {
     "output_type": "stream",
     "name": "stdout",
     "text": [
      "The total number of missing values is 2343\n",
      "21.01 % missing values.\n"
     ]
    }
   ],
   "metadata": {}
  },
  {
   "cell_type": "code",
   "execution_count": 75,
   "source": [
    "store_info.get_column_based_missing_percentage()"
   ],
   "outputs": [
    {
     "output_type": "execute_result",
     "data": {
      "text/plain": [
       "                           total_missing_values missing_percentage\n",
       "Store                                         0              0.0 %\n",
       "StoreType                                     0              0.0 %\n",
       "Assortment                                    0              0.0 %\n",
       "CompetitionDistance                           3             0.27 %\n",
       "CompetitionOpenSinceMonth                   354            31.75 %\n",
       "CompetitionOpenSinceYear                    354            31.75 %\n",
       "Promo2                                        0              0.0 %\n",
       "Promo2SinceWeek                             544            48.79 %\n",
       "Promo2SinceYear                             544            48.79 %\n",
       "PromoInterval                               544            48.79 %"
      ],
      "text/html": [
       "<div>\n",
       "<style scoped>\n",
       "    .dataframe tbody tr th:only-of-type {\n",
       "        vertical-align: middle;\n",
       "    }\n",
       "\n",
       "    .dataframe tbody tr th {\n",
       "        vertical-align: top;\n",
       "    }\n",
       "\n",
       "    .dataframe thead th {\n",
       "        text-align: right;\n",
       "    }\n",
       "</style>\n",
       "<table border=\"1\" class=\"dataframe\">\n",
       "  <thead>\n",
       "    <tr style=\"text-align: right;\">\n",
       "      <th></th>\n",
       "      <th>total_missing_values</th>\n",
       "      <th>missing_percentage</th>\n",
       "    </tr>\n",
       "  </thead>\n",
       "  <tbody>\n",
       "    <tr>\n",
       "      <th>Store</th>\n",
       "      <td>0</td>\n",
       "      <td>0.0 %</td>\n",
       "    </tr>\n",
       "    <tr>\n",
       "      <th>StoreType</th>\n",
       "      <td>0</td>\n",
       "      <td>0.0 %</td>\n",
       "    </tr>\n",
       "    <tr>\n",
       "      <th>Assortment</th>\n",
       "      <td>0</td>\n",
       "      <td>0.0 %</td>\n",
       "    </tr>\n",
       "    <tr>\n",
       "      <th>CompetitionDistance</th>\n",
       "      <td>3</td>\n",
       "      <td>0.27 %</td>\n",
       "    </tr>\n",
       "    <tr>\n",
       "      <th>CompetitionOpenSinceMonth</th>\n",
       "      <td>354</td>\n",
       "      <td>31.75 %</td>\n",
       "    </tr>\n",
       "    <tr>\n",
       "      <th>CompetitionOpenSinceYear</th>\n",
       "      <td>354</td>\n",
       "      <td>31.75 %</td>\n",
       "    </tr>\n",
       "    <tr>\n",
       "      <th>Promo2</th>\n",
       "      <td>0</td>\n",
       "      <td>0.0 %</td>\n",
       "    </tr>\n",
       "    <tr>\n",
       "      <th>Promo2SinceWeek</th>\n",
       "      <td>544</td>\n",
       "      <td>48.79 %</td>\n",
       "    </tr>\n",
       "    <tr>\n",
       "      <th>Promo2SinceYear</th>\n",
       "      <td>544</td>\n",
       "      <td>48.79 %</td>\n",
       "    </tr>\n",
       "    <tr>\n",
       "      <th>PromoInterval</th>\n",
       "      <td>544</td>\n",
       "      <td>48.79 %</td>\n",
       "    </tr>\n",
       "  </tbody>\n",
       "</table>\n",
       "</div>"
      ]
     },
     "metadata": {},
     "execution_count": 75
    }
   ],
   "metadata": {}
  },
  {
   "cell_type": "code",
   "execution_count": 76,
   "source": [
    "# Fill missing numeric values\r\n",
    "store_manipulatior.fill_columns_with_max(store_info.get_numeric_columns())\r\n",
    "# Fill non-numeric values (categorical values)\r\n",
    "store_manipulatior.fill_columns_with_most_frequent(store_info.get_object_columns())"
   ],
   "outputs": [],
   "metadata": {}
  },
  {
   "cell_type": "code",
   "execution_count": 77,
   "source": [
    "store_info.get_missing_description()"
   ],
   "outputs": [
    {
     "output_type": "stream",
     "name": "stdout",
     "text": [
      "The total number of missing values is 0\n",
      "0.0 % missing values.\n"
     ]
    }
   ],
   "metadata": {}
  },
  {
   "cell_type": "code",
   "execution_count": 78,
   "source": [
    "# Label Object Columns\r\n",
    "store_manipulatior.label_columns(store_info.get_object_columns())"
   ],
   "outputs": [
    {
     "output_type": "execute_result",
     "data": {
      "text/plain": [
       "{'StoreType': LabelEncoder(),\n",
       " 'Assortment': LabelEncoder(),\n",
       " 'PromoInterval': LabelEncoder()}"
      ]
     },
     "metadata": {},
     "execution_count": 78
    }
   ],
   "metadata": {}
  },
  {
   "cell_type": "code",
   "execution_count": 82,
   "source": [
    "store.info()"
   ],
   "outputs": [
    {
     "output_type": "stream",
     "name": "stdout",
     "text": [
      "<class 'pandas.core.frame.DataFrame'>\n",
      "RangeIndex: 1115 entries, 0 to 1114\n",
      "Data columns (total 10 columns):\n",
      " #   Column                     Non-Null Count  Dtype  \n",
      "---  ------                     --------------  -----  \n",
      " 0   Store                      1115 non-null   uint16 \n",
      " 1   StoreType                  1115 non-null   int32  \n",
      " 2   Assortment                 1115 non-null   int32  \n",
      " 3   CompetitionDistance        1115 non-null   float32\n",
      " 4   CompetitionOpenSinceMonth  1115 non-null   float32\n",
      " 5   CompetitionOpenSinceYear   1115 non-null   float32\n",
      " 6   Promo2                     1115 non-null   uint8  \n",
      " 7   Promo2SinceWeek            1115 non-null   float32\n",
      " 8   Promo2SinceYear            1115 non-null   float32\n",
      " 9   PromoInterval              1115 non-null   int32  \n",
      "dtypes: float32(5), int32(3), uint16(1), uint8(1)\n",
      "memory usage: 38.2 KB\n"
     ]
    }
   ],
   "metadata": {}
  },
  {
   "cell_type": "code",
   "execution_count": 80,
   "source": [
    "# Save cleaned store in models for reference\r\n",
    "store_cleaner.save_clean_data('../models/store_reference.csv')"
   ],
   "outputs": [],
   "metadata": {}
  },
  {
   "cell_type": "markdown",
   "source": [
    "## Saving Model Column Order Information For Prediciton Later"
   ],
   "metadata": {}
  },
  {
   "cell_type": "code",
   "execution_count": 68,
   "source": [
    "# Column Inputs Orders\r\n",
    "results.add_data('model_input_columns',x_train.columns.to_list())"
   ],
   "outputs": [],
   "metadata": {}
  },
  {
   "cell_type": "code",
   "execution_count": 69,
   "source": [
    "results.save_data('../models/column_reference.pkl')"
   ],
   "outputs": [],
   "metadata": {}
  },
  {
   "cell_type": "markdown",
   "source": [
    "# Prediciton Interval"
   ],
   "metadata": {}
  },
  {
   "cell_type": "code",
   "execution_count": 15,
   "source": [
    "# from sklearn.ensemble import GradientBoostingRegressor\r\n",
    "# # Set lower and upper quantile\r\n",
    "# LOWER_ALPHA = 0.1\r\n",
    "# UPPER_ALPHA = 0.9\r\n",
    "# # Each model has to be separate\r\n",
    "# lower_model = GradientBoostingRegressor(loss=\"quantile\",\r\n",
    "#                                         alpha=LOWER_ALPHA)\r\n",
    "# # The mid model will use the default loss\r\n",
    "# mid_model = GradientBoostingRegressor(loss=\"ls\")\r\n",
    "# upper_model = GradientBoostingRegressor(loss=\"quantile\",\r\n",
    "#                                         alpha=UPPER_ALPHA)\r\n"
   ],
   "outputs": [],
   "metadata": {}
  },
  {
   "cell_type": "code",
   "execution_count": 17,
   "source": [
    "# # Fit models\r\n",
    "# lower_model.fit(x_train, y_train)\r\n",
    "# mid_model.fit(x_train, y_train)\r\n",
    "# upper_model.fit(x_train, y_train)"
   ],
   "outputs": [],
   "metadata": {}
  },
  {
   "cell_type": "code",
   "execution_count": 19,
   "source": [
    "# # Record actual values on test set\r\n",
    "# predictions = pd.DataFrame(best_model.predict(x_test),columns=['model'])\r\n",
    "# # Predict\r\n",
    "# predictions['lower'] = lower_model.predict(x_test)\r\n",
    "# predictions['mid'] = mid_model.predict(x_test)\r\n",
    "# predictions['upper'] = upper_model.predict(x_test)\r\n"
   ],
   "outputs": [],
   "metadata": {}
  },
  {
   "cell_type": "code",
   "execution_count": 29,
   "source": [
    "# plt.figure(figsize=(20,10))\r\n",
    "# a = predictions['lower']\r\n",
    "# y = predictions.index\r\n",
    "# plt.plot(y, a)\r\n",
    "# plt.plot(predictions['model'], predicitons.index)\r\n",
    "# plt.plot(predictions['upper'], predicitons.index)\r\n"
   ],
   "outputs": [],
   "metadata": {}
  }
 ],
 "metadata": {
  "orig_nbformat": 4,
  "language_info": {
   "name": "python",
   "version": "3.8.4",
   "mimetype": "text/x-python",
   "codemirror_mode": {
    "name": "ipython",
    "version": 3
   },
   "pygments_lexer": "ipython3",
   "nbconvert_exporter": "python",
   "file_extension": ".py"
  },
  "kernelspec": {
   "name": "python3",
   "display_name": "Python 3.8.4 64-bit"
  },
  "interpreter": {
   "hash": "2db524e06e9f5f4ffedc911c917cb75e12dbc923643829bf417064a77eb14d37"
  }
 },
 "nbformat": 4,
 "nbformat_minor": 2
}